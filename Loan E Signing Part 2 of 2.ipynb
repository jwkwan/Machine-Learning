{
 "cells": [
  {
   "cell_type": "markdown",
   "metadata": {},
   "source": [
    "Part 2 will be the actual machine learning modelling"
   ]
  },
  {
   "cell_type": "code",
   "execution_count": 48,
   "metadata": {},
   "outputs": [],
   "source": [
    "import pandas as pd\n",
    "import numpy as np\n",
    "import matplotlib.pyplot as plt\n",
    "import seaborn as sn\n",
    "import random\n",
    "import time"
   ]
  },
  {
   "cell_type": "code",
   "execution_count": 2,
   "metadata": {},
   "outputs": [],
   "source": [
    "# read the preprocessed file\n",
    "df1=pd.read_csv('new-financial-data.csv')"
   ]
  },
  {
   "cell_type": "code",
   "execution_count": 3,
   "metadata": {},
   "outputs": [],
   "source": [
    "## Data Preparation\n",
    "entry_id=df1['entry_id']\n",
    "df1=df1.drop(columns='entry_id')"
   ]
  },
  {
   "cell_type": "code",
   "execution_count": 4,
   "metadata": {},
   "outputs": [],
   "source": [
    "# One Hot Encoding\n",
    "df1=pd.get_dummies(df1)     # Transform object into numeric by separate each object values as a column.\n",
    "#df1=df1.drop(columns = ['housing_na', 'zodiac_sign_na', 'payment_type_na'])  # drop na columns"
   ]
  },
  {
   "cell_type": "code",
   "execution_count": 5,
   "metadata": {},
   "outputs": [],
   "source": [
    "# Call train_test_split to create train and test data\n",
    "\n",
    "from sklearn.model_selection import train_test_split\n",
    "X_train, X_test, y_train, y_test = train_test_split(df1.drop(columns=['e_signed']),    # X values\n",
    "                                                    df1['e_signed'],                   # y values\n",
    "                                                    test_size = 0.2,                   # percentage for test\n",
    "                                                    random_state=0)                    # randam seed\n"
   ]
  },
  {
   "cell_type": "code",
   "execution_count": 6,
   "metadata": {},
   "outputs": [],
   "source": [
    "## Balancing the training set\n",
    "## Need a more balance +/- eg same number of positive and negative \n",
    "pos_index = y_train[y_train.values==1].index # get the index of all positive value\n",
    "neg_index = y_train[y_train.values==0].index # get the index of all positive value\n",
    "\n",
    "if len(pos_index) > len(neg_index):  # determine which has more entries\n",
    "    higher = pos_index\n",
    "    lower  = neg_index\n",
    "else:\n",
    "    higher = neg_index\n",
    "    lower  = pos_index\n",
    "\n",
    "random.seed(0)\n",
    "\n",
    "# This will generate random number of entries\n",
    "higher = np.random.choice(higher, size=len(lower))  \n",
    "lower  = np.asarray(lower)        # to make lower the same array as higher\n",
    "new_indexes = np.concatenate((higher,lower))\n",
    "\n",
    "X_train = X_train.loc[new_indexes,]\n",
    "y_train = y_train.loc[new_indexes,]"
   ]
  },
  {
   "cell_type": "markdown",
   "metadata": {},
   "source": [
    "---\n",
    "Normalize the data for better fitting\n"
   ]
  },
  {
   "cell_type": "code",
   "execution_count": 7,
   "metadata": {},
   "outputs": [],
   "source": [
    "## Feature scaling (normalization)\n",
    "from sklearn.preprocessing import StandardScaler\n",
    "sc_X = StandardScaler()\n",
    "X_train2 = pd.DataFrame(sc_X.fit_transform(X_train))\n",
    "X_test2  = pd.DataFrame(sc_X.fit_transform(X_test))\n",
    "## Add columns for train2 and test2\n",
    "X_train2.columns = X_train.columns.values\n",
    "X_test2.columns  = X_test.columns.values\n",
    "\n",
    "X_train2.index = X_train.index.values\n",
    "X_test2.index = X_test.index.values\n",
    "\n",
    "X_train = X_train2\n",
    "X_test  = X_test2"
   ]
  },
  {
   "cell_type": "markdown",
   "metadata": {},
   "source": [
    "---\n",
    "Fitting a model - Using Logistic Regression"
   ]
  },
  {
   "cell_type": "code",
   "execution_count": 8,
   "metadata": {},
   "outputs": [
    {
     "name": "stderr",
     "output_type": "stream",
     "text": [
      "/Users/jameskw@us.ibm.com/anaconda3/lib/python3.7/site-packages/sklearn/linear_model/logistic.py:432: FutureWarning: Default solver will be changed to 'lbfgs' in 0.22. Specify a solver to silence this warning.\n",
      "  FutureWarning)\n"
     ]
    }
   ],
   "source": [
    "from sklearn.linear_model import LogisticRegression\n",
    "\n",
    "classifier=LogisticRegression(random_state=0)  # create a logistic Regression Model\n",
    "classifier.fit(X_train, y_train)               # fit the model with train data\n",
    "\n",
    "\n",
    "y_pred=classifier.predict(X_test)              # Use Test data to create a predicated data\n",
    "\n",
    "# To evaluate the results\n",
    "\n",
    "from sklearn.metrics import confusion_matrix, accuracy_score,f1_score, \\\n",
    "                            precision_score,recall_score\n",
    "\n",
    "cm=confusion_matrix(y_test,y_pred)          # confusion matrix\n",
    "accuracy = accuracy_score(y_test,y_pred)    # Accuracy score\n",
    "f1 = f1_score(y_test,y_pred)                # F1 score is similar to accuracy score\n",
    "precision = precision_score(y_test,y_pred)\n",
    "recall = recall_score(y_test,y_pred)\n"
   ]
  },
  {
   "cell_type": "code",
   "execution_count": 9,
   "metadata": {},
   "outputs": [
    {
     "name": "stdout",
     "output_type": "stream",
     "text": [
      "cm= [[ 936  718]\n",
      " [ 861 1067]]\n",
      "accuracy score= 0.5591848129536572\n",
      "f1 score= 0.5747374091031511\n",
      "precision score= 0.5977591036414566\n",
      "recall score= 0.5534232365145229\n"
     ]
    }
   ],
   "source": [
    "print('cm=',cm) \n",
    "print('accuracy score=', accuracy)\n",
    "print('f1 score=', f1)\n",
    "print('precision score=', precision)\n",
    "print('recall score=', recall)"
   ]
  },
  {
   "cell_type": "code",
   "execution_count": 10,
   "metadata": {},
   "outputs": [
    {
     "name": "stdout",
     "output_type": "stream",
     "text": [
      "Test Data Accuracy: 0.5592\n"
     ]
    },
    {
     "data": {
      "image/png": "[encoded data removed]",
      "text/plain": [
       "<Figure size 720x504 with 2 Axes>"
      ]
     },
     "metadata": {
      "needs_background": "light"
     },
     "output_type": "display_data"
    }
   ],
   "source": [
    "## create a heatmap \n",
    "df_cm=pd.DataFrame(cm, index=(0,1), columns =(0,1))\n",
    "plt.figure(figsize=(10,7))\n",
    "sn.set(font_scale=1.4)\n",
    "sn.heatmap(df_cm, annot=True, fmt='g')\n",
    "print(\"Test Data Accuracy: %0.4f\"% accuracy_score(y_test,y_pred))"
   ]
  },
  {
   "cell_type": "code",
   "execution_count": 11,
   "metadata": {},
   "outputs": [
    {
     "name": "stderr",
     "output_type": "stream",
     "text": [
      "/Users/jameskw@us.ibm.com/anaconda3/lib/python3.7/site-packages/sklearn/linear_model/logistic.py:432: FutureWarning: Default solver will be changed to 'lbfgs' in 0.22. Specify a solver to silence this warning.\n",
      "  FutureWarning)\n",
      "/Users/jameskw@us.ibm.com/anaconda3/lib/python3.7/site-packages/sklearn/linear_model/logistic.py:432: FutureWarning: Default solver will be changed to 'lbfgs' in 0.22. Specify a solver to silence this warning.\n",
      "  FutureWarning)\n",
      "/Users/jameskw@us.ibm.com/anaconda3/lib/python3.7/site-packages/sklearn/linear_model/logistic.py:432: FutureWarning: Default solver will be changed to 'lbfgs' in 0.22. Specify a solver to silence this warning.\n",
      "  FutureWarning)\n",
      "/Users/jameskw@us.ibm.com/anaconda3/lib/python3.7/site-packages/sklearn/linear_model/logistic.py:432: FutureWarning: Default solver will be changed to 'lbfgs' in 0.22. Specify a solver to silence this warning.\n",
      "  FutureWarning)\n",
      "/Users/jameskw@us.ibm.com/anaconda3/lib/python3.7/site-packages/sklearn/linear_model/logistic.py:432: FutureWarning: Default solver will be changed to 'lbfgs' in 0.22. Specify a solver to silence this warning.\n",
      "  FutureWarning)\n",
      "/Users/jameskw@us.ibm.com/anaconda3/lib/python3.7/site-packages/sklearn/linear_model/logistic.py:432: FutureWarning: Default solver will be changed to 'lbfgs' in 0.22. Specify a solver to silence this warning.\n",
      "  FutureWarning)\n",
      "/Users/jameskw@us.ibm.com/anaconda3/lib/python3.7/site-packages/sklearn/linear_model/logistic.py:432: FutureWarning: Default solver will be changed to 'lbfgs' in 0.22. Specify a solver to silence this warning.\n",
      "  FutureWarning)\n",
      "/Users/jameskw@us.ibm.com/anaconda3/lib/python3.7/site-packages/sklearn/linear_model/logistic.py:432: FutureWarning: Default solver will be changed to 'lbfgs' in 0.22. Specify a solver to silence this warning.\n",
      "  FutureWarning)\n",
      "/Users/jameskw@us.ibm.com/anaconda3/lib/python3.7/site-packages/sklearn/linear_model/logistic.py:432: FutureWarning: Default solver will be changed to 'lbfgs' in 0.22. Specify a solver to silence this warning.\n",
      "  FutureWarning)\n"
     ]
    },
    {
     "name": "stdout",
     "output_type": "stream",
     "text": [
      "Logistic Accuracy: 0.572 (+/- 0.018)\n"
     ]
    },
    {
     "name": "stderr",
     "output_type": "stream",
     "text": [
      "/Users/jameskw@us.ibm.com/anaconda3/lib/python3.7/site-packages/sklearn/linear_model/logistic.py:432: FutureWarning: Default solver will be changed to 'lbfgs' in 0.22. Specify a solver to silence this warning.\n",
      "  FutureWarning)\n"
     ]
    }
   ],
   "source": [
    "# cross validation \n",
    "from sklearn.model_selection import cross_val_score\n",
    "accuracies= cross_val_score(estimator=classifier, X=X_train, y=y_train, cv=10)\n",
    "print(\"Logistic Accuracy: %0.3f (+/- %0.3f)\" % (accuracies.mean(),accuracies.std() * 2))"
   ]
  },
  {
   "cell_type": "code",
   "execution_count": 12,
   "metadata": {
    "scrolled": true
   },
   "outputs": [
    {
     "data": {
      "text/html": [
       "<div>\n",
       "<style scoped>\n",
       "    .dataframe tbody tr th:only-of-type {\n",
       "        vertical-align: middle;\n",
       "    }\n",
       "\n",
       "    .dataframe tbody tr th {\n",
       "        vertical-align: top;\n",
       "    }\n",
       "\n",
       "    .dataframe thead th {\n",
       "        text-align: right;\n",
       "    }\n",
       "</style>\n",
       "<table border=\"1\" class=\"dataframe\">\n",
       "  <thead>\n",
       "    <tr style=\"text-align: right;\">\n",
       "      <th></th>\n",
       "      <th>features</th>\n",
       "      <th>coef</th>\n",
       "    </tr>\n",
       "  </thead>\n",
       "  <tbody>\n",
       "    <tr>\n",
       "      <th>0</th>\n",
       "      <td>age</td>\n",
       "      <td>-0.230236</td>\n",
       "    </tr>\n",
       "    <tr>\n",
       "      <th>1</th>\n",
       "      <td>home_owner</td>\n",
       "      <td>-0.106375</td>\n",
       "    </tr>\n",
       "    <tr>\n",
       "      <th>2</th>\n",
       "      <td>income</td>\n",
       "      <td>0.070034</td>\n",
       "    </tr>\n",
       "    <tr>\n",
       "      <th>3</th>\n",
       "      <td>current_address_year</td>\n",
       "      <td>-0.017985</td>\n",
       "    </tr>\n",
       "    <tr>\n",
       "      <th>4</th>\n",
       "      <td>has_debt</td>\n",
       "      <td>0.076368</td>\n",
       "    </tr>\n",
       "    <tr>\n",
       "      <th>5</th>\n",
       "      <td>amount_requested</td>\n",
       "      <td>0.090311</td>\n",
       "    </tr>\n",
       "    <tr>\n",
       "      <th>6</th>\n",
       "      <td>risk_score</td>\n",
       "      <td>0.218585</td>\n",
       "    </tr>\n",
       "    <tr>\n",
       "      <th>7</th>\n",
       "      <td>risk_score_2</td>\n",
       "      <td>0.008230</td>\n",
       "    </tr>\n",
       "    <tr>\n",
       "      <th>8</th>\n",
       "      <td>risk_score_3</td>\n",
       "      <td>-0.078583</td>\n",
       "    </tr>\n",
       "    <tr>\n",
       "      <th>9</th>\n",
       "      <td>risk_score_4</td>\n",
       "      <td>-0.002469</td>\n",
       "    </tr>\n",
       "    <tr>\n",
       "      <th>10</th>\n",
       "      <td>risk_score_5</td>\n",
       "      <td>0.004658</td>\n",
       "    </tr>\n",
       "    <tr>\n",
       "      <th>11</th>\n",
       "      <td>ext_quality_score</td>\n",
       "      <td>-0.061248</td>\n",
       "    </tr>\n",
       "    <tr>\n",
       "      <th>12</th>\n",
       "      <td>ext_quality_score_2</td>\n",
       "      <td>-0.038151</td>\n",
       "    </tr>\n",
       "    <tr>\n",
       "      <th>13</th>\n",
       "      <td>inquiries_last_month</td>\n",
       "      <td>-0.008092</td>\n",
       "    </tr>\n",
       "    <tr>\n",
       "      <th>14</th>\n",
       "      <td>total_months_employed</td>\n",
       "      <td>0.009840</td>\n",
       "    </tr>\n",
       "    <tr>\n",
       "      <th>15</th>\n",
       "      <td>personal_account_t</td>\n",
       "      <td>-0.054212</td>\n",
       "    </tr>\n",
       "    <tr>\n",
       "      <th>16</th>\n",
       "      <td>pay_schedule_bi-weekly</td>\n",
       "      <td>-0.037356</td>\n",
       "    </tr>\n",
       "    <tr>\n",
       "      <th>17</th>\n",
       "      <td>pay_schedule_monthly</td>\n",
       "      <td>0.044100</td>\n",
       "    </tr>\n",
       "    <tr>\n",
       "      <th>18</th>\n",
       "      <td>pay_schedule_semi-monthly</td>\n",
       "      <td>0.050077</td>\n",
       "    </tr>\n",
       "    <tr>\n",
       "      <th>19</th>\n",
       "      <td>pay_schedule_weekly</td>\n",
       "      <td>-0.024233</td>\n",
       "    </tr>\n",
       "  </tbody>\n",
       "</table>\n",
       "</div>"
      ],
      "text/plain": [
       "                     features      coef\n",
       "0                         age -0.230236\n",
       "1                  home_owner -0.106375\n",
       "2                      income  0.070034\n",
       "3        current_address_year -0.017985\n",
       "4                    has_debt  0.076368\n",
       "5            amount_requested  0.090311\n",
       "6                  risk_score  0.218585\n",
       "7                risk_score_2  0.008230\n",
       "8                risk_score_3 -0.078583\n",
       "9                risk_score_4 -0.002469\n",
       "10               risk_score_5  0.004658\n",
       "11          ext_quality_score -0.061248\n",
       "12        ext_quality_score_2 -0.038151\n",
       "13       inquiries_last_month -0.008092\n",
       "14      total_months_employed  0.009840\n",
       "15         personal_account_t -0.054212\n",
       "16     pay_schedule_bi-weekly -0.037356\n",
       "17       pay_schedule_monthly  0.044100\n",
       "18  pay_schedule_semi-monthly  0.050077\n",
       "19        pay_schedule_weekly -0.024233"
      ]
     },
     "execution_count": 12,
     "metadata": {},
     "output_type": "execute_result"
    }
   ],
   "source": [
    "# Analyzing Coefficients  = theta in the linear equation function?\n",
    "# higher coef values meaning more weight on the overall evaluation of the result.\n",
    "# eg purchases and purchases_partners\n",
    "\n",
    "\n",
    "pd.concat([pd.DataFrame(X_train.columns, columns = ['features']),\n",
    "           pd.DataFrame(np.transpose(classifier.coef_), columns=['coef'])],\n",
    "           axis = 1)"
   ]
  },
  {
   "cell_type": "code",
   "execution_count": 13,
   "metadata": {
    "scrolled": true
   },
   "outputs": [
    {
     "name": "stderr",
     "output_type": "stream",
     "text": [
      "/Users/jameskw@us.ibm.com/anaconda3/lib/python3.7/site-packages/sklearn/linear_model/logistic.py:432: FutureWarning: Default solver will be changed to 'lbfgs' in 0.22. Specify a solver to silence this warning.\n",
      "  FutureWarning)\n",
      "/Users/jameskw@us.ibm.com/anaconda3/lib/python3.7/site-packages/sklearn/linear_model/logistic.py:432: FutureWarning: Default solver will be changed to 'lbfgs' in 0.22. Specify a solver to silence this warning.\n",
      "  FutureWarning)\n",
      "/Users/jameskw@us.ibm.com/anaconda3/lib/python3.7/site-packages/sklearn/linear_model/logistic.py:432: FutureWarning: Default solver will be changed to 'lbfgs' in 0.22. Specify a solver to silence this warning.\n",
      "  FutureWarning)\n",
      "/Users/jameskw@us.ibm.com/anaconda3/lib/python3.7/site-packages/sklearn/linear_model/logistic.py:432: FutureWarning: Default solver will be changed to 'lbfgs' in 0.22. Specify a solver to silence this warning.\n",
      "  FutureWarning)\n",
      "/Users/jameskw@us.ibm.com/anaconda3/lib/python3.7/site-packages/sklearn/linear_model/logistic.py:432: FutureWarning: Default solver will be changed to 'lbfgs' in 0.22. Specify a solver to silence this warning.\n",
      "  FutureWarning)\n",
      "/Users/jameskw@us.ibm.com/anaconda3/lib/python3.7/site-packages/sklearn/linear_model/logistic.py:432: FutureWarning: Default solver will be changed to 'lbfgs' in 0.22. Specify a solver to silence this warning.\n",
      "  FutureWarning)\n",
      "/Users/jameskw@us.ibm.com/anaconda3/lib/python3.7/site-packages/sklearn/linear_model/logistic.py:432: FutureWarning: Default solver will be changed to 'lbfgs' in 0.22. Specify a solver to silence this warning.\n",
      "  FutureWarning)\n",
      "/Users/jameskw@us.ibm.com/anaconda3/lib/python3.7/site-packages/sklearn/linear_model/logistic.py:432: FutureWarning: Default solver will be changed to 'lbfgs' in 0.22. Specify a solver to silence this warning.\n",
      "  FutureWarning)\n",
      "/Users/jameskw@us.ibm.com/anaconda3/lib/python3.7/site-packages/sklearn/linear_model/logistic.py:432: FutureWarning: Default solver will be changed to 'lbfgs' in 0.22. Specify a solver to silence this warning.\n",
      "  FutureWarning)\n",
      "/Users/jameskw@us.ibm.com/anaconda3/lib/python3.7/site-packages/sklearn/linear_model/logistic.py:432: FutureWarning: Default solver will be changed to 'lbfgs' in 0.22. Specify a solver to silence this warning.\n",
      "  FutureWarning)\n",
      "/Users/jameskw@us.ibm.com/anaconda3/lib/python3.7/site-packages/sklearn/linear_model/logistic.py:432: FutureWarning: Default solver will be changed to 'lbfgs' in 0.22. Specify a solver to silence this warning.\n",
      "  FutureWarning)\n"
     ]
    }
   ],
   "source": [
    "## features Selection\n",
    "\n",
    "from sklearn.feature_selection import RFE     # What is RFE?\n",
    "from sklearn.linear_model import LogisticRegression\n",
    "\n",
    "classifier = LogisticRegression()  # Create a new classifier?\n",
    "rfe = RFE(classifier, 10)          # Will use 20 columns\n",
    "rfe = rfe.fit(X_train, y_train)"
   ]
  },
  {
   "cell_type": "code",
   "execution_count": null,
   "metadata": {},
   "outputs": [],
   "source": []
  },
  {
   "cell_type": "code",
   "execution_count": 14,
   "metadata": {},
   "outputs": [
    {
     "data": {
      "text/plain": [
       "Index(['age', 'home_owner', 'income', 'has_debt', 'amount_requested',\n",
       "       'risk_score', 'risk_score_3', 'ext_quality_score',\n",
       "       'pay_schedule_monthly', 'pay_schedule_semi-monthly'],\n",
       "      dtype='object')"
      ]
     },
     "execution_count": 14,
     "metadata": {},
     "output_type": "execute_result"
    }
   ],
   "source": [
    "pd.concat([pd.DataFrame(X_train.columns, columns = ['features']),\n",
    "           pd.DataFrame(np.transpose(rfe.support_), columns=['support'])],\n",
    "           axis = 1)\n",
    "X_train.columns[rfe.support_]"
   ]
  },
  {
   "cell_type": "markdown",
   "metadata": {},
   "source": [
    "---\n",
    "We can continue witht the sub columns but "
   ]
  },
  {
   "cell_type": "code",
   "execution_count": null,
   "metadata": {},
   "outputs": [],
   "source": []
  },
  {
   "cell_type": "code",
   "execution_count": 15,
   "metadata": {
    "scrolled": true
   },
   "outputs": [],
   "source": [
    "#print(\"df1.head() : \\n\",df1.head())\n",
    "#print(\"df1.info()\",df1.info())\n",
    "#print(\"df1.describe()\\n\",df1.describe())\n",
    "#df1.dtypes==object\n",
    "#print(\"df1.columns : \\n\",df1.columns)\n",
    "#print(\"df1.columns type: \\n\",df1.dtypes)\n",
    "\n",
    "#print(X_train[:5])\n",
    "#print(X_train.shape)\n",
    "#print(y_train.shape)\n",
    "\n",
    "#print(X_test.shape)\n",
    "#print(y_test.shape)\n",
    "\n",
    "#print(y_train.value_counts())\n",
    "#print(y_test.value_counts())\n",
    "\n",
    "#print(X_test.head())\n",
    "#print(y_train.head())\n",
    "#print(y_test.head())"
   ]
  },
  {
   "cell_type": "markdown",
   "metadata": {},
   "source": [
    "---\n",
    "Since the result of the logistic is not very good, lets try another fitting model.\n"
   ]
  },
  {
   "cell_type": "code",
   "execution_count": 33,
   "metadata": {},
   "outputs": [
    {
     "name": "stderr",
     "output_type": "stream",
     "text": [
      "/Users/jameskw@us.ibm.com/anaconda3/lib/python3.7/site-packages/sklearn/linear_model/logistic.py:432: FutureWarning: Default solver will be changed to 'lbfgs' in 0.22. Specify a solver to silence this warning.\n",
      "  FutureWarning)\n"
     ]
    }
   ],
   "source": [
    "from sklearn.linear_model import LogisticRegression\n",
    "\n",
    "classifier=LogisticRegression(random_state=0)  # create a logistic Regression Model\n",
    "classifier.fit(X_train, y_train)               # fit the model with train data\n",
    "\n",
    "\n",
    "y_pred=classifier.predict(X_test)              # Use Test data to create a predicated data\n",
    "\n",
    "# To evaluate the results\n",
    "\n",
    "from sklearn.metrics import confusion_matrix, accuracy_score,f1_score, \\\n",
    "                            precision_score,recall_score\n",
    "\n",
    "cm=confusion_matrix(y_test,y_pred)          # confusion matrix\n",
    "accuracy = accuracy_score(y_test,y_pred)    # Accuracy score\n",
    "f1 = f1_score(y_test,y_pred)                # F1 score is similar to accuracy score\n",
    "precision = precision_score(y_test,y_pred)\n",
    "recall = recall_score(y_test,y_pred)\n",
    "\n",
    "results=pd.DataFrame([['Linear Regression (Lasso)', accuracy, precision, recall, f1]],\n",
    "                    columns = ['Model','Accuracy', 'precision', 'recall', 'f1'])"
   ]
  },
  {
   "cell_type": "code",
   "execution_count": 34,
   "metadata": {},
   "outputs": [
    {
     "name": "stdout",
     "output_type": "stream",
     "text": [
      "results\n",
      "                        Model  Accuracy  precision    recall        f1\n",
      "0  Linear Regression (Lasso)  0.559185   0.597759  0.553423  0.574737\n"
     ]
    }
   ],
   "source": [
    "# Print out the scores\n",
    "\n",
    "print('results\\n', results)"
   ]
  },
  {
   "cell_type": "code",
   "execution_count": 35,
   "metadata": {},
   "outputs": [],
   "source": [
    "# SVM\n",
    "from sklearn.svm import SVC\n",
    "classifier=SVC(random_state=0, kernel='linear' )  # create a SVC Model\n",
    "classifier.fit(X_train, y_train)               # fit the model with train data\n",
    "\n",
    "\n",
    "y_pred=classifier.predict(X_test)              # Use Test data to create a predicated data\n",
    "\n",
    "# To evaluate the results\n",
    "\n",
    "from sklearn.metrics import confusion_matrix, accuracy_score,f1_score, \\\n",
    "                            precision_score,recall_score\n",
    "\n",
    "cm=confusion_matrix(y_test,y_pred)          # confusion matrix\n",
    "accuracy = accuracy_score(y_test,y_pred)    # Accuracy score\n",
    "f1 = f1_score(y_test,y_pred)                # F1 score is similar to accuracy score\n",
    "precision = precision_score(y_test,y_pred)\n",
    "recall = recall_score(y_test,y_pred)\n",
    "\n",
    "model_results=pd.DataFrame([['SVC Model', accuracy, precision, recall, f1]],\n",
    "                    columns = ['Model','Accuracy', 'precision', 'recall', 'f1'])\n",
    "results=results.append(model_results, ignore_index=True)"
   ]
  },
  {
   "cell_type": "code",
   "execution_count": 36,
   "metadata": {},
   "outputs": [
    {
     "name": "stdout",
     "output_type": "stream",
     "text": [
      "results\n",
      "                        Model  Accuracy  precision    recall        f1\n",
      "0  Linear Regression (Lasso)  0.559185   0.597759  0.553423  0.574737\n",
      "1                  SVC Model  0.558906   0.597973  0.550830  0.573434\n"
     ]
    }
   ],
   "source": [
    "# Print out the scores\n",
    "\n",
    "print('results\\n', results)"
   ]
  },
  {
   "cell_type": "code",
   "execution_count": 37,
   "metadata": {},
   "outputs": [],
   "source": [
    "# SVC RBF\n",
    "from sklearn.svm import SVC\n",
    "classifier=SVC(random_state=0, kernel='rbf' )  # create a SVC Model\n",
    "classifier.fit(X_train, y_train)               # fit the model with train data\n",
    "\n",
    "\n",
    "y_pred=classifier.predict(X_test)              # Use Test data to create a predicated data\n",
    "\n",
    "# To evaluate the results\n",
    "\n",
    "from sklearn.metrics import confusion_matrix, accuracy_score,f1_score, \\\n",
    "                            precision_score,recall_score\n",
    "\n",
    "cm=confusion_matrix(y_test,y_pred)          # confusion matrix\n",
    "accuracy = accuracy_score(y_test,y_pred)    # Accuracy score\n",
    "f1 = f1_score(y_test,y_pred)                # F1 score is similar to accuracy score\n",
    "precision = precision_score(y_test,y_pred)\n",
    "recall = recall_score(y_test,y_pred)\n",
    "\n",
    "model_results=pd.DataFrame([['SVC (RBF) Model', accuracy, precision, recall, f1]],\n",
    "                    columns = ['Model','Accuracy', 'precision', 'recall', 'f1'])\n",
    "results=results.append(model_results, ignore_index=True)"
   ]
  },
  {
   "cell_type": "code",
   "execution_count": 38,
   "metadata": {},
   "outputs": [
    {
     "name": "stdout",
     "output_type": "stream",
     "text": [
      "results\n",
      "                        Model  Accuracy  precision    recall        f1\n",
      "0  Linear Regression (Lasso)  0.559185   0.597759  0.553423  0.574737\n",
      "1                  SVC Model  0.558906   0.597973  0.550830  0.573434\n",
      "2            SVC (RBF) Model  0.596873   0.645608  0.556535  0.597772\n"
     ]
    }
   ],
   "source": [
    "# Print out the scores\n",
    "\n",
    "print('results\\n', results)"
   ]
  },
  {
   "cell_type": "code",
   "execution_count": 40,
   "metadata": {},
   "outputs": [],
   "source": [
    "#  Random Forest Model\n",
    "from sklearn.ensemble import RandomForestClassifier\n",
    "classifier=RandomForestClassifier(random_state=0, n_estimators=100, \n",
    "                                  criterion = 'entropy')       # create a Random Forest Model\n",
    "classifier.fit(X_train, y_train)               # fit the model with train data\n",
    "\n",
    "\n",
    "y_pred=classifier.predict(X_test)              # Use Test data to create a predicated data\n",
    "\n",
    "# To evaluate the results\n",
    "\n",
    "from sklearn.metrics import confusion_matrix, accuracy_score,f1_score, \\\n",
    "                            precision_score,recall_score\n",
    "\n",
    "cm=confusion_matrix(y_test,y_pred)          # confusion matrix\n",
    "accuracy = accuracy_score(y_test,y_pred)    # Accuracy score\n",
    "f1 = f1_score(y_test,y_pred)                # F1 score is similar to accuracy score\n",
    "precision = precision_score(y_test,y_pred)\n",
    "recall = recall_score(y_test,y_pred)\n",
    "\n",
    "model_results=pd.DataFrame([['Random Forest(n=100)', accuracy, precision, recall, f1]],\n",
    "                    columns = ['Model','Accuracy', 'precision', 'recall', 'f1'])\n",
    "results=results.append(model_results, ignore_index=True)"
   ]
  },
  {
   "cell_type": "code",
   "execution_count": 41,
   "metadata": {},
   "outputs": [
    {
     "name": "stdout",
     "output_type": "stream",
     "text": [
      "results\n",
      "                        Model  Accuracy  precision    recall        f1\n",
      "0  Linear Regression (Lasso)  0.559185   0.597759  0.553423  0.574737\n",
      "1                  SVC Model  0.558906   0.597973  0.550830  0.573434\n",
      "2            SVC (RBF) Model  0.596873   0.645608  0.556535  0.597772\n",
      "3       Random Forest(n=100)  0.589056   0.718391  0.389004  0.504711\n"
     ]
    }
   ],
   "source": [
    "# Print out the scores\n",
    "\n",
    "print('results\\n', results)"
   ]
  },
  {
   "cell_type": "code",
   "execution_count": 42,
   "metadata": {},
   "outputs": [
    {
     "name": "stdout",
     "output_type": "stream",
     "text": [
      "Random Forest CV Accuracy: 0.769 (+/- 0.016)\n"
     ]
    }
   ],
   "source": [
    "# cross validation \n",
    "from sklearn.model_selection import cross_val_score\n",
    "accuracies= cross_val_score(estimator=classifier, X=X_train, y=y_train, cv=10)\n",
    "print(\"Random Forest CV Accuracy: %0.3f (+/- %0.3f)\" % (accuracies.mean(),accuracies.std() * 2))"
   ]
  },
  {
   "cell_type": "code",
   "execution_count": 49,
   "metadata": {},
   "outputs": [
    {
     "name": "stdout",
     "output_type": "stream",
     "text": [
      "Time to run = 2370.91 seconds\n"
     ]
    }
   ],
   "source": [
    "# More random forest with manual parameters\n",
    "parameters={\"max_depth\":[3, None],\n",
    "            \"max_features\":[1,5,10],\n",
    "            \"min_samples_split\":[2,5,10],\n",
    "            \"min_samples_leaf\":[1,5,10],\n",
    "            \"bootstrap\":[True,False],\n",
    "            \"criterion\":[\"entropy\"]             # also try \"gini\"\n",
    "           }\n",
    "\n",
    "from sklearn.model_selection import GridSearchCV\n",
    "grid_search=GridSearchCV(estimator = classifier,\n",
    "                         param_grid = parameters,\n",
    "                         scoring = \"accuracy\",\n",
    "                         cv=10,\n",
    "                         n_jobs = -1)         \n",
    "\n",
    "t0=time.time()\n",
    "grid_search=grid_search.fit(X_train, y_train)\n",
    "t1 = time.time()\n",
    "\n",
    "print(\"Time to run = %0.2f seconds\" % (t1-t0))\n"
   ]
  },
  {
   "cell_type": "code",
   "execution_count": 51,
   "metadata": {},
   "outputs": [
    {
     "name": "stdout",
     "output_type": "stream",
     "text": [
      "best score =  0.7785336356764928\n",
      "best params = {'bootstrap': False, 'criterion': 'entropy', 'max_depth': None, 'max_features': 5, 'min_samples_leaf': 1, 'min_samples_split': 2}\n"
     ]
    }
   ],
   "source": [
    "rf_best_accuracy=grid_search.best_score_\n",
    "rf_best_parameters=grid_search.best_params_\n",
    "print(\"best score = \",rf_best_accuracy)\n",
    "print(\"best params =\", rf_best_parameters)\n"
   ]
  },
  {
   "cell_type": "code",
   "execution_count": 52,
   "metadata": {},
   "outputs": [],
   "source": [
    "#  Random Forest Model from grid_search\n",
    "\n",
    "\n",
    "y_pred=grid_search.predict(X_test)              # Use Test data to create a predicated data\n",
    "\n",
    "# To evaluate the results\n",
    "\n",
    "from sklearn.metrics import confusion_matrix, accuracy_score,f1_score, \\\n",
    "                            precision_score,recall_score\n",
    "\n",
    "cm=confusion_matrix(y_test,y_pred)          # confusion matrix\n",
    "accuracy = accuracy_score(y_test,y_pred)    # Accuracy score\n",
    "f1 = f1_score(y_test,y_pred)                # F1 score is similar to accuracy score\n",
    "precision = precision_score(y_test,y_pred)\n",
    "recall = recall_score(y_test,y_pred)\n",
    "\n",
    "model_results=pd.DataFrame([['Random Forest(n=100, GSx2 + Entropy)', accuracy, precision, recall, f1]],\n",
    "                    columns = ['Model','Accuracy', 'precision', 'recall', 'f1'])\n",
    "results=results.append(model_results, ignore_index=True)"
   ]
  },
  {
   "cell_type": "code",
   "execution_count": 45,
   "metadata": {},
   "outputs": [
    {
     "data": {
      "text/plain": [
       "{'max_depth': [3, None],\n",
       " 'max_features': [1, 5, 10],\n",
       " 'min_samples_split': [2, 5, 10],\n",
       " 'min_samples_leaf': [1, 5, 10],\n",
       " 'bootstrap': [True, False],\n",
       " 'criterion': ['entropy']}"
      ]
     },
     "execution_count": 45,
     "metadata": {},
     "output_type": "execute_result"
    }
   ],
   "source": [
    "parameters"
   ]
  },
  {
   "cell_type": "code",
   "execution_count": null,
   "metadata": {},
   "outputs": [],
   "source": [
    "# More random forest with manual parameters  Criterion = gini\n",
    "parameters={\"max_depth\":[3, None],\n",
    "            \"max_features\":[1,5,10],\n",
    "            \"min_samples_split\":[2,5,10],\n",
    "            \"min_samples_leaf\":[1,5,10],\n",
    "            \"bootstrap\":[True,False],\n",
    "            \"criterion\":[\"gini\"]             # also try \"gini\"\n",
    "           }\n",
    "\n",
    "from sklearn.model_selection import GridSearchCV\n",
    "grid_search=GridSearchCV(estimator = classifier,\n",
    "                         param_grid = parameters,\n",
    "                         scoring = \"accuracy\",\n",
    "                         cv=10,\n",
    "                         n_jobs = -1)         \n",
    "\n",
    "t0=time.time()\n",
    "grid_search=grid_search.fit(X_train, y_train)\n",
    "t1 = time.time()\n",
    "\n",
    "print(\"Time to run = %0.2f seconds\" % (t1-t0))\n"
   ]
  },
  {
   "cell_type": "code",
   "execution_count": null,
   "metadata": {},
   "outputs": [],
   "source": [
    "rf_best_accuracy=grid_search.best_score\n",
    "rf_best_parameters=grid_search.best_params_\n",
    "print(\"best score = \",rf_best_accuracy)\n",
    "print(\"best params =\", rf_best_parameters)\n"
   ]
  },
  {
   "cell_type": "code",
   "execution_count": null,
   "metadata": {},
   "outputs": [],
   "source": [
    "#  Random Forest Model from grid_search\n",
    "\n",
    "\n",
    "y_pred=grid_search.predict(X_test)              # Use Test data to create a predicated data\n",
    "\n",
    "# To evaluate the results\n",
    "\n",
    "from sklearn.metrics import confusion_matrix, accuracy_score,f1_score, \\\n",
    "                            precision_score,recall_score\n",
    "\n",
    "cm=confusion_matrix(y_test,y_pred)          # confusion matrix\n",
    "accuracy = accuracy_score(y_test,y_pred)    # Accuracy score\n",
    "f1 = f1_score(y_test,y_pred)                # F1 score is similar to accuracy score\n",
    "precision = precision_score(y_test,y_pred)\n",
    "recall = recall_score(y_test,y_pred)\n",
    "\n",
    "model_results=pd.DataFrame([['Random Forest(n=100, GSx2 + Gini)', accuracy, precision, recall, f1]],\n",
    "                    columns = ['Model','Accuracy', 'precision', 'recall', 'f1'])\n",
    "results=results.append(model_results, ignore_index=True)"
   ]
  }
 ],
 "metadata": {
  "kernelspec": {
   "display_name": "Python 3",
   "language": "python",
   "name": "python3"
  },
  "language_info": {
   "codemirror_mode": {
    "name": "ipython",
    "version": 3
   },
   "file_extension": ".py",
   "mimetype": "text/x-python",
   "name": "python",
   "nbconvert_exporter": "python",
   "pygments_lexer": "ipython3",
   "version": "3.7.3"
  }
 },
 "nbformat": 4,
 "nbformat_minor": 2
}
