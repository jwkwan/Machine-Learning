{
    "nbformat_minor": 1, 
    "cells": [
        {
            "source": "Learning Python\n", 
            "cell_type": "markdown", 
            "metadata": {}
        }, 
        {
            "source": "print (\"hello for now!\")", 
            "cell_type": "code", 
            "execution_count": 1, 
            "outputs": [
                {
                    "output_type": "stream", 
                    "name": "stdout", 
                    "text": "hello for now!\n"
                }
            ], 
            "metadata": {}
        }, 
        {
            "source": "print (\"Update for Github\")", 
            "cell_type": "code", 
            "execution_count": 2, 
            "outputs": [
                {
                    "output_type": "stream", 
                    "name": "stdout", 
                    "text": "Update for Github\n"
                }
            ], 
            "metadata": {}
        }, 
        {
            "source": "How to ask a help question?  Use [Help] to ask the question.  Once it is solved, change it to [Solved]\n\n1) Observed Behavior\n\nScript run successful.\n\n2)\u00a0Expect Behavior\n\n3)\u00a0Link to Code\n\ngist.github.com to create a link with your codes.\n\n<script src=\"https://gist.github.com/jwkwan/a08cd5cf65305c44a15b8c2852b639eb.js\"></script>\n\nInstantly share code, notes, and snippets\n\n4)\u00a0Where I\u00a0think the problem is\n\nit worked in the shell but not in the script\n\n5) What I have tried\n\nI tried different numbers\n\n6) Errors and Warnings\n\nno error\n\n7) Version Info\n\n3.7\n\n8)\u00a0Screenshots", 
            "cell_type": "markdown", 
            "metadata": {}
        }, 
        {
            "source": "# variable is dynamic ie type can be changed.\n# data type int (14 bytes), str, float (16 bytes)\nnumber = 1\nprint(\"type is \", type(number) )\nnumber = 1/2\nprint(\"type is \", type(number) )\nnumber=\"hello\"\nprint(\"type is \", type(number) )", 
            "cell_type": "code", 
            "execution_count": 7, 
            "outputs": [
                {
                    "output_type": "stream", 
                    "name": "stdout", 
                    "text": "type is  <class 'int'>\ntype is  <class 'float'>\ntype is  <class 'str'>\n"
                }
            ], 
            "metadata": {}
        }, 
        {
            "source": "", 
            "cell_type": "code", 
            "execution_count": null, 
            "outputs": [], 
            "metadata": {}
        }, 
        {
            "source": "#math operator +,-,*,/ \n#% modular -> reminder, ** exponent\nprint(5%2)\nprint(10%4)\nprint(2**4)", 
            "cell_type": "code", 
            "execution_count": 16, 
            "outputs": [
                {
                    "output_type": "stream", 
                    "name": "stdout", 
                    "text": "1\n2\n16\n"
                }
            ], 
            "metadata": {}
        }, 
        {
            "source": "# Brackets(), Order (eg square), Division/Multiplication, Addition/Substraction\nprint (2*(5-1)**2)\nprint ( 1+2-3*4/2)\nprint (1-2+3)\nprint (2+4/2)", 
            "cell_type": "code", 
            "execution_count": 20, 
            "outputs": [
                {
                    "output_type": "stream", 
                    "name": "stdout", 
                    "text": "32\n-3.0\n2\n4.0\n"
                }
            ], 
            "metadata": {}
        }, 
        {
            "source": "#import modules from python library. F1 help key to see a list of moduels.\n\nimport random\n\ndifficulty = 3\nhealth=50\npotion_health = random.randint(25,50)/difficulty\nprint (type(potion_health))\npotion_health = int(potion_health)\nprint (type(potion_health))\nhealth = health + potion_health\nprint (health)\nprint (type(health))", 
            "cell_type": "code", 
            "execution_count": 21, 
            "outputs": [
                {
                    "output_type": "stream", 
                    "name": "stdout", 
                    "text": "<class 'float'>\n<class 'int'>\n63\n<class 'int'>\n"
                }
            ], 
            "metadata": {}
        }, 
        {
            "source": "# math function\nimport math\nprint( round(2.7))\nprint(math.floor(2.7))\nprint(math.ceil(2.7))\nprint(math.pi)\nprint(math.sin(math.pi/2))\nprint(math.log(100))\nprint(math.hypot(3,4))\nprint(math.pow(2,4))", 
            "cell_type": "code", 
            "execution_count": 42, 
            "outputs": [
                {
                    "output_type": "stream", 
                    "name": "stdout", 
                    "text": "3\n2\n3\n3.141592653589793\n1.0\n4.605170185988092\n5.0\n16.0\n"
                }
            ], 
            "metadata": {}
        }, 
        {
            "source": "#String \nname = \"James\"\nprint(type(name))\n# Use single and double quote \nmessage = 'John said \"I will see you later\"'\nprint (message )\n# Use 3 \"or' for longer paragraph\nlong_message = \"\"\"I poll records from multiple partitions and just commit one record, then\nthe rest of records seems to be committed too, for I can't poll them again.\nAnd I already set auto.commit to false, can't figure out why. But if the\ntopic has only one partition, it works fine, the records that I didn't\ncommit on the first poll will be re-polled again. Why the result is\ndifferent when there is more than one partition?\"\"\"\nprint (long_message)", 
            "cell_type": "code", 
            "execution_count": 47, 
            "outputs": [
                {
                    "output_type": "stream", 
                    "name": "stdout", 
                    "text": "<class 'str'>\nJohn said \"I will see you later\"\nI poll records from multiple partitions and just commit one record, then\nthe rest of records seems to be committed too, for I can't poll them again.\nAnd I already set auto.commit to false, can't figure out why. But if the\ntopic has only one partition, it works fine, the records that I didn't\ncommit on the first poll will be re-polled again. Why the result is\ndifferent when there is more than one partition?\n"
                }
            ], 
            "metadata": {}
        }, 
        {
            "source": "#ask for name  Use input function.  Input function is a standard library function ie no import needed\n\nname = input(\"What is your name?:  \" )\nprint (\"Your Name is \", name)\nage = input(\"What is your age ?: \")\nprint (\"Your age is \", age)\nprint (type(age))\n\n# String Operators format\nrecord= name + age\nprint (\"the record is \" + record)\nseparator = \"=\"*20\nrecord = name + separator + age\nprint (\"new record is \" + record)\nprint(\"{0}-{2}-{1}\".format(name,age,separator))\nprint(\"{1}-{0}-{2}\".format(name,age,separator))\nrecord = \"Your name is {} and your age is {}\"\noutput = record.format(name,age)\nprint (output)", 
            "cell_type": "code", 
            "execution_count": 1, 
            "outputs": [
                {
                    "output_type": "stream", 
                    "name": "stdout", 
                    "text": "What is your name?:  John Smith\nYour Name is  John Smith\nWhat is your age ?: 44\nYour age is  44\n<class 'str'>\nthe record is John Smith44\nnew record is John Smith====================44\nJohn Smith-====================-44\n44-John Smith-====================\nYour name is John Smith and your age is 44\n"
                }
            ], 
            "metadata": {}
        }, 
        {
            "source": "# String operators   somestring.somemethod()  for help see string method in the documentation\nstart='I am '\nage = 56\nend = ' years old'\n\noutput=\"{} {} {}\".format(start,age, end)\nprint(output)\n\nstring = 'This is a String'\nprint(\"string : \"+ string)\nprint(\"count i : \"+ str(string.count('i')))\nprint(\"upper : \"+ string.upper())\nprint(\"lower : \"+ string.lower())\nprint(\"capitalize : \"+ string.capitalize())\nprint(\"title : \"+ string.title())\nprint(\"'123'.isdigit() ? : \"+ str('123'.isdigit()))\nprint(\"'abcd'.isalpha() ? : \"+ str('abdc'.isalpha()))\nprint(\"'abcd123'.isalnum() ? : \"+ str('abdc123'.isalnum()))\nprint(\"'abcd123!'.isalnum() ? : \"+ str('abdc123!'.isalnum()))\nprint(\"string.index('is') : \"+ str(string.index('is')))\nprint(\"string.find('abc') : \"+ str(string.find('abc')))\nprint(\"string.strip('Th') : \"+ str(string.strip('Th')))\nprint(\"string.strip('ing') : \"+ str(string.strip('ing')))\nprint(\"string.strip('is') : \"+ str(string.strip('is')))\nprint(\"'  abcde  '.strip() : \"+ str('  abcde  '.strip()))\nprint(\"'XXXabcdeXXX'.strip('XX').capitalize() : \"+ str('XXXabcdeXXX'.strip('XX').capitalize()))\n#name=input(\"what is your name :\").strip()\n#print (name + str(len(name)))\n", 
            "cell_type": "code", 
            "execution_count": 127, 
            "outputs": [
                {
                    "output_type": "stream", 
                    "name": "stdout", 
                    "text": "I am  56  years old\nstring : This is a String\ncount i : 3\nupper : THIS IS A STRING\nlower : this is a string\ncapitalize : This is a string\ntitle : This Is A String\n'123'.isdigit() ? : True\n'abcd'.isalpha() ? : True\n'abcd123'.isalnum() ? : True\n'abcd123!'.isalnum() ? : False\nstring.index('is') : 2\nstring.find('abc') : -1\nstring.strip('Th') : is is a String\nstring.strip('ing') : This is a Str\nstring.strip('is') : This is a String\n'  abcde  '.strip() : abcde\n'XXXabcdeXXX'.strip('XX').capitalize() : Abcde\n"
                }
            ], 
            "metadata": {}
        }, 
        {
            "source": "# string slice\nstring = 'This is a string'\nprint ('string[0] : ' + string[0])\nprint ('string[5] : ' + string[5])\nprint ('string[0:4] : ' + string[0:4])\nprint ('string[0:4:2] : ' + string[0:4:2])\nprint ('string[5:] : ' + string[5:])\nprint ('string[5::2] : ' + string[5::2])\nprint ('string[:5] : ' + string[:5])\nprint ('string[-5:-3] : ' + string[-5:-3])\nprint ('string[string.index(\" is\"):] : ' + string[string.index(\" is\"):])", 
            "cell_type": "code", 
            "execution_count": 58, 
            "outputs": [
                {
                    "output_type": "stream", 
                    "name": "stdout", 
                    "text": "string[0] : T\nstring[5] : i\nstring[0:4] : This\nstring[0:4:2] : Ti\nstring[5:] : is a string\nstring[5::2] : i  tig\nstring[:5] : This \nstring[-5:-3] : tr\nstring[string.index(\" is\"):] :  is a string\n"
                }
            ], 
            "metadata": {}
        }, 
        {
            "source": "# Logic and Conditional Flow\nA = True\nB = False\nprint(A)\nprint('2>3 :' + str(2>3))\nprint('2+1==3 :' + str(2+1==3))\nprint('2!=3 :' + str(2!=3))\nprint('True & False : ' + str(True & False))   # & can be replaced with and\nprint('True | False : ' + str(True | False))     # | can be replaced with or\n\nif (True) : \n    print(\"This is True\")\n    print(\"This is after first True\")\nelif(True):\n    print(\"This is True too\")\nelse :\n    print(\"This is False\")\n    print(\"This is also False\")\nprint(\"Is this true or false\")    \n", 
            "cell_type": "code", 
            "execution_count": 83, 
            "outputs": [
                {
                    "output_type": "stream", 
                    "name": "stdout", 
                    "text": "True\n2>3 :False\n2+1==3 :True\n2!=3 :True\nTrue & False : False\nTrue | False : True\nThis is True\nThis is after first True\nIs this true or false\n"
                }
            ], 
            "metadata": {}
        }, 
        {
            "source": "#lists, tables, \nlist1=[ 10, 20, -5, -3, 20]\nprint(list1)\nprint(type(list1))\nlist2=['A','Bo','Car',1,2,3,True, False]\nprint(list2)\nprint('type(list2) =' + str(type(list2)))\nprint(\"list2[-1] : \" + str(list2[-1]))\nprint(\"list2[3:5] : \" + str(list2[3:5]))\nx=list2[5]\nprint(\"x=\"+str(x))\nprint('type(x) =' + str(type(x)))\nx=list2[3:5]\nprint(\"x=\"+str(x))\nprint('type(x) =' + str(type(x)))\n\ntable1=[list1,list2]\nprint ('table1='+str(table1))\nprint('type(table1) =' + str(type(table1)))\nx=table1[1][0]\nprint('x='+ str(x))\nx=table1[0]\ny=table1[0]\nprint('x='+ str(x) )\nprint('y='+ str(y) )\nprint('x+y='+str(x+y))\nprint('x*2='+str(x*2))\nprint(\"10 in x?=\" + str(10 in x))\n# uncomment following to see the effect of del[],remove(), append()\n#del y[5]\n#y.remove(-5)\n#y.append(100)\n#y=y+[1]\n#y=y+['abc']\n#y=y+list(str(123))\ny.insert(2,123)\nprint('new y='+ str(y) )\nprint(\"x=\"+str(x))\nprint('list1='+str(list1))\nprint('table1='+str(table1))\n#y=list1\n", 
            "cell_type": "code", 
            "execution_count": 160, 
            "outputs": [
                {
                    "output_type": "stream", 
                    "name": "stdout", 
                    "text": "[10, 20, -5, -3, 20]\n<class 'list'>\n['A', 'Bo', 'Car', 1, 2, 3, True, False]\ntype(list2) =<class 'list'>\nlist2[-1] : False\nlist2[3:5] : [1, 2]\nx=3\ntype(x) =<class 'int'>\nx=[1, 2]\ntype(x) =<class 'list'>\ntable1=[[10, 20, -5, -3, 20], ['A', 'Bo', 'Car', 1, 2, 3, True, False]]\ntype(table1) =<class 'list'>\nx=A\nx=[10, 20, -5, -3, 20]\ny=[10, 20, -5, -3, 20]\nx+y=[10, 20, -5, -3, 20, 10, 20, -5, -3, 20]\nx*2=[10, 20, -5, -3, 20, 10, 20, -5, -3, 20]\n10 in x?=True\nnew y=[10, 20, 123, -5, -3, 20]\nx=[10, 20, 123, -5, -3, 20]\nlist1=[10, 20, 123, -5, -3, 20]\ntable1=[[10, 20, 123, -5, -3, 20], ['A', 'Bo', 'Car', 1, 2, 3, True, False]]\n<class 'list'>\na=None\n"
                }
            ], 
            "metadata": {}
        }, 
        {
            "source": "# more about list append or remove.  use list.append() instead of list=list.append() or remove\na=[1,2,3]\na[0]=5\na.append(100)\nprint (a)\na=a.append(200)\nprint (a)\n", 
            "cell_type": "code", 
            "execution_count": 165, 
            "outputs": [
                {
                    "output_type": "stream", 
                    "name": "stdout", 
                    "text": "[5, 2, 3, 100]\nNone\n"
                }
            ], 
            "metadata": {}
        }, 
        {
            "source": "# Tuples similar to list but are constant values and hence cannot be changed\nt1 = 1,2,3,'a','B','c'\nt2 = (1,2,3,'a','B','c')   \nt3 = t2\nt4 = t1 + t2\nprint('t1='+str(t1))\nprint(type(t1))\nprint('t2='+str(t2))\nprint('t3='+str(t3))\nprint('t4='+str(t4))\nprint('t1[1:3]='+ str(t1[1:3]))\nt2=list(t2)\nt2[0]=-1\nprint('t2='+str(t2))\nprint(type(t2))\nt2=tuple(t2)\nprint('t2='+str(t2))\nprint(type(t2))\n\n# multipe assignment\nprint(\"multiple assigment\" + '-'*20)\n(t1,t2,t3) = (1,2,3)\nprint('t1='+str(t1))\nprint(type(t1))\nprint('t2='+str(t2))\nprint('t3='+str(t3))\n\nprint(\"multiple list assigment\" + '-'*20)\n(t1,t2,t3) = [1,2,3]\nprint('t1='+str(t1))\nprint(type(t1))\nprint('t2='+str(t2))\nprint('t3='+str(t3))", 
            "cell_type": "code", 
            "execution_count": 188, 
            "outputs": [
                {
                    "output_type": "stream", 
                    "name": "stdout", 
                    "text": "t1=(1, 2, 3, 'a', 'B', 'c')\n<class 'tuple'>\nt2=(1, 2, 3, 'a', 'B', 'c')\nt3=(1, 2, 3, 'a', 'B', 'c')\nt4=(1, 2, 3, 'a', 'B', 'c', 1, 2, 3, 'a', 'B', 'c')\nt1[1:3]=(2, 3)\nt2=[-1, 2, 3, 'a', 'B', 'c']\n<class 'list'>\nt2=(-1, 2, 3, 'a', 'B', 'c')\n<class 'tuple'>\nmultiple assigment--------------------\nt1=1\n<class 'int'>\nt2=2\nt3=3\nmultiple list assigment--------------------\nt1=1\n<class 'int'>\nt2=2\nt3=3\n"
                }
            ], 
            "metadata": {}
        }, 
        {
            "source": "# Dictionary \n\nstudent_age = {\"Alice\":18, \"Alison\":19, \"April\":15, \"Angel\":20, \"Emily\":19}\nprint(\"student_age : \", student_age)\nprint(\"student_age['April']=\" + str(student_age['April']))\nstudent_age['April'] = 24\nprint(\"student_age['April']=\" + str(student_age['April']))\ndel student_age['April']\nprint(\"student_age.keys()=\" +str(student_age.keys()) )\nprint(\"student_age.values()=\" +str(student_age.values()) )\nprint(\"list(student_age) = \" + str(list(student_age)) )\nprint(\"list(student_age.keys()) = \" + str(list(student_age.keys())) )\nprint(\"list(student_age.values())[1:3] = \" + str(list(student_age.values())[1:3]) )\n\nprint(\"student_age.items() = \" + str(student_age.items()) )\n#print(\"student_age['April']=\" + str(student_age['April']))\n", 
            "cell_type": "code", 
            "execution_count": 38, 
            "outputs": [
                {
                    "output_type": "error", 
                    "evalue": "invalid syntax (<ipython-input-38-27e873c48950>, line 14)", 
                    "traceback": [
                        "\u001b[0;36m  File \u001b[0;32m\"<ipython-input-38-27e873c48950>\"\u001b[0;36m, line \u001b[0;32m14\u001b[0m\n\u001b[0;31m    add student_age{'April':26}\u001b[0m\n\u001b[0m                  ^\u001b[0m\n\u001b[0;31mSyntaxError\u001b[0m\u001b[0;31m:\u001b[0m invalid syntax\n"
                    ], 
                    "ename": "SyntaxError"
                }
            ], 
            "metadata": {}
        }, 
        {
            "source": "# Dictionary as db\nstudents = { \n  \"Alice\":[\"ID001\", 26,\"A\"],\n  \"April\":[\"ID002\", 21,\"B\"],\n  \"Alison\":[\"ID003\", 18,\"C\"],\n  \"Amazon\":[\"ID004\", 23,\"D\"],\n  \"Ashley\":[\"ID005\", 19,\"E\"]\n}\nprint(\"students = \" + str(students))\nprint('students[\"April\"] = ' + str(students[\"April\"]))\nprint('students[\"April\"][1:] = ' + str(students[\"April\"][1:]))\n", 
            "cell_type": "code", 
            "execution_count": 48, 
            "outputs": [
                {
                    "output_type": "stream", 
                    "name": "stdout", 
                    "text": "students = {'Alice': ['ID001', 26, 'A'], 'April': ['ID002', 21, 'B'], 'Alison': ['ID003', 18, 'C'], 'Amazon': ['ID004', 23, 'D'], 'Ashley': ['ID005', 19, 'E']}\nstudents[\"April\"] = ['ID002', 21, 'B']\nstudents[\"April\"][1:] = [21, 'B']\n"
                }
            ], 
            "metadata": {}
        }, 
        {
            "source": "# Dictionary as db 2\nstudents = { \n  \"Alice\":{\"id\":\"ID001\", \"age\":26,\"grade\":\"A\"},\n  \"April\":{\"id\":\"ID002\", \"age\":21,\"grade\":\"B\"},\n  \"Alison\":{\"id\":\"ID003\", \"age\":18,\"grade\":\"C\"},\n  \"Amazon\":{\"id\":\"ID004\", \"age\":23,\"grade\":\"D\"},\n  \"Ashley\":{\"id\":\"ID005\", \"age\":19,\"grade\":\"E\"}\n}\nprint(\"students = \" + str(students))\nprint('students[\"April\"][\"id\"] = ' + str(students[\"April\"][\"id\"]))\nprint('students[\"April\"][\"age\"] = ' + str(students[\"April\"][\"age\"]))\nprint('students[\"April\"][\"grade\"] = ' + str(students[\"April\"][\"grade\"]))\n", 
            "cell_type": "code", 
            "execution_count": 2, 
            "outputs": [
                {
                    "output_type": "stream", 
                    "name": "stdout", 
                    "text": "students = {'Alice': {'id': 'ID001', 'age': 26, 'grade': 'A'}, 'April': {'id': 'ID002', 'age': 21, 'grade': 'B'}, 'Alison': {'id': 'ID003', 'age': 18, 'grade': 'C'}, 'Amazon': {'id': 'ID004', 'age': 23, 'grade': 'D'}, 'Ashley': {'id': 'ID005', 'age': 19, 'grade': 'E'}}\nstudents[\"April\"][\"id\"] = ID002\nstudents[\"April\"][\"age\"] = 21\nstudents[\"April\"][\"grade\"] = B\n"
                }
            ], 
            "metadata": {}
        }, 
        {
            "source": "# build a simple program to get student name and then display grade\nstudents = { \n  \"Alice\":[\"ID001\", 26,\"A\"],\n  \"April\":[\"ID002\", 21,\"B\"],\n  \"Alison\":[\"ID003\", 18,\"C\"],\n  \"Amazon\":[\"ID004\", 23,\"D\"],\n  \"Ashley\":[\"ID005\", 19,\"E\"]\n}\nnum=10\nwhile num > 0:\n    num = num -1\n    name = input(\"What is your name?\").strip().title()\n    if name in students:\n        age = int(input(\"what is your age?\").strip())\n        if age == students[name][1]:\n            print(\"Student {} has a grade {}\".format(name, students[name][2]))\n        else:\n            print(\"Student's grade is confidential\")\n    else: \n        print(\"Student {} is not in our database\".format(name))\n   ", 
            "cell_type": "code", 
            "execution_count": 6, 
            "outputs": [
                {
                    "output_type": "stream", 
                    "name": "stdout", 
                    "text": "What is your name?Aprilc\nStudent Aprilc is not in our database\nWhat is your name?ad\nStudent Ad is not in our database\nWhat is your name?a\nStudent A is not in our database\nWhat is your name?d\nStudent D is not in our database\nWhat is your name?d\nStudent D is not in our database\nWhat is your name?f\nStudent F is not in our database\nWhat is your name?e\nStudent E is not in our database\nWhat is your name?f\nStudent F is not in our database\nWhat is your name?e\nStudent E is not in our database\nWhat is your name?e\nStudent E is not in our database\n"
                }
            ], 
            "metadata": {}
        }, 
        {
            "source": "# Loop\nL=[]\nwhile len(L) < 3:\n    L.append(input(\"What is your name? :\").strip().title())\n    \nprint(\"List of names :\" + str(L))", 
            "cell_type": "code", 
            "execution_count": 9, 
            "outputs": [
                {
                    "output_type": "stream", 
                    "name": "stdout", 
                    "text": "What is your name? :James Leung\nWhat is your name? :Bob Polk\nWhat is your name? :Jonanthan Soci\nList of names :['James Leung', 'Bob Polk', 'Jonanthan Soci']\n"
                }
            ], 
            "metadata": {}
        }, 
        {
            "source": "from random import choice\ndice=[1,2,3,4,5,6]\nprint (choice(dice))", 
            "cell_type": "code", 
            "execution_count": 20, 
            "outputs": [
                {
                    "output_type": "stream", 
                    "name": "stdout", 
                    "text": "4\n"
                }
            ], 
            "metadata": {}
        }, 
        {
            "source": "import random\nrandom.choice\n\ndice=[1,2,3,4,5,6]\n\nfor number in range(1,5):\n  print(random.choice(dice))\n\nfor letter in \"abc d\":\n  print(\"letter \" + letter)\n\nfor roll in dice:\n    print(\"roll \" + str(roll))\n    \nstudents = {\n    \"male\":[\"Tom\",\"Charlie\",\"James\",\"Jack\",\"Brian\"],\n    \"female\":[\"Alice\",\"April\",\"Emily\",\"Jamie\",\"Dee\",\"Julie\"]\n    }\n\nprint(students)\nfor key in students.keys():\n    print (key)\n    for name in students[key]:\n        if 'a' in name:\n          print(\"The {} student name is {}\".format(key,name))\n    ", 
            "cell_type": "code", 
            "execution_count": 10, 
            "outputs": [
                {
                    "output_type": "stream", 
                    "name": "stdout", 
                    "text": "1\n2\n4\n1\nletter a\nletter b\nletter c\nletter  \nletter d\nroll 1\nroll 2\nroll 3\nroll 4\nroll 5\nroll 6\n{'male': ['Tom', 'Charlie', 'James', 'Jack', 'Brian'], 'female': ['Alice', 'April', 'Emily', 'Jamie', 'Dee', 'Julie']}\nmale\nThe male student name is Charlie\nThe male student name is James\nThe male student name is Jack\nThe male student name is Brian\nfemale\nThe female student name is Jamie\n"
                }
            ], 
            "metadata": {}
        }, 
        {
            "source": "# List Comprehensions  var=[[f(x)...] for x = something]\n\neven_num = [x for x in range(1,100) if x%2==0]\nprint (even_num)\n\nwords=[\"the\",\"quick\",\"fox\",\"jumps\",\"over\",\"the\",\"lazy\",\"dog\"]\nanswer=[[w.upper(), w.lower(),len(w)] for w in words]\nprint(answer)\ntest=[[w.capitalize(), w.strip('s'), len(w)] for w in words]\nprint(test)", 
            "cell_type": "code", 
            "execution_count": 24, 
            "outputs": [
                {
                    "output_type": "stream", 
                    "name": "stdout", 
                    "text": "[2, 4, 6, 8, 10, 12, 14, 16, 18, 20, 22, 24, 26, 28, 30, 32, 34, 36, 38, 40, 42, 44, 46, 48, 50, 52, 54, 56, 58, 60, 62, 64, 66, 68, 70, 72, 74, 76, 78, 80, 82, 84, 86, 88, 90, 92, 94, 96, 98]\n[['THE', 'the', 3], ['QUICK', 'quick', 5], ['FOX', 'fox', 3], ['JUMPS', 'jumps', 5], ['OVER', 'over', 4], ['THE', 'the', 3], ['LAZY', 'lazy', 4], ['DOG', 'dog', 3]]\n[['The', 'the', 3], ['Quick', 'quick', 5], ['Fox', 'fox', 3], ['Jumps', 'jump', 5], ['Over', 'over', 4], ['The', 'the', 3], ['Lazy', 'lazy', 4], ['Dog', 'dog', 3]]\n"
                }
            ], 
            "metadata": {}
        }, 
        {
            "source": "# Pig Latin Translator\n\nsentence=input(\"Enter a sentence\").strip('.').lower()\nprint(sentence)\n\nwords=sentence.split()\n\nnew_words=[]\nfor word in words:\n    if word[0] in 'aeiou':\n        new_word = word + 'yay'\n    else:\n        v_pos=0\n        for c in word:\n #           print(\"c={},pos={}\".format(c,v_pos))\n            if c in 'aeiou':\n                new_word = word[v_pos:]+word[:v_pos] + 'ay'\n#                print(\"hit newword={}\".format(new_word))\n                break\n            else:    \n                v_pos=v_pos+1\n#            print(\"c={},pos={}\".format(c,v_pos))\n            \n    new_words.append(new_word)    \n    print (new_word)\n    \n#print(new_words)\noutput=\" \".join(new_words)\nprint(output)", 
            "cell_type": "code", 
            "execution_count": 68, 
            "outputs": [
                {
                    "output_type": "error", 
                    "evalue": "", 
                    "traceback": [
                        "\u001b[0;31m---------------------------------------------------------------------------\u001b[0m", 
                        "\u001b[0;31mKeyboardInterrupt\u001b[0m                         Traceback (most recent call last)", 
                        "\u001b[0;32m/opt/conda/envs/Python36/lib/python3.6/site-packages/ipykernel/kernelbase.py\u001b[0m in \u001b[0;36m_input_request\u001b[0;34m(self, prompt, ident, parent, password)\u001b[0m\n\u001b[1;32m    877\u001b[0m             \u001b[0;32mtry\u001b[0m\u001b[0;34m:\u001b[0m\u001b[0;34m\u001b[0m\u001b[0;34m\u001b[0m\u001b[0m\n\u001b[0;32m--> 878\u001b[0;31m                 \u001b[0mident\u001b[0m\u001b[0;34m,\u001b[0m \u001b[0mreply\u001b[0m \u001b[0;34m=\u001b[0m \u001b[0mself\u001b[0m\u001b[0;34m.\u001b[0m\u001b[0msession\u001b[0m\u001b[0;34m.\u001b[0m\u001b[0mrecv\u001b[0m\u001b[0;34m(\u001b[0m\u001b[0mself\u001b[0m\u001b[0;34m.\u001b[0m\u001b[0mstdin_socket\u001b[0m\u001b[0;34m,\u001b[0m \u001b[0;36m0\u001b[0m\u001b[0;34m)\u001b[0m\u001b[0;34m\u001b[0m\u001b[0;34m\u001b[0m\u001b[0m\n\u001b[0m\u001b[1;32m    879\u001b[0m             \u001b[0;32mexcept\u001b[0m \u001b[0mException\u001b[0m\u001b[0;34m:\u001b[0m\u001b[0;34m\u001b[0m\u001b[0;34m\u001b[0m\u001b[0m\n", 
                        "\u001b[0;32m/opt/conda/envs/Python36/lib/python3.6/site-packages/jupyter_client/session.py\u001b[0m in \u001b[0;36mrecv\u001b[0;34m(self, socket, mode, content, copy)\u001b[0m\n\u001b[1;32m    802\u001b[0m         \u001b[0;32mtry\u001b[0m\u001b[0;34m:\u001b[0m\u001b[0;34m\u001b[0m\u001b[0;34m\u001b[0m\u001b[0m\n\u001b[0;32m--> 803\u001b[0;31m             \u001b[0mmsg_list\u001b[0m \u001b[0;34m=\u001b[0m \u001b[0msocket\u001b[0m\u001b[0;34m.\u001b[0m\u001b[0mrecv_multipart\u001b[0m\u001b[0;34m(\u001b[0m\u001b[0mmode\u001b[0m\u001b[0;34m,\u001b[0m \u001b[0mcopy\u001b[0m\u001b[0;34m=\u001b[0m\u001b[0mcopy\u001b[0m\u001b[0;34m)\u001b[0m\u001b[0;34m\u001b[0m\u001b[0;34m\u001b[0m\u001b[0m\n\u001b[0m\u001b[1;32m    804\u001b[0m         \u001b[0;32mexcept\u001b[0m \u001b[0mzmq\u001b[0m\u001b[0;34m.\u001b[0m\u001b[0mZMQError\u001b[0m \u001b[0;32mas\u001b[0m \u001b[0me\u001b[0m\u001b[0;34m:\u001b[0m\u001b[0;34m\u001b[0m\u001b[0;34m\u001b[0m\u001b[0m\n", 
                        "\u001b[0;32m/opt/conda/envs/Python36/lib/python3.6/site-packages/zmq/sugar/socket.py\u001b[0m in \u001b[0;36mrecv_multipart\u001b[0;34m(self, flags, copy, track)\u001b[0m\n\u001b[1;32m    466\u001b[0m         \"\"\"\n\u001b[0;32m--> 467\u001b[0;31m         \u001b[0mparts\u001b[0m \u001b[0;34m=\u001b[0m \u001b[0;34m[\u001b[0m\u001b[0mself\u001b[0m\u001b[0;34m.\u001b[0m\u001b[0mrecv\u001b[0m\u001b[0;34m(\u001b[0m\u001b[0mflags\u001b[0m\u001b[0;34m,\u001b[0m \u001b[0mcopy\u001b[0m\u001b[0;34m=\u001b[0m\u001b[0mcopy\u001b[0m\u001b[0;34m,\u001b[0m \u001b[0mtrack\u001b[0m\u001b[0;34m=\u001b[0m\u001b[0mtrack\u001b[0m\u001b[0;34m)\u001b[0m\u001b[0;34m]\u001b[0m\u001b[0;34m\u001b[0m\u001b[0;34m\u001b[0m\u001b[0m\n\u001b[0m\u001b[1;32m    468\u001b[0m         \u001b[0;31m# have first part already, only loop while more to receive\u001b[0m\u001b[0;34m\u001b[0m\u001b[0;34m\u001b[0m\u001b[0;34m\u001b[0m\u001b[0m\n", 
                        "\u001b[0;32mzmq/backend/cython/socket.pyx\u001b[0m in \u001b[0;36mzmq.backend.cython.socket.Socket.recv\u001b[0;34m()\u001b[0m\n", 
                        "\u001b[0;32mzmq/backend/cython/socket.pyx\u001b[0m in \u001b[0;36mzmq.backend.cython.socket.Socket.recv\u001b[0;34m()\u001b[0m\n", 
                        "\u001b[0;32mzmq/backend/cython/socket.pyx\u001b[0m in \u001b[0;36mzmq.backend.cython.socket._recv_copy\u001b[0;34m()\u001b[0m\n", 
                        "\u001b[0;32m/opt/conda/envs/Python36/lib/python3.6/site-packages/zmq/backend/cython/checkrc.pxd\u001b[0m in \u001b[0;36mzmq.backend.cython.checkrc._check_rc\u001b[0;34m()\u001b[0m\n", 
                        "\u001b[0;31mKeyboardInterrupt\u001b[0m: ", 
                        "\nDuring handling of the above exception, another exception occurred:\n", 
                        "\u001b[0;31mKeyboardInterrupt\u001b[0m                         Traceback (most recent call last)", 
                        "\u001b[0;32m<ipython-input-68-438b6610fe61>\u001b[0m in \u001b[0;36m<module>\u001b[0;34m\u001b[0m\n\u001b[1;32m      1\u001b[0m \u001b[0;31m# Pig Latin Translator\u001b[0m\u001b[0;34m\u001b[0m\u001b[0;34m\u001b[0m\u001b[0;34m\u001b[0m\u001b[0m\n\u001b[1;32m      2\u001b[0m \u001b[0;34m\u001b[0m\u001b[0m\n\u001b[0;32m----> 3\u001b[0;31m \u001b[0msentence\u001b[0m\u001b[0;34m=\u001b[0m\u001b[0minput\u001b[0m\u001b[0;34m(\u001b[0m\u001b[0;34m\"Enter a sentence\"\u001b[0m\u001b[0;34m)\u001b[0m\u001b[0;34m.\u001b[0m\u001b[0mstrip\u001b[0m\u001b[0;34m(\u001b[0m\u001b[0;34m'.'\u001b[0m\u001b[0;34m)\u001b[0m\u001b[0;34m.\u001b[0m\u001b[0mlower\u001b[0m\u001b[0;34m(\u001b[0m\u001b[0;34m)\u001b[0m\u001b[0;34m\u001b[0m\u001b[0;34m\u001b[0m\u001b[0m\n\u001b[0m\u001b[1;32m      4\u001b[0m \u001b[0mprint\u001b[0m\u001b[0;34m(\u001b[0m\u001b[0msentence\u001b[0m\u001b[0;34m)\u001b[0m\u001b[0;34m\u001b[0m\u001b[0;34m\u001b[0m\u001b[0m\n\u001b[1;32m      5\u001b[0m \u001b[0;34m\u001b[0m\u001b[0m\n", 
                        "\u001b[0;32m/opt/conda/envs/Python36/lib/python3.6/site-packages/ipykernel/kernelbase.py\u001b[0m in \u001b[0;36mraw_input\u001b[0;34m(self, prompt)\u001b[0m\n\u001b[1;32m    851\u001b[0m             \u001b[0mself\u001b[0m\u001b[0;34m.\u001b[0m\u001b[0m_parent_ident\u001b[0m\u001b[0;34m,\u001b[0m\u001b[0;34m\u001b[0m\u001b[0;34m\u001b[0m\u001b[0m\n\u001b[1;32m    852\u001b[0m             \u001b[0mself\u001b[0m\u001b[0;34m.\u001b[0m\u001b[0m_parent_header\u001b[0m\u001b[0;34m,\u001b[0m\u001b[0;34m\u001b[0m\u001b[0;34m\u001b[0m\u001b[0m\n\u001b[0;32m--> 853\u001b[0;31m             \u001b[0mpassword\u001b[0m\u001b[0;34m=\u001b[0m\u001b[0;32mFalse\u001b[0m\u001b[0;34m,\u001b[0m\u001b[0;34m\u001b[0m\u001b[0;34m\u001b[0m\u001b[0m\n\u001b[0m\u001b[1;32m    854\u001b[0m         )\n\u001b[1;32m    855\u001b[0m \u001b[0;34m\u001b[0m\u001b[0m\n", 
                        "\u001b[0;32m/opt/conda/envs/Python36/lib/python3.6/site-packages/ipykernel/kernelbase.py\u001b[0m in \u001b[0;36m_input_request\u001b[0;34m(self, prompt, ident, parent, password)\u001b[0m\n\u001b[1;32m    881\u001b[0m             \u001b[0;32mexcept\u001b[0m \u001b[0mKeyboardInterrupt\u001b[0m\u001b[0;34m:\u001b[0m\u001b[0;34m\u001b[0m\u001b[0;34m\u001b[0m\u001b[0m\n\u001b[1;32m    882\u001b[0m                 \u001b[0;31m# re-raise KeyboardInterrupt, to truncate traceback\u001b[0m\u001b[0;34m\u001b[0m\u001b[0;34m\u001b[0m\u001b[0;34m\u001b[0m\u001b[0m\n\u001b[0;32m--> 883\u001b[0;31m                 \u001b[0;32mraise\u001b[0m \u001b[0mKeyboardInterrupt\u001b[0m\u001b[0;34m\u001b[0m\u001b[0;34m\u001b[0m\u001b[0m\n\u001b[0m\u001b[1;32m    884\u001b[0m             \u001b[0;32melse\u001b[0m\u001b[0;34m:\u001b[0m\u001b[0;34m\u001b[0m\u001b[0;34m\u001b[0m\u001b[0m\n\u001b[1;32m    885\u001b[0m                 \u001b[0;32mbreak\u001b[0m\u001b[0;34m\u001b[0m\u001b[0;34m\u001b[0m\u001b[0m\n", 
                        "\u001b[0;31mKeyboardInterrupt\u001b[0m: "
                    ], 
                    "ename": "KeyboardInterrupt"
                }
            ], 
            "metadata": {}
        }, 
        {
            "source": "#function : def func1(parm1...):\ndef add(x,y):\n    return(x+y)\n\ndef reverse(word):\n    return word[::-1]\n\nprint(reverse(\"abCDe\"))\n\nprint(reverse([1,2,3,4]) )\n\nprint(reverse([\"abc\",\"EDE\",\"XYZ\",\"123\"]) )", 
            "cell_type": "code", 
            "execution_count": 76, 
            "outputs": [
                {
                    "output_type": "stream", 
                    "name": "stdout", 
                    "text": "eDCba\n[4, 3, 2, 1]\n['123', 'XYZ', 'EDE', 'abc']\n"
                }
            ], 
            "metadata": {}
        }, 
        {
            "source": "#global vs local variables.  Variables inside of a function is local. \n\na = 250 \n\ndef f1():\n    a=50\n    print(a)\nf1()    \ndef f2():\n    global a     # this points to the global variable\n    a=100\n    print(a)\nf2()  \n\nprint(a)\n\nb = [10, 20, 30]\ndef f3():\n    b = [50,60,70]\n    print(b)\nf3()\nprint(b)\ndef f4():\n    b[0] = 50   # this is a global variable\n    print(b)\nf4()\nprint(b)", 
            "cell_type": "code", 
            "execution_count": 83, 
            "outputs": [
                {
                    "output_type": "stream", 
                    "name": "stdout", 
                    "text": "50\n100\n100\n[50, 60, 70]\n[10, 20, 30]\n[50, 20, 30]\n[50, 20, 30]\n"
                }
            ], 
            "metadata": {}
        }, 
        {
            "source": "# function with parameters.  syntax : def functionName():\ndef fun1(name, age, likes=\"C++\"):\n    sentence = \"Hi {}, you are {} years old and you like {}\".format(name,age,likes)\n    return sentence\n\nprint(fun1(\"Jack\", 23, \"skii\"))  ## call by position\nprint(fun1(age=23,name=\"Jackson\",likes=\"bicycle\"))   ## call by keyword\n# this one is invalid fun1(age=23,name=\"Jackson\",\"bicycle\")\n\nprint(fun1(\"Jack\",23))   ## with default values in the function", 
            "cell_type": "code", 
            "execution_count": 18, 
            "outputs": [
                {
                    "output_type": "stream", 
                    "name": "stdout", 
                    "text": "Hi Jack, you are 23 years old and you like skii\nHi Jackson, you are 23 years old and you like bicycle\nHi Jack, you are 23 years old and you like C++\n"
                }
            ], 
            "metadata": {}
        }, 
        {
            "source": "# packing and unpacking variables\n\nnumbers=[1,2,3,4,5]\nprint(\"numbers={}\".format(numbers))\nprint(\"*numbers = \",*numbers)  #cannot use the format for unpacked number because format only takes one parm\n\n\n\n\ndef add(*numbers):\n    total = 0\n    for number in numbers:\n       total += number\n    return(total)\n\nprint('add(1,2,3,4,5,6) =', add(1,2,3,4,5,6))\nnumber_list = [[1,2],[3,4],[5,6]]\nprint(\"number_list\", number_list)\nprint(\"*number_list\", *number_list)\n##print(\"**number_list\", **number_list)   ##TypeError: print() argument after ** must be a mapping, not list\n\n\ndictionary={\"name\":\"James\",'age':16,\"likes\":\"model plane\"}\nprint(\"dictionary=\", dictionary)\nprint(\"*dictionary=\", *dictionary)\n#print(\"**dictionary=\", **dictionary)  ## TypeError: 'name' is an invalid keyword argument for this function\n\nprint(\" \")\nprint(\"fun1(*dictionary)=\",fun1(*dictionary))\nprint(\"fun1(**dictionary)=\",fun1(**dictionary))  ## worked for passing the complete parameters to the function\n\n\n\n#print(\"**dictionary=\",**dictionary)\n#print(\"fun1(**dictionary)=\",fun1(**dictionary))\n\ndef foo(**kwargs):\n    for key, value in kwargs.items():\n        print(\"{}:{}\".format(key, value))\n        \nfoo(key1=\"Value1\",key2=\"V2\",key3=\"V3\")", 
            "cell_type": "code", 
            "execution_count": 47, 
            "outputs": [
                {
                    "output_type": "stream", 
                    "name": "stdout", 
                    "text": "numbers=[1, 2, 3, 4, 5]\n*numbers =  1 2 3 4 5\nadd(1,2,3,4,5,6) = 21\nnumber_list [[1, 2], [3, 4], [5, 6]]\n*number_list [1, 2] [3, 4] [5, 6]\ndictionary= {'name': 'James', 'age': 16, 'likes': 'model plane'}\n*dictionary= name age likes\n \nfun1(*dictionary)= Hi name, you are age years old and you like likes\nfun1(**dictionary)= Hi James, you are 16 years old and you like model plane\nkey1:Value1\nkey2:V2\nkey3:V3\n"
                }
            ], 
            "metadata": {}
        }, 
        {
            "source": "# Tic Tac Toe game\nboard=[\" \" for i in range(9)]\n\ndef print_board():\n    row1 = \"|{}|{}|{}|\".format(board[0],board[1],board[2])\n    row2 = \"|{}|{}|{}|\".format(board[3],board[4],board[5])\n    row3 = \"|{}|{}|{}|\".format(board[6],board[7],board[8])\n    print(\"-\"*20) \n    print(row1)\n    print(row2)\n    print(row3)\n    print(\"-\"*20) \n\n    \ndef player_move(player):    \n    \n        \n    if player==1:\n        icon = 'X'\n    else:\n        icon = 'O'\n    move_end = False    \n    while not move_end:   \n        print_board()\n        print(\"Player {} move\".format(player))\n        move = int(input(\"Enter your move 1-9 : \").strip())\n        if move < 1 or move > 9:\n            print(\"Invalid move!\")\n        else:\n            if board[move-1]==\" \": \n                board[move-1]=icon\n                move_end = True\n            else:\n                print(\"You cannot move there\")\n        \n# End of player_move  \n\ndef is_victory(player):\n    if player == 1:\n        icon = 'X'\n    else:\n        icon = 'O'\n        \n    if  (board[0]==icon and board[1]==icon and board[2] ==icon) or \\\n        (board[3]==icon and board[4]==icon and board[5] ==icon) or \\\n        (board[6]==icon and board[7]==icon and board[8] ==icon) or \\\n        (board[0]==icon and board[3]==icon and board[6] ==icon) or \\\n        (board[1]==icon and board[4]==icon and board[7] ==icon) or \\\n        (board[2]==icon and board[5]==icon and board[8] ==icon) or \\\n        (board[0]==icon and board[4]==icon and board[8] ==icon) or \\\n        (board[6]==icon and board[4]==icon and board[2] ==icon):\n        return(True)\n    else:\n        return(False)\n\n# Main starts here\n\nwinner = 0\nfor i in range(9) :\n\n    player = i%2\n    player_move(player+1)\n    if is_victory(player+1):\n        winner = player+1\n        break\n        \n        \nif winner == 0:\n    print(\"No winner !!!\")\nelse:\n    print(\"Winner is player {}!!!\".format(winner))\n\n    ", 
            "cell_type": "code", 
            "execution_count": 29, 
            "outputs": [
                {
                    "output_type": "stream", 
                    "name": "stdout", 
                    "text": "--------------------\n| | | |\n| | | |\n| | | |\n--------------------\nPlayer 1 move\nEnter your move 1-9 : 5\n--------------------\n| | | |\n| |X| |\n| | | |\n--------------------\nPlayer 2 move\nEnter your move 1-9 : 2\n--------------------\n| |O| |\n| |X| |\n| | | |\n--------------------\nPlayer 1 move\nEnter your move 1-9 : 4\n--------------------\n| |O| |\n|X|X| |\n| | | |\n--------------------\nPlayer 2 move\nEnter your move 1-9 : 6\n--------------------\n| |O| |\n|X|X|O|\n| | | |\n--------------------\nPlayer 1 move\nEnter your move 1-9 : 3\n--------------------\n| |O|X|\n|X|X|O|\n| | | |\n--------------------\nPlayer 2 move\nEnter your move 1-9 : 7\n--------------------\n| |O|X|\n|X|X|O|\n|O| | |\n--------------------\nPlayer 1 move\nEnter your move 1-9 : 1\n--------------------\n|X|O|X|\n|X|X|O|\n|O| | |\n--------------------\nPlayer 2 move\nEnter your move 1-9 : 9\n--------------------\n|X|O|X|\n|X|X|O|\n|O| |O|\n--------------------\nPlayer 1 move\nEnter your move 1-9 : 8\nNo winnder\n"
                }
            ], 
            "metadata": {}
        }, 
        {
            "source": "\n", 
            "cell_type": "markdown", 
            "metadata": {}
        }, 
        {
            "source": "from math import sqrt   # import only sqrt    usage sqrt()\n# import math           # import whole math.  usage math.sqrt()\n# Function sample\ndef count(*numbers):\n    count = 0\n    for num in numbers:\n        count = count+1\n    return(count)\n\ndef sum(*numbers):\n    sum = 0\n    for num in numbers:\n        sum = sum + num\n    return(sum)\n\ndef avg(*numbers):\n    return(sum(*numbers)/count(*numbers))\n\ndef sum_sq(*numbers):\n    sum_sq = 0\n    for num in numbers:\n        sum_sq = sum_sq + num**2\n    return(sum_sq)\n\n# standard deviation \ndef std(*numbers):  \n    sum_sq = 0\n    avg_num=avg(*numbers)\n    count_num=count(*numbers)\n    for num in numbers:\n        sum_sq = sum_sq + (num-avg_num)**2       \n    return(sqrt(sum_sq)/count_num)\n\n# variance \ndef variance(*numbers):  \n    sum_sq = 0\n    avg_num=avg(*numbers)\n    count_num=count(*numbers)\n    for num in numbers:\n        sum_sq = sum_sq + (num-avg_num)**2       \n    return(sum_sq/count_num)\n\n\nnumber_list=[1,2,3,4,5,6,7,8,9,10]\nprint(\"number_list=\",number_list)\nprint(\"*number_list=\",*number_list)\nprint(\"count(number_list)=\",count(number_list))\nprint(\"count(*number_list)=\",count(*number_list))\nprint(\"sum(*number_list)=\",sum(*number_list))\nprint(\"avg(*number_list)=\",avg(*number_list))\nprint(\"sum_sq(*number_list)=\",sum_sq(*number_list))\nprint(\"std(*number_list)=\",std(*number_list))\nprint(\"variance(*number_list)=\",variance(*number_list))", 
            "cell_type": "code", 
            "execution_count": 75, 
            "outputs": [
                {
                    "output_type": "stream", 
                    "name": "stdout", 
                    "text": "number_list= [1, 2, 3, 4, 5, 6, 7, 8, 9, 10]\n*number_list= 1 2 3 4 5 6 7 8 9 10\ncount(number_list)= 1\ncount(*number_list)= 10\nsum(*number_list)= 55\navg(*number_list)= 5.5\nsum_sq(*number_list)= 385\nstd(*number_list)= 0.9082951062292475\nvariance(*number_list)= 8.25\n"
                }
            ], 
            "metadata": {}
        }, 
        {
            "source": "# Classes and Objects using python.  Class syntax : class classname:   method syntax def __name__(parm): \n# The following example creates a class call Pound for UK coin,\nclass Pound:\n    value = 1.00\n    colour = \"gold\"\n    num_edges = 1\n    diameter = 22.5    # mm\n    thickness = 3.15   # mm\n    heads=True\n    \n    \ncoin1 = Pound()\ncoin2 = Pound()\n\ncoin1.colour = 'Greenish'\n\nprint('coin1.colour=',coin1.colour)\nprint('coin2.colour=',coin2.colour)\n\ncoin1.dummy = 'abc'\nprint('coin1.dummy=',coin1.dummy)   #  adding a new state?\n  \n\n", 
            "cell_type": "code", 
            "execution_count": 85, 
            "outputs": [
                {
                    "output_type": "stream", 
                    "name": "stdout", 
                    "text": "coin1.colour= Greenish\ncoin2.colour= gold\ncoin1.dummy= abc\n"
                }
            ], 
            "metadata": {}
        }, 
        {
            "source": "# Classes and Objects using python.  Class syntax : class classname:   method syntax def name(parm): \n# The following example creates a class call Pound for UK coin,\nimport random\nclass Pound:\n    def __init__(self, rare=False):      # will be triggered when an object is instantiated \n        self.is_rare=rare\n        if self.is_rare:\n            self.value = 10.00\n        else: \n            self.value = 1.00\n        self.colour = \"gold\"\n        self.num_edges = 1\n        self.diameter = 22.5    # mm\n        self.thickness = 3.15   # mm\n        self.heads=True\n    \n    def rust(self):\n        self.colour = 'Greenish'\n       \n    def clean(self):\n        self.colour = 'Gold'\n\n    def flip(self):\n        head_options=[True, False]\n        self.heads=random.choice(head_options)\n        \n    def __del__(self):                       # will be triggered when del is used against the object\n        print(\"Coin spent\")\n        \n        \ncoin1 = Pound(rare=True)\ncoin2 = Pound()\n\nprint('coin1.value=',coin1.value)\nprint('coin2.value=',coin2.value)\ncoin2.value = 5.00\n\nprint('coin2.value=',coin2.value)\ncoin1.rust()\nprint(\"coin1.colour\", coin1.colour)\n\ncoin1.clean()\nprint(\"coin1.colour\", coin1.colour)\n\ncoin1.flip()\nprint(\"coin1.heads :\", coin1.heads)\n\ndel coin1    # del is a command to terminate the instance \ndel coin2\n", 
            "cell_type": "code", 
            "execution_count": 121, 
            "outputs": [
                {
                    "output_type": "stream", 
                    "name": "stdout", 
                    "text": "coin1.value= 10.0\ncoin2.value= 1.0\ncoin2.value= 5.0\ncoin1.colour Greenish\ncoin1.colour Gold\ncoin1.heads : False\nCoin spent\nCoin spent\n"
                }
            ], 
            "metadata": {}
        }, 
        {
            "source": "# General class coin that can be used for all other coins\nimport random\n\nclass Coin:\n    def __init__(self, rare=False, clean=True, heads=True,**kwargs):\n        for key,value in kwargs.items():\n            setattr(self,key,value)      ## This will be same as setting self.original_value=1.00 for all key,values in data\n        \n        self.is_rare=rare           ## This fields are specific to each instance of the objects\n        self.is_clean=clean\n        self.heads=heads\n        \n        if self.is_rare:\n            self.value = self.original_value * 1.25\n        else:\n            self.value = self.original_value\n            \n        if self.is_clean:   \n            self.colour=self.clean_colour\n        else:\n            self.colour=self.rusty_colour\n            \n         \n    def rust(self):\n            self.colour = self.rusty_colour\n       \n    def clean(self):\n            self.colour = self.clean_colour\n\n    def flip(self):\n            head_options=[True, False]\n            self.heads=random.choice(head_options)\n        \n    def __del__(self):                       # will be triggered when del is used against the object\n            print(\"Coin spent\")\n            \n    def __str__(self):                        ## string representation of object.\n        \n        if self.original_value >= 1:\n            return(\"{} pound coin\".format(int(self.original_value)))\n        else: \n            return(\"{} pence coin\".format(int(self.original_value * 100)))\n            \nclass Pound(Coin):                           # define Pound base on Coin        \n            \n    def __init__(self):\n        data={\n            \"original_value\":1.00,\n            \"clean_colour\":\"gold\",\n            \"rusty_colour\":\"greenish\",\n            \"num_edge\":1,\n            \"diameter\":22.5,\n            \"thickness\":3.15,\n            \"mass\":9.5\n            }\n        super().__init__(**data)\n            \n            \nclass One_Pence(Coin):                           # define Pence base on Coin        \n            \n    def __init__(self):\n        data={\n            \"original_value\":0.01,\n            \"clean_colour\":\"bronze\",\n            \"rusty_colour\":\"bronish\",\n            \"num_edge\":1,\n            \"diameter\":20.3,\n            \"thickness\":1.52,\n            \"mass\":3.45\n            }\n        super().__init__(**data)          \n        \nclass Two_Pence(Coin):                           # define Pence base on Coin        \n            \n    def __init__(self):\n        data={\n            \"original_value\":0.02,\n            \"clean_colour\":\"bronze\",\n            \"rusty_colour\":\"bronish\",\n            \"num_edge\":1,\n            \"diameter\":20.3,\n            \"thickness\":1.52,\n            \"mass\":3.45\n            }\n        super().__init__(**data)   \n      \n    \nclass Five_Pence(Coin):                           # define Pence base on Coin        \n            \n    def __init__(self):\n        data={\n            \"original_value\":0.05,\n            \"clean_colour\":\"silver\",            \n            \"rusty_colour\":None,    # none is defined. Need a method override see below\n            \"num_edge\":1,\n            \"diameter\":18.0,\n            \"thickness\":1.77,\n            \"mass\":3.25\n    \n            }\n        super().__init__(**data)  \n        \n    def rust(self):\n        self.colour=self.clean_colour\n            \n            \n                ", 
            "cell_type": "code", 
            "execution_count": 179, 
            "outputs": [], 
            "metadata": {}
        }, 
        {
            "source": "coin1 = Pound()\nprint(coin1.value)\ncoin1.rust()\nprint(coin1.colour)\n\ncoins = [One_Pence(), Two_Pence(), Five_Pence(), Pound()]\n\nfor coin in coins:\n    arguments=[coin, coin.colour, coin.value, coin.mass]\n    string = \"{} - Color: {}, value: {}, mass: {}\".format(*arguments)\n    print(string)", 
            "cell_type": "code", 
            "execution_count": 181, 
            "outputs": [
                {
                    "output_type": "stream", 
                    "name": "stdout", 
                    "text": "Coin spent\n1.0\ngreenish\nCoin spent\nCoin spent\nCoin spent\nCoin spent\n1 pence coin - Color: bronze, value: 0.01, mass: 3.45\n2 pence coin - Color: bronze, value: 0.02, mass: 3.45\n5 pence coin - Color: silver, value: 0.05, mass: 3.25\n1 pound coin - Color: gold, value: 1.0, mass: 9.5\n"
                }
            ], 
            "metadata": {}
        }, 
        {
            "source": "", 
            "cell_type": "code", 
            "execution_count": null, 
            "outputs": [], 
            "metadata": {}
        }
    ], 
    "nbformat": 4, 
    "metadata": {
        "kernelspec": {
            "display_name": "Python 3.6", 
            "name": "python3", 
            "language": "python"
        }, 
        "language_info": {
            "mimetype": "text/x-python", 
            "nbconvert_exporter": "python", 
            "version": "3.6.8", 
            "name": "python", 
            "pygments_lexer": "ipython3", 
            "file_extension": ".py", 
            "codemirror_mode": {
                "version": 3, 
                "name": "ipython"
            }
        }
    }
}