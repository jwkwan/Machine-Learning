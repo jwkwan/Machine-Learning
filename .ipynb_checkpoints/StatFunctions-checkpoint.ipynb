{
 "cells": [
  {
   "cell_type": "code",
   "execution_count": 3,
   "metadata": {},
   "outputs": [],
   "source": [
    "import numpy as np\n",
    "import pandas as pd"
   ]
  },
  {
   "cell_type": "markdown",
   "metadata": {},
   "source": [
    "Read the sample regression file.  The regression file is a csv formatted file and contains two columns "
   ]
  },
  {
   "cell_type": "code",
   "execution_count": 34,
   "metadata": {},
   "outputs": [
    {
     "name": "stdout",
     "output_type": "stream",
     "text": [
      "df.head()\n",
      "      x     y\n",
      "0 -1.74  1.66\n",
      "1  1.24 -1.18\n",
      "2  0.29 -0.40\n",
      "3 -0.13  0.09\n",
      "4 -0.39  0.38\n",
      "df.sample()\n",
      "        x     y\n",
      "145  0.18 -0.09\n",
      "129  0.26 -0.28\n",
      "16  -1.58  1.45\n",
      "769  0.73 -0.68\n",
      "172  0.64 -0.62\n",
      "df.count\n",
      "x    1000\n",
      "y    1000\n",
      "dtype: int64\n"
     ]
    }
   ],
   "source": [
    "file_name=\"regression.txt\"\n",
    "df = pd.read_csv(file_name,header=None,names=[\"x\",\"y\"])\n",
    "print(\"df.head()\\n{}\".format(df.head(5)))\n",
    "print(\"df.sample()\\n{}\".format(df.sample(5)))\n",
    "print(\"df.count\\n{}\".format(df.count()))"
   ]
  },
  {
   "cell_type": "markdown",
   "metadata": {},
   "source": [
    "Plot the graph to see how it looks"
   ]
  },
  {
   "cell_type": "code",
   "execution_count": 32,
   "metadata": {},
   "outputs": [
    {
     "data": {
      "text/plain": [
       "<matplotlib.axes._subplots.AxesSubplot at 0x11ef57e48>"
      ]
     },
     "execution_count": 32,
     "metadata": {},
     "output_type": "execute_result"
    },
    {
     "data": {
      "image/png": "[encoded data removed]",
      "text/plain": [
       "<Figure size 432x288 with 1 Axes>"
      ]
     },
     "metadata": {
      "needs_background": "light"
     },
     "output_type": "display_data"
    }
   ],
   "source": [
    "df.plot(\"x\",\"y\")"
   ]
  },
  {
   "cell_type": "markdown",
   "metadata": {},
   "source": [
    "Need to convert it to the np arrays"
   ]
  },
  {
   "cell_type": "code",
   "execution_count": null,
   "metadata": {},
   "outputs": [],
   "source": []
  }
 ],
 "metadata": {
  "kernelspec": {
   "display_name": "Python 3",
   "language": "python",
   "name": "python3"
  },
  "language_info": {
   "codemirror_mode": {
    "name": "ipython",
    "version": 3
   },
   "file_extension": ".py",
   "mimetype": "text/x-python",
   "name": "python",
   "nbconvert_exporter": "python",
   "pygments_lexer": "ipython3",
   "version": "3.7.3"
  }
 },
 "nbformat": 4,
 "nbformat_minor": 2
}
