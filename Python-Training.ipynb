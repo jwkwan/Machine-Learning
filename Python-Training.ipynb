{
 "cells": [
  {
   "cell_type": "markdown",
   "metadata": {},
   "source": [
    "Learning Python\n"
   ]
  },
  {
   "cell_type": "code",
   "execution_count": 1,
   "metadata": {},
   "outputs": [
    {
     "name": "stdout",
     "output_type": "stream",
     "text": [
      "hello for now!\n"
     ]
    }
   ],
   "source": [
    "print (\"hello for now!\")"
   ]
  },
  {
   "cell_type": "code",
   "execution_count": 2,
   "metadata": {},
   "outputs": [
    {
     "name": "stdout",
     "output_type": "stream",
     "text": [
      "Update for Github\n"
     ]
    }
   ],
   "source": [
    "print (\"Update for Github\")"
   ]
  },
  {
   "cell_type": "markdown",
   "metadata": {},
   "source": [
    "How to ask a help question?  Use [Help] to ask the question.  Once it is solved, change it to [Solved]\n",
    "\n",
    "1) Observed Behavior\n",
    "\n",
    "Script run successful.\n",
    "\n",
    "2) Expect Behavior\n",
    "\n",
    "3) Link to Code\n",
    "\n",
    "gist.github.com to create a link with your codes.\n",
    "\n",
    "<script src=\"https://gist.github.com/jwkwan/a08cd5cf65305c44a15b8c2852b639eb.js\"></script>\n",
    "\n",
    "Instantly share code, notes, and snippets\n",
    "\n",
    "4) Where I think the problem is\n",
    "\n",
    "it worked in the shell but not in the script\n",
    "\n",
    "5) What I have tried\n",
    "\n",
    "I tried different numbers\n",
    "\n",
    "6) Errors and Warnings\n",
    "\n",
    "no error\n",
    "\n",
    "7) Version Info\n",
    "\n",
    "3.7\n",
    "\n",
    "8) Screenshots"
   ]
  },
  {
   "cell_type": "code",
   "execution_count": 7,
   "metadata": {},
   "outputs": [
    {
     "name": "stdout",
     "output_type": "stream",
     "text": [
      "type is  <class 'int'>\n",
      "type is  <class 'float'>\n",
      "type is  <class 'str'>\n"
     ]
    }
   ],
   "source": [
    "# variable is dynamic ie type can be changed.\n",
    "# data type int (14 bytes), str, float (16 bytes)\n",
    "number = 1\n",
    "print(\"type is \", type(number) )\n",
    "number = 1/2\n",
    "print(\"type is \", type(number) )\n",
    "number=\"hello\"\n",
    "print(\"type is \", type(number) )"
   ]
  },
  {
   "cell_type": "code",
   "execution_count": null,
   "metadata": {},
   "outputs": [],
   "source": []
  },
  {
   "cell_type": "code",
   "execution_count": 16,
   "metadata": {},
   "outputs": [
    {
     "name": "stdout",
     "output_type": "stream",
     "text": [
      "1\n",
      "2\n",
      "16\n"
     ]
    }
   ],
   "source": [
    "#math operator +,-,*,/ \n",
    "#% modular -> reminder, ** exponent\n",
    "print(5%2)\n",
    "print(10%4)\n",
    "print(2**4)"
   ]
  },
  {
   "cell_type": "code",
   "execution_count": 20,
   "metadata": {},
   "outputs": [
    {
     "name": "stdout",
     "output_type": "stream",
     "text": [
      "32\n",
      "-3.0\n",
      "2\n",
      "4.0\n"
     ]
    }
   ],
   "source": [
    "# Brackets(), Order (eg square), Division/Multiplication, Addition/Substraction\n",
    "print (2*(5-1)**2)\n",
    "print ( 1+2-3*4/2)\n",
    "print (1-2+3)\n",
    "print (2+4/2)"
   ]
  },
  {
   "cell_type": "code",
   "execution_count": 21,
   "metadata": {},
   "outputs": [
    {
     "name": "stdout",
     "output_type": "stream",
     "text": [
      "<class 'float'>\n",
      "<class 'int'>\n",
      "63\n",
      "<class 'int'>\n"
     ]
    }
   ],
   "source": [
    "#import modules from python library. F1 help key to see a list of moduels.\n",
    "\n",
    "import random\n",
    "\n",
    "difficulty = 3\n",
    "health=50\n",
    "potion_health = random.randint(25,50)/difficulty\n",
    "print (type(potion_health))\n",
    "potion_health = int(potion_health)\n",
    "print (type(potion_health))\n",
    "health = health + potion_health\n",
    "print (health)\n",
    "print (type(health))"
   ]
  },
  {
   "cell_type": "code",
   "execution_count": 42,
   "metadata": {},
   "outputs": [
    {
     "name": "stdout",
     "output_type": "stream",
     "text": [
      "3\n",
      "2\n",
      "3\n",
      "3.141592653589793\n",
      "1.0\n",
      "4.605170185988092\n",
      "5.0\n",
      "16.0\n"
     ]
    }
   ],
   "source": [
    "# math function\n",
    "import math\n",
    "print( round(2.7))\n",
    "print(math.floor(2.7))\n",
    "print(math.ceil(2.7))\n",
    "print(math.pi)\n",
    "print(math.sin(math.pi/2))\n",
    "print(math.log(100))\n",
    "print(math.hypot(3,4))\n",
    "print(math.pow(2,4))"
   ]
  },
  {
   "cell_type": "code",
   "execution_count": 47,
   "metadata": {},
   "outputs": [
    {
     "name": "stdout",
     "output_type": "stream",
     "text": [
      "<class 'str'>\n",
      "John said \"I will see you later\"\n",
      "I poll records from multiple partitions and just commit one record, then\n",
      "the rest of records seems to be committed too, for I can't poll them again.\n",
      "And I already set auto.commit to false, can't figure out why. But if the\n",
      "topic has only one partition, it works fine, the records that I didn't\n",
      "commit on the first poll will be re-polled again. Why the result is\n",
      "different when there is more than one partition?\n"
     ]
    }
   ],
   "source": [
    "#String \n",
    "name = \"James\"\n",
    "print(type(name))\n",
    "# Use single and double quote \n",
    "message = 'John said \"I will see you later\"'\n",
    "print (message )\n",
    "# Use 3 \"or' for longer paragraph\n",
    "long_message = \"\"\"I poll records from multiple partitions and just commit one record, then\n",
    "the rest of records seems to be committed too, for I can't poll them again.\n",
    "And I already set auto.commit to false, can't figure out why. But if the\n",
    "topic has only one partition, it works fine, the records that I didn't\n",
    "commit on the first poll will be re-polled again. Why the result is\n",
    "different when there is more than one partition?\"\"\"\n",
    "print (long_message)"
   ]
  },
  {
   "cell_type": "code",
   "execution_count": 1,
   "metadata": {},
   "outputs": [
    {
     "name": "stdout",
     "output_type": "stream",
     "text": [
      "What is your name?:  John Smith\n",
      "Your Name is  John Smith\n",
      "What is your age ?: 44\n",
      "Your age is  44\n",
      "<class 'str'>\n",
      "the record is John Smith44\n",
      "new record is John Smith====================44\n",
      "John Smith-====================-44\n",
      "44-John Smith-====================\n",
      "Your name is John Smith and your age is 44\n"
     ]
    }
   ],
   "source": [
    "#ask for name  Use input function.  Input function is a standard library function ie no import needed\n",
    "\n",
    "name = input(\"What is your name?:  \" )\n",
    "print (\"Your Name is \", name)\n",
    "age = input(\"What is your age ?: \")\n",
    "print (\"Your age is \", age)\n",
    "print (type(age))\n",
    "\n",
    "# String Operators format\n",
    "record= name + age\n",
    "print (\"the record is \" + record)\n",
    "separator = \"=\"*20\n",
    "record = name + separator + age\n",
    "print (\"new record is \" + record)\n",
    "print(\"{0}-{2}-{1}\".format(name,age,separator))\n",
    "print(\"{1}-{0}-{2}\".format(name,age,separator))\n",
    "record = \"Your name is {} and your age is {}\"\n",
    "output = record.format(name,age)\n",
    "print (output)"
   ]
  },
  {
   "cell_type": "code",
   "execution_count": 127,
   "metadata": {},
   "outputs": [
    {
     "name": "stdout",
     "output_type": "stream",
     "text": [
      "I am  56  years old\n",
      "string : This is a String\n",
      "count i : 3\n",
      "upper : THIS IS A STRING\n",
      "lower : this is a string\n",
      "capitalize : This is a string\n",
      "title : This Is A String\n",
      "'123'.isdigit() ? : True\n",
      "'abcd'.isalpha() ? : True\n",
      "'abcd123'.isalnum() ? : True\n",
      "'abcd123!'.isalnum() ? : False\n",
      "string.index('is') : 2\n",
      "string.find('abc') : -1\n",
      "string.strip('Th') : is is a String\n",
      "string.strip('ing') : This is a Str\n",
      "string.strip('is') : This is a String\n",
      "'  abcde  '.strip() : abcde\n",
      "'XXXabcdeXXX'.strip('XX').capitalize() : Abcde\n"
     ]
    }
   ],
   "source": [
    "# String operators   somestring.somemethod()  for help see string method in the documentation\n",
    "start='I am '\n",
    "age = 56\n",
    "end = ' years old'\n",
    "\n",
    "output=\"{} {} {}\".format(start,age, end)\n",
    "print(output)\n",
    "\n",
    "string = 'This is a String'\n",
    "print(\"string : \"+ string)\n",
    "print(\"count i : \"+ str(string.count('i')))\n",
    "print(\"upper : \"+ string.upper())\n",
    "print(\"lower : \"+ string.lower())\n",
    "print(\"capitalize : \"+ string.capitalize())\n",
    "print(\"title : \"+ string.title())\n",
    "print(\"'123'.isdigit() ? : \"+ str('123'.isdigit()))\n",
    "print(\"'abcd'.isalpha() ? : \"+ str('abdc'.isalpha()))\n",
    "print(\"'abcd123'.isalnum() ? : \"+ str('abdc123'.isalnum()))\n",
    "print(\"'abcd123!'.isalnum() ? : \"+ str('abdc123!'.isalnum()))\n",
    "print(\"string.index('is') : \"+ str(string.index('is')))\n",
    "print(\"string.find('abc') : \"+ str(string.find('abc')))\n",
    "print(\"string.strip('Th') : \"+ str(string.strip('Th')))\n",
    "print(\"string.strip('ing') : \"+ str(string.strip('ing')))\n",
    "print(\"string.strip('is') : \"+ str(string.strip('is')))\n",
    "print(\"'  abcde  '.strip() : \"+ str('  abcde  '.strip()))\n",
    "print(\"'XXXabcdeXXX'.strip('XX').capitalize() : \"+ str('XXXabcdeXXX'.strip('XX').capitalize()))\n",
    "#name=input(\"what is your name :\").strip()\n",
    "#print (name + str(len(name)))\n"
   ]
  },
  {
   "cell_type": "code",
   "execution_count": 58,
   "metadata": {},
   "outputs": [
    {
     "name": "stdout",
     "output_type": "stream",
     "text": [
      "string[0] : T\n",
      "string[5] : i\n",
      "string[0:4] : This\n",
      "string[0:4:2] : Ti\n",
      "string[5:] : is a string\n",
      "string[5::2] : i  tig\n",
      "string[:5] : This \n",
      "string[-5:-3] : tr\n",
      "string[string.index(\" is\"):] :  is a string\n"
     ]
    }
   ],
   "source": [
    "# string slice\n",
    "string = 'This is a string'\n",
    "print ('string[0] : ' + string[0])\n",
    "print ('string[5] : ' + string[5])\n",
    "print ('string[0:4] : ' + string[0:4])\n",
    "print ('string[0:4:2] : ' + string[0:4:2])\n",
    "print ('string[5:] : ' + string[5:])\n",
    "print ('string[5::2] : ' + string[5::2])\n",
    "print ('string[:5] : ' + string[:5])\n",
    "print ('string[-5:-3] : ' + string[-5:-3])\n",
    "print ('string[string.index(\" is\"):] : ' + string[string.index(\" is\"):])"
   ]
  },
  {
   "cell_type": "code",
   "execution_count": 83,
   "metadata": {},
   "outputs": [
    {
     "name": "stdout",
     "output_type": "stream",
     "text": [
      "True\n",
      "2>3 :False\n",
      "2+1==3 :True\n",
      "2!=3 :True\n",
      "True & False : False\n",
      "True | False : True\n",
      "This is True\n",
      "This is after first True\n",
      "Is this true or false\n"
     ]
    }
   ],
   "source": [
    "# Logic and Conditional Flow\n",
    "A = True\n",
    "B = False\n",
    "print(A)\n",
    "print('2>3 :' + str(2>3))\n",
    "print('2+1==3 :' + str(2+1==3))\n",
    "print('2!=3 :' + str(2!=3))\n",
    "print('True & False : ' + str(True & False))   # & can be replaced with and\n",
    "print('True | False : ' + str(True | False))     # | can be replaced with or\n",
    "\n",
    "if (True) : \n",
    "    print(\"This is True\")\n",
    "    print(\"This is after first True\")\n",
    "elif(True):\n",
    "    print(\"This is True too\")\n",
    "else :\n",
    "    print(\"This is False\")\n",
    "    print(\"This is also False\")\n",
    "print(\"Is this true or false\")    \n"
   ]
  },
  {
   "cell_type": "code",
   "execution_count": 160,
   "metadata": {},
   "outputs": [
    {
     "name": "stdout",
     "output_type": "stream",
     "text": [
      "[10, 20, -5, -3, 20]\n",
      "<class 'list'>\n",
      "['A', 'Bo', 'Car', 1, 2, 3, True, False]\n",
      "type(list2) =<class 'list'>\n",
      "list2[-1] : False\n",
      "list2[3:5] : [1, 2]\n",
      "x=3\n",
      "type(x) =<class 'int'>\n",
      "x=[1, 2]\n",
      "type(x) =<class 'list'>\n",
      "table1=[[10, 20, -5, -3, 20], ['A', 'Bo', 'Car', 1, 2, 3, True, False]]\n",
      "type(table1) =<class 'list'>\n",
      "x=A\n",
      "x=[10, 20, -5, -3, 20]\n",
      "y=[10, 20, -5, -3, 20]\n",
      "x+y=[10, 20, -5, -3, 20, 10, 20, -5, -3, 20]\n",
      "x*2=[10, 20, -5, -3, 20, 10, 20, -5, -3, 20]\n",
      "10 in x?=True\n",
      "new y=[10, 20, 123, -5, -3, 20]\n",
      "x=[10, 20, 123, -5, -3, 20]\n",
      "list1=[10, 20, 123, -5, -3, 20]\n",
      "table1=[[10, 20, 123, -5, -3, 20], ['A', 'Bo', 'Car', 1, 2, 3, True, False]]\n",
      "<class 'list'>\n",
      "a=None\n"
     ]
    }
   ],
   "source": [
    "#lists, tables, \n",
    "list1=[ 10, 20, -5, -3, 20]\n",
    "print(list1)\n",
    "print(type(list1))\n",
    "list2=['A','Bo','Car',1,2,3,True, False]\n",
    "print(list2)\n",
    "print('type(list2) =' + str(type(list2)))\n",
    "print(\"list2[-1] : \" + str(list2[-1]))\n",
    "print(\"list2[3:5] : \" + str(list2[3:5]))\n",
    "x=list2[5]\n",
    "print(\"x=\"+str(x))\n",
    "print('type(x) =' + str(type(x)))\n",
    "x=list2[3:5]\n",
    "print(\"x=\"+str(x))\n",
    "print('type(x) =' + str(type(x)))\n",
    "\n",
    "table1=[list1,list2]\n",
    "print ('table1='+str(table1))\n",
    "print('type(table1) =' + str(type(table1)))\n",
    "x=table1[1][0]\n",
    "print('x='+ str(x))\n",
    "x=table1[0]\n",
    "y=table1[0]\n",
    "print('x='+ str(x) )\n",
    "print('y='+ str(y) )\n",
    "print('x+y='+str(x+y))\n",
    "print('x*2='+str(x*2))\n",
    "print(\"10 in x?=\" + str(10 in x))\n",
    "# uncomment following to see the effect of del[],remove(), append()\n",
    "#del y[5]\n",
    "#y.remove(-5)\n",
    "#y.append(100)\n",
    "#y=y+[1]\n",
    "#y=y+['abc']\n",
    "#y=y+list(str(123))\n",
    "y.insert(2,123)\n",
    "print('new y='+ str(y) )\n",
    "print(\"x=\"+str(x))\n",
    "print('list1='+str(list1))\n",
    "print('table1='+str(table1))\n",
    "#y=list1\n"
   ]
  },
  {
   "cell_type": "code",
   "execution_count": 165,
   "metadata": {},
   "outputs": [
    {
     "name": "stdout",
     "output_type": "stream",
     "text": [
      "[5, 2, 3, 100]\n",
      "None\n"
     ]
    }
   ],
   "source": [
    "# more about list append or remove.  use list.append() instead of list=list.append() or remove\n",
    "a=[1,2,3]\n",
    "a[0]=5\n",
    "a.append(100)\n",
    "print (a)\n",
    "a=a.append(200)\n",
    "print (a)\n"
   ]
  },
  {
   "cell_type": "code",
   "execution_count": 188,
   "metadata": {},
   "outputs": [
    {
     "name": "stdout",
     "output_type": "stream",
     "text": [
      "t1=(1, 2, 3, 'a', 'B', 'c')\n",
      "<class 'tuple'>\n",
      "t2=(1, 2, 3, 'a', 'B', 'c')\n",
      "t3=(1, 2, 3, 'a', 'B', 'c')\n",
      "t4=(1, 2, 3, 'a', 'B', 'c', 1, 2, 3, 'a', 'B', 'c')\n",
      "t1[1:3]=(2, 3)\n",
      "t2=[-1, 2, 3, 'a', 'B', 'c']\n",
      "<class 'list'>\n",
      "t2=(-1, 2, 3, 'a', 'B', 'c')\n",
      "<class 'tuple'>\n",
      "multiple assigment--------------------\n",
      "t1=1\n",
      "<class 'int'>\n",
      "t2=2\n",
      "t3=3\n",
      "multiple list assigment--------------------\n",
      "t1=1\n",
      "<class 'int'>\n",
      "t2=2\n",
      "t3=3\n"
     ]
    }
   ],
   "source": [
    "# Tuples similar to list but are constant values and hence cannot be changed\n",
    "t1 = 1,2,3,'a','B','c'\n",
    "t2 = (1,2,3,'a','B','c')   \n",
    "t3 = t2\n",
    "t4 = t1 + t2\n",
    "print('t1='+str(t1))\n",
    "print(type(t1))\n",
    "print('t2='+str(t2))\n",
    "print('t3='+str(t3))\n",
    "print('t4='+str(t4))\n",
    "print('t1[1:3]='+ str(t1[1:3]))\n",
    "t2=list(t2)\n",
    "t2[0]=-1\n",
    "print('t2='+str(t2))\n",
    "print(type(t2))\n",
    "t2=tuple(t2)\n",
    "print('t2='+str(t2))\n",
    "print(type(t2))\n",
    "\n",
    "# multipe assignment\n",
    "print(\"multiple assigment\" + '-'*20)\n",
    "(t1,t2,t3) = (1,2,3)\n",
    "print('t1='+str(t1))\n",
    "print(type(t1))\n",
    "print('t2='+str(t2))\n",
    "print('t3='+str(t3))\n",
    "\n",
    "print(\"multiple list assigment\" + '-'*20)\n",
    "(t1,t2,t3) = [1,2,3]\n",
    "print('t1='+str(t1))\n",
    "print(type(t1))\n",
    "print('t2='+str(t2))\n",
    "print('t3='+str(t3))"
   ]
  },
  {
   "cell_type": "code",
   "execution_count": 38,
   "metadata": {},
   "outputs": [
    {
     "ename": "SyntaxError",
     "evalue": "invalid syntax (<ipython-input-38-27e873c48950>, line 14)",
     "output_type": "error",
     "traceback": [
      "\u001b[0;36m  File \u001b[0;32m\"<ipython-input-38-27e873c48950>\"\u001b[0;36m, line \u001b[0;32m14\u001b[0m\n\u001b[0;31m    add student_age{'April':26}\u001b[0m\n\u001b[0m                  ^\u001b[0m\n\u001b[0;31mSyntaxError\u001b[0m\u001b[0;31m:\u001b[0m invalid syntax\n"
     ]
    }
   ],
   "source": [
    "# Dictionary \n",
    "\n",
    "student_age = {\"Alice\":18, \"Alison\":19, \"April\":15, \"Angel\":20, \"Emily\":19}\n",
    "print(\"student_age : \", student_age)\n",
    "print(\"student_age['April']=\" + str(student_age['April']))\n",
    "student_age['April'] = 24\n",
    "print(\"student_age['April']=\" + str(student_age['April']))\n",
    "del student_age['April']\n",
    "print(\"student_age.keys()=\" +str(student_age.keys()) )\n",
    "print(\"student_age.values()=\" +str(student_age.values()) )\n",
    "print(\"list(student_age) = \" + str(list(student_age)) )\n",
    "print(\"list(student_age.keys()) = \" + str(list(student_age.keys())) )\n",
    "print(\"list(student_age.values())[1:3] = \" + str(list(student_age.values())[1:3]) )\n",
    "\n",
    "print(\"student_age.items() = \" + str(student_age.items()) )\n",
    "#print(\"student_age['April']=\" + str(student_age['April']))\n"
   ]
  },
  {
   "cell_type": "code",
   "execution_count": 48,
   "metadata": {},
   "outputs": [
    {
     "name": "stdout",
     "output_type": "stream",
     "text": [
      "students = {'Alice': ['ID001', 26, 'A'], 'April': ['ID002', 21, 'B'], 'Alison': ['ID003', 18, 'C'], 'Amazon': ['ID004', 23, 'D'], 'Ashley': ['ID005', 19, 'E']}\n",
      "students[\"April\"] = ['ID002', 21, 'B']\n",
      "students[\"April\"][1:] = [21, 'B']\n"
     ]
    }
   ],
   "source": [
    "# Dictionary as db\n",
    "students = { \n",
    "  \"Alice\":[\"ID001\", 26,\"A\"],\n",
    "  \"April\":[\"ID002\", 21,\"B\"],\n",
    "  \"Alison\":[\"ID003\", 18,\"C\"],\n",
    "  \"Amazon\":[\"ID004\", 23,\"D\"],\n",
    "  \"Ashley\":[\"ID005\", 19,\"E\"]\n",
    "}\n",
    "print(\"students = \" + str(students))\n",
    "print('students[\"April\"] = ' + str(students[\"April\"]))\n",
    "print('students[\"April\"][1:] = ' + str(students[\"April\"][1:]))\n"
   ]
  },
  {
   "cell_type": "code",
   "execution_count": 2,
   "metadata": {},
   "outputs": [
    {
     "name": "stdout",
     "output_type": "stream",
     "text": [
      "students = {'Alice': {'id': 'ID001', 'age': 26, 'grade': 'A'}, 'April': {'id': 'ID002', 'age': 21, 'grade': 'B'}, 'Alison': {'id': 'ID003', 'age': 18, 'grade': 'C'}, 'Amazon': {'id': 'ID004', 'age': 23, 'grade': 'D'}, 'Ashley': {'id': 'ID005', 'age': 19, 'grade': 'E'}}\n",
      "students[\"April\"][\"id\"] = ID002\n",
      "students[\"April\"][\"age\"] = 21\n",
      "students[\"April\"][\"grade\"] = B\n"
     ]
    }
   ],
   "source": [
    "# Dictionary as db 2\n",
    "students = { \n",
    "  \"Alice\":{\"id\":\"ID001\", \"age\":26,\"grade\":\"A\"},\n",
    "  \"April\":{\"id\":\"ID002\", \"age\":21,\"grade\":\"B\"},\n",
    "  \"Alison\":{\"id\":\"ID003\", \"age\":18,\"grade\":\"C\"},\n",
    "  \"Amazon\":{\"id\":\"ID004\", \"age\":23,\"grade\":\"D\"},\n",
    "  \"Ashley\":{\"id\":\"ID005\", \"age\":19,\"grade\":\"E\"}\n",
    "}\n",
    "print(\"students = \" + str(students))\n",
    "print('students[\"April\"][\"id\"] = ' + str(students[\"April\"][\"id\"]))\n",
    "print('students[\"April\"][\"age\"] = ' + str(students[\"April\"][\"age\"]))\n",
    "print('students[\"April\"][\"grade\"] = ' + str(students[\"April\"][\"grade\"]))\n"
   ]
  },
  {
   "cell_type": "code",
   "execution_count": 6,
   "metadata": {},
   "outputs": [
    {
     "name": "stdout",
     "output_type": "stream",
     "text": [
      "What is your name?Aprilc\n",
      "Student Aprilc is not in our database\n",
      "What is your name?ad\n",
      "Student Ad is not in our database\n",
      "What is your name?a\n",
      "Student A is not in our database\n",
      "What is your name?d\n",
      "Student D is not in our database\n",
      "What is your name?d\n",
      "Student D is not in our database\n",
      "What is your name?f\n",
      "Student F is not in our database\n",
      "What is your name?e\n",
      "Student E is not in our database\n",
      "What is your name?f\n",
      "Student F is not in our database\n",
      "What is your name?e\n",
      "Student E is not in our database\n",
      "What is your name?e\n",
      "Student E is not in our database\n"
     ]
    }
   ],
   "source": [
    "# build a simple program to get student name and then display grade\n",
    "students = { \n",
    "  \"Alice\":[\"ID001\", 26,\"A\"],\n",
    "  \"April\":[\"ID002\", 21,\"B\"],\n",
    "  \"Alison\":[\"ID003\", 18,\"C\"],\n",
    "  \"Amazon\":[\"ID004\", 23,\"D\"],\n",
    "  \"Ashley\":[\"ID005\", 19,\"E\"]\n",
    "}\n",
    "num=10\n",
    "while num > 0:\n",
    "    num = num -1\n",
    "    name = input(\"What is your name?\").strip().title()\n",
    "    if name in students:\n",
    "        age = int(input(\"what is your age?\").strip())\n",
    "        if age == students[name][1]:\n",
    "            print(\"Student {} has a grade {}\".format(name, students[name][2]))\n",
    "        else:\n",
    "            print(\"Student's grade is confidential\")\n",
    "    else: \n",
    "        print(\"Student {} is not in our database\".format(name))\n",
    "   "
   ]
  },
  {
   "cell_type": "code",
   "execution_count": 9,
   "metadata": {},
   "outputs": [
    {
     "name": "stdout",
     "output_type": "stream",
     "text": [
      "What is your name? :James Leung\n",
      "What is your name? :Bob Polk\n",
      "What is your name? :Jonanthan Soci\n",
      "List of names :['James Leung', 'Bob Polk', 'Jonanthan Soci']\n"
     ]
    }
   ],
   "source": [
    "# Loop\n",
    "L=[]\n",
    "while len(L) < 3:\n",
    "    L.append(input(\"What is your name? :\").strip().title())\n",
    "    \n",
    "print(\"List of names :\" + str(L))"
   ]
  },
  {
   "cell_type": "code",
   "execution_count": 20,
   "metadata": {},
   "outputs": [
    {
     "name": "stdout",
     "output_type": "stream",
     "text": [
      "4\n"
     ]
    }
   ],
   "source": [
    "from random import choice\n",
    "dice=[1,2,3,4,5,6]\n",
    "print (choice(dice))"
   ]
  },
  {
   "cell_type": "code",
   "execution_count": 10,
   "metadata": {},
   "outputs": [
    {
     "name": "stdout",
     "output_type": "stream",
     "text": [
      "1\n",
      "2\n",
      "4\n",
      "1\n",
      "letter a\n",
      "letter b\n",
      "letter c\n",
      "letter  \n",
      "letter d\n",
      "roll 1\n",
      "roll 2\n",
      "roll 3\n",
      "roll 4\n",
      "roll 5\n",
      "roll 6\n",
      "{'male': ['Tom', 'Charlie', 'James', 'Jack', 'Brian'], 'female': ['Alice', 'April', 'Emily', 'Jamie', 'Dee', 'Julie']}\n",
      "male\n",
      "The male student name is Charlie\n",
      "The male student name is James\n",
      "The male student name is Jack\n",
      "The male student name is Brian\n",
      "female\n",
      "The female student name is Jamie\n"
     ]
    }
   ],
   "source": [
    "import random\n",
    "random.choice\n",
    "\n",
    "dice=[1,2,3,4,5,6]\n",
    "\n",
    "for number in range(1,5):\n",
    "  print(random.choice(dice))\n",
    "\n",
    "for letter in \"abc d\":\n",
    "  print(\"letter \" + letter)\n",
    "\n",
    "for roll in dice:\n",
    "    print(\"roll \" + str(roll))\n",
    "    \n",
    "students = {\n",
    "    \"male\":[\"Tom\",\"Charlie\",\"James\",\"Jack\",\"Brian\"],\n",
    "    \"female\":[\"Alice\",\"April\",\"Emily\",\"Jamie\",\"Dee\",\"Julie\"]\n",
    "    }\n",
    "\n",
    "print(students)\n",
    "for key in students.keys():\n",
    "    print (key)\n",
    "    for name in students[key]:\n",
    "        if 'a' in name:\n",
    "          print(\"The {} student name is {}\".format(key,name))\n",
    "    "
   ]
  },
  {
   "cell_type": "code",
   "execution_count": 24,
   "metadata": {},
   "outputs": [
    {
     "name": "stdout",
     "output_type": "stream",
     "text": [
      "[2, 4, 6, 8, 10, 12, 14, 16, 18, 20, 22, 24, 26, 28, 30, 32, 34, 36, 38, 40, 42, 44, 46, 48, 50, 52, 54, 56, 58, 60, 62, 64, 66, 68, 70, 72, 74, 76, 78, 80, 82, 84, 86, 88, 90, 92, 94, 96, 98]\n",
      "[['THE', 'the', 3], ['QUICK', 'quick', 5], ['FOX', 'fox', 3], ['JUMPS', 'jumps', 5], ['OVER', 'over', 4], ['THE', 'the', 3], ['LAZY', 'lazy', 4], ['DOG', 'dog', 3]]\n",
      "[['The', 'the', 3], ['Quick', 'quick', 5], ['Fox', 'fox', 3], ['Jumps', 'jump', 5], ['Over', 'over', 4], ['The', 'the', 3], ['Lazy', 'lazy', 4], ['Dog', 'dog', 3]]\n"
     ]
    }
   ],
   "source": [
    "# List Comprehensions  var=[[f(x)...] for x = something]\n",
    "\n",
    "even_num = [x for x in range(1,100) if x%2==0]\n",
    "print (even_num)\n",
    "\n",
    "words=[\"the\",\"quick\",\"fox\",\"jumps\",\"over\",\"the\",\"lazy\",\"dog\"]\n",
    "answer=[[w.upper(), w.lower(),len(w)] for w in words]\n",
    "print(answer)\n",
    "test=[[w.capitalize(), w.strip('s'), len(w)] for w in words]\n",
    "print(test)"
   ]
  },
  {
   "cell_type": "code",
   "execution_count": 1,
   "metadata": {},
   "outputs": [
    {
     "name": "stdout",
     "output_type": "stream",
     "text": [
      "Enter a sentenceThis is a test line\n",
      "this is a test line\n",
      "isthay\n",
      "isyay\n",
      "ayay\n",
      "esttay\n",
      "inelay\n",
      "isthay isyay ayay esttay inelay\n"
     ]
    }
   ],
   "source": [
    "# Pig Latin Translator\n",
    "\n",
    "sentence=input(\"Enter a sentence\").strip('.').lower()\n",
    "print(sentence)\n",
    "\n",
    "words=sentence.split()\n",
    "\n",
    "new_words=[]\n",
    "for word in words:\n",
    "    if word[0] in 'aeiou':\n",
    "        new_word = word + 'yay'\n",
    "    else:\n",
    "        v_pos=0\n",
    "        for c in word:\n",
    " #           print(\"c={},pos={}\".format(c,v_pos))\n",
    "            if c in 'aeiou':\n",
    "                new_word = word[v_pos:]+word[:v_pos] + 'ay'\n",
    "#                print(\"hit newword={}\".format(new_word))\n",
    "                break\n",
    "            else:    \n",
    "                v_pos=v_pos+1\n",
    "#            print(\"c={},pos={}\".format(c,v_pos))\n",
    "            \n",
    "    new_words.append(new_word)    \n",
    "    print (new_word)\n",
    "    \n",
    "#print(new_words)\n",
    "output=\" \".join(new_words)\n",
    "print(output)"
   ]
  },
  {
   "cell_type": "code",
   "execution_count": 76,
   "metadata": {},
   "outputs": [
    {
     "name": "stdout",
     "output_type": "stream",
     "text": [
      "eDCba\n",
      "[4, 3, 2, 1]\n",
      "['123', 'XYZ', 'EDE', 'abc']\n"
     ]
    }
   ],
   "source": [
    "#function : def func1(parm1...):\n",
    "def add(x,y):\n",
    "    return(x+y)\n",
    "\n",
    "def reverse(word):\n",
    "    return word[::-1]\n",
    "\n",
    "print(reverse(\"abCDe\"))\n",
    "\n",
    "print(reverse([1,2,3,4]) )\n",
    "\n",
    "print(reverse([\"abc\",\"EDE\",\"XYZ\",\"123\"]) )"
   ]
  },
  {
   "cell_type": "code",
   "execution_count": 83,
   "metadata": {},
   "outputs": [
    {
     "name": "stdout",
     "output_type": "stream",
     "text": [
      "50\n",
      "100\n",
      "100\n",
      "[50, 60, 70]\n",
      "[10, 20, 30]\n",
      "[50, 20, 30]\n",
      "[50, 20, 30]\n"
     ]
    }
   ],
   "source": [
    "#global vs local variables.  Variables inside of a function is local. \n",
    "\n",
    "a = 250 \n",
    "\n",
    "def f1():\n",
    "    a=50\n",
    "    print(a)\n",
    "f1()    \n",
    "def f2():\n",
    "    global a     # this points to the global variable\n",
    "    a=100\n",
    "    print(a)\n",
    "f2()  \n",
    "\n",
    "print(a)\n",
    "\n",
    "b = [10, 20, 30]\n",
    "def f3():\n",
    "    b = [50,60,70]\n",
    "    print(b)\n",
    "f3()\n",
    "print(b)\n",
    "def f4():\n",
    "    b[0] = 50   # this is a global variable\n",
    "    print(b)\n",
    "f4()\n",
    "print(b)"
   ]
  },
  {
   "cell_type": "code",
   "execution_count": 18,
   "metadata": {},
   "outputs": [
    {
     "name": "stdout",
     "output_type": "stream",
     "text": [
      "Hi Jack, you are 23 years old and you like skii\n",
      "Hi Jackson, you are 23 years old and you like bicycle\n",
      "Hi Jack, you are 23 years old and you like C++\n"
     ]
    }
   ],
   "source": [
    "# function with parameters.  syntax : def functionName():\n",
    "def fun1(name, age, likes=\"C++\"):\n",
    "    sentence = \"Hi {}, you are {} years old and you like {}\".format(name,age,likes)\n",
    "    return sentence\n",
    "\n",
    "print(fun1(\"Jack\", 23, \"skii\"))  ## call by position\n",
    "print(fun1(age=23,name=\"Jackson\",likes=\"bicycle\"))   ## call by keyword\n",
    "# this one is invalid fun1(age=23,name=\"Jackson\",\"bicycle\")\n",
    "\n",
    "print(fun1(\"Jack\",23))   ## with default values in the function"
   ]
  },
  {
   "cell_type": "code",
   "execution_count": 47,
   "metadata": {},
   "outputs": [
    {
     "name": "stdout",
     "output_type": "stream",
     "text": [
      "numbers=[1, 2, 3, 4, 5]\n",
      "*numbers =  1 2 3 4 5\n",
      "add(1,2,3,4,5,6) = 21\n",
      "number_list [[1, 2], [3, 4], [5, 6]]\n",
      "*number_list [1, 2] [3, 4] [5, 6]\n",
      "dictionary= {'name': 'James', 'age': 16, 'likes': 'model plane'}\n",
      "*dictionary= name age likes\n",
      " \n",
      "fun1(*dictionary)= Hi name, you are age years old and you like likes\n",
      "fun1(**dictionary)= Hi James, you are 16 years old and you like model plane\n",
      "key1:Value1\n",
      "key2:V2\n",
      "key3:V3\n"
     ]
    }
   ],
   "source": [
    "# packing and unpacking variables\n",
    "\n",
    "numbers=[1,2,3,4,5]\n",
    "print(\"numbers={}\".format(numbers))\n",
    "print(\"*numbers = \",*numbers)  #cannot use the format for unpacked number because format only takes one parm\n",
    "\n",
    "\n",
    "\n",
    "\n",
    "def add(*numbers):\n",
    "    total = 0\n",
    "    for number in numbers:\n",
    "       total += number\n",
    "    return(total)\n",
    "\n",
    "print('add(1,2,3,4,5,6) =', add(1,2,3,4,5,6))\n",
    "number_list = [[1,2],[3,4],[5,6]]\n",
    "print(\"number_list\", number_list)\n",
    "print(\"*number_list\", *number_list)\n",
    "##print(\"**number_list\", **number_list)   ##TypeError: print() argument after ** must be a mapping, not list\n",
    "\n",
    "\n",
    "dictionary={\"name\":\"James\",'age':16,\"likes\":\"model plane\"}\n",
    "print(\"dictionary=\", dictionary)\n",
    "print(\"*dictionary=\", *dictionary)\n",
    "#print(\"**dictionary=\", **dictionary)  ## TypeError: 'name' is an invalid keyword argument for this function\n",
    "\n",
    "print(\" \")\n",
    "print(\"fun1(*dictionary)=\",fun1(*dictionary))\n",
    "print(\"fun1(**dictionary)=\",fun1(**dictionary))  ## worked for passing the complete parameters to the function\n",
    "\n",
    "\n",
    "\n",
    "#print(\"**dictionary=\",**dictionary)\n",
    "#print(\"fun1(**dictionary)=\",fun1(**dictionary))\n",
    "\n",
    "def foo(**kwargs):\n",
    "    for key, value in kwargs.items():\n",
    "        print(\"{}:{}\".format(key, value))\n",
    "        \n",
    "foo(key1=\"Value1\",key2=\"V2\",key3=\"V3\")"
   ]
  },
  {
   "cell_type": "code",
   "execution_count": 29,
   "metadata": {},
   "outputs": [
    {
     "name": "stdout",
     "output_type": "stream",
     "text": [
      "--------------------\n",
      "| | | |\n",
      "| | | |\n",
      "| | | |\n",
      "--------------------\n",
      "Player 1 move\n",
      "Enter your move 1-9 : 5\n",
      "--------------------\n",
      "| | | |\n",
      "| |X| |\n",
      "| | | |\n",
      "--------------------\n",
      "Player 2 move\n",
      "Enter your move 1-9 : 2\n",
      "--------------------\n",
      "| |O| |\n",
      "| |X| |\n",
      "| | | |\n",
      "--------------------\n",
      "Player 1 move\n",
      "Enter your move 1-9 : 4\n",
      "--------------------\n",
      "| |O| |\n",
      "|X|X| |\n",
      "| | | |\n",
      "--------------------\n",
      "Player 2 move\n",
      "Enter your move 1-9 : 6\n",
      "--------------------\n",
      "| |O| |\n",
      "|X|X|O|\n",
      "| | | |\n",
      "--------------------\n",
      "Player 1 move\n",
      "Enter your move 1-9 : 3\n",
      "--------------------\n",
      "| |O|X|\n",
      "|X|X|O|\n",
      "| | | |\n",
      "--------------------\n",
      "Player 2 move\n",
      "Enter your move 1-9 : 7\n",
      "--------------------\n",
      "| |O|X|\n",
      "|X|X|O|\n",
      "|O| | |\n",
      "--------------------\n",
      "Player 1 move\n",
      "Enter your move 1-9 : 1\n",
      "--------------------\n",
      "|X|O|X|\n",
      "|X|X|O|\n",
      "|O| | |\n",
      "--------------------\n",
      "Player 2 move\n",
      "Enter your move 1-9 : 9\n",
      "--------------------\n",
      "|X|O|X|\n",
      "|X|X|O|\n",
      "|O| |O|\n",
      "--------------------\n",
      "Player 1 move\n",
      "Enter your move 1-9 : 8\n",
      "No winnder\n"
     ]
    }
   ],
   "source": [
    "# Tic Tac Toe game\n",
    "board=[\" \" for i in range(9)]\n",
    "\n",
    "def print_board():\n",
    "    row1 = \"|{}|{}|{}|\".format(board[0],board[1],board[2])\n",
    "    row2 = \"|{}|{}|{}|\".format(board[3],board[4],board[5])\n",
    "    row3 = \"|{}|{}|{}|\".format(board[6],board[7],board[8])\n",
    "    print(\"-\"*20) \n",
    "    print(row1)\n",
    "    print(row2)\n",
    "    print(row3)\n",
    "    print(\"-\"*20) \n",
    "\n",
    "    \n",
    "def player_move(player):    \n",
    "    \n",
    "        \n",
    "    if player==1:\n",
    "        icon = 'X'\n",
    "    else:\n",
    "        icon = 'O'\n",
    "    move_end = False    \n",
    "    while not move_end:   \n",
    "        print_board()\n",
    "        print(\"Player {} move\".format(player))\n",
    "        move = int(input(\"Enter your move 1-9 : \").strip())\n",
    "        if move < 1 or move > 9:\n",
    "            print(\"Invalid move!\")\n",
    "        else:\n",
    "            if board[move-1]==\" \": \n",
    "                board[move-1]=icon\n",
    "                move_end = True\n",
    "            else:\n",
    "                print(\"You cannot move there\")\n",
    "        \n",
    "# End of player_move  \n",
    "\n",
    "def is_victory(player):\n",
    "    if player == 1:\n",
    "        icon = 'X'\n",
    "    else:\n",
    "        icon = 'O'\n",
    "        \n",
    "    if  (board[0]==icon and board[1]==icon and board[2] ==icon) or \\\n",
    "        (board[3]==icon and board[4]==icon and board[5] ==icon) or \\\n",
    "        (board[6]==icon and board[7]==icon and board[8] ==icon) or \\\n",
    "        (board[0]==icon and board[3]==icon and board[6] ==icon) or \\\n",
    "        (board[1]==icon and board[4]==icon and board[7] ==icon) or \\\n",
    "        (board[2]==icon and board[5]==icon and board[8] ==icon) or \\\n",
    "        (board[0]==icon and board[4]==icon and board[8] ==icon) or \\\n",
    "        (board[6]==icon and board[4]==icon and board[2] ==icon):\n",
    "        return(True)\n",
    "    else:\n",
    "        return(False)\n",
    "\n",
    "# Main starts here\n",
    "\n",
    "winner = 0\n",
    "for i in range(9) :\n",
    "\n",
    "    player = i%2\n",
    "    player_move(player+1)\n",
    "    if is_victory(player+1):\n",
    "        winner = player+1\n",
    "        break\n",
    "        \n",
    "        \n",
    "if winner == 0:\n",
    "    print(\"No winner !!!\")\n",
    "else:\n",
    "    print(\"Winner is player {}!!!\".format(winner))\n",
    "\n",
    "    "
   ]
  },
  {
   "cell_type": "markdown",
   "metadata": {},
   "source": [
    "\n"
   ]
  },
  {
   "cell_type": "code",
   "execution_count": 75,
   "metadata": {},
   "outputs": [
    {
     "name": "stdout",
     "output_type": "stream",
     "text": [
      "number_list= [1, 2, 3, 4, 5, 6, 7, 8, 9, 10]\n",
      "*number_list= 1 2 3 4 5 6 7 8 9 10\n",
      "count(number_list)= 1\n",
      "count(*number_list)= 10\n",
      "sum(*number_list)= 55\n",
      "avg(*number_list)= 5.5\n",
      "sum_sq(*number_list)= 385\n",
      "std(*number_list)= 0.9082951062292475\n",
      "variance(*number_list)= 8.25\n"
     ]
    }
   ],
   "source": [
    "from math import sqrt   # import only sqrt    usage sqrt()\n",
    "# import math           # import whole math.  usage math.sqrt()\n",
    "# Function sample\n",
    "def count(*numbers):\n",
    "    count = 0\n",
    "    for num in numbers:\n",
    "        count = count+1\n",
    "    return(count)\n",
    "\n",
    "def sum(*numbers):\n",
    "    sum = 0\n",
    "    for num in numbers:\n",
    "        sum = sum + num\n",
    "    return(sum)\n",
    "\n",
    "def avg(*numbers):\n",
    "    return(sum(*numbers)/count(*numbers))\n",
    "\n",
    "def sum_sq(*numbers):\n",
    "    sum_sq = 0\n",
    "    for num in numbers:\n",
    "        sum_sq = sum_sq + num**2\n",
    "    return(sum_sq)\n",
    "\n",
    "# standard deviation \n",
    "def std(*numbers):  \n",
    "    \n",
    "    std=sqrt(variance(*number))    \n",
    "    return(std)\n",
    "\n",
    "# variance \n",
    "def variance(*numbers):  \n",
    "    sum_sq = 0\n",
    "    avg_num=avg(*numbers)\n",
    "    count_num=count(*numbers)\n",
    "    for num in numbers:\n",
    "        sum_sq = sum_sq + (num-avg_num)**2\n",
    "    variance= sum_sq/count_num   \n",
    "    return(variance)\n",
    "\n",
    "\n",
    "number_list=[1,2,3,4,5,6,7,8,9,10]\n",
    "print(\"number_list=\",number_list)\n",
    "print(\"*number_list=\",*number_list)\n",
    "print(\"count(number_list)=\",count(number_list))\n",
    "print(\"count(*number_list)=\",count(*number_list))\n",
    "print(\"sum(*number_list)=\",sum(*number_list))\n",
    "print(\"avg(*number_list)=\",avg(*number_list))\n",
    "print(\"sum_sq(*number_list)=\",sum_sq(*number_list))\n",
    "print(\"std(*number_list)=\",std(*number_list))\n",
    "print(\"variance(*number_list)=\",variance(*number_list))"
   ]
  },
  {
   "cell_type": "code",
   "execution_count": 85,
   "metadata": {},
   "outputs": [
    {
     "name": "stdout",
     "output_type": "stream",
     "text": [
      "coin1.colour= Greenish\n",
      "coin2.colour= gold\n",
      "coin1.dummy= abc\n"
     ]
    }
   ],
   "source": [
    "# Classes and Objects using python.  Class syntax : class classname:   method syntax def __name__(parm): \n",
    "# The following example creates a class call Pound for UK coin,\n",
    "class Pound:\n",
    "    value = 1.00\n",
    "    colour = \"gold\"\n",
    "    num_edges = 1\n",
    "    diameter = 22.5    # mm\n",
    "    thickness = 3.15   # mm\n",
    "    heads=True\n",
    "    \n",
    "    \n",
    "coin1 = Pound()\n",
    "coin2 = Pound()\n",
    "\n",
    "coin1.colour = 'Greenish'\n",
    "\n",
    "print('coin1.colour=',coin1.colour)\n",
    "print('coin2.colour=',coin2.colour)\n",
    "\n",
    "coin1.dummy = 'abc'\n",
    "print('coin1.dummy=',coin1.dummy)   #  adding a new state?\n",
    "  \n",
    "\n"
   ]
  },
  {
   "cell_type": "code",
   "execution_count": 121,
   "metadata": {},
   "outputs": [
    {
     "name": "stdout",
     "output_type": "stream",
     "text": [
      "coin1.value= 10.0\n",
      "coin2.value= 1.0\n",
      "coin2.value= 5.0\n",
      "coin1.colour Greenish\n",
      "coin1.colour Gold\n",
      "coin1.heads : False\n",
      "Coin spent\n",
      "Coin spent\n"
     ]
    }
   ],
   "source": [
    "# Classes and Objects using python.  Class syntax : class classname:   method syntax def name(parm): \n",
    "# The following example creates a class call Pound for UK coin,\n",
    "import random\n",
    "class Pound:\n",
    "    def __init__(self, rare=False):      # will be triggered when an object is instantiated \n",
    "        self.is_rare=rare\n",
    "        if self.is_rare:\n",
    "            self.value = 10.00\n",
    "        else: \n",
    "            self.value = 1.00\n",
    "        self.colour = \"gold\"\n",
    "        self.num_edges = 1\n",
    "        self.diameter = 22.5    # mm\n",
    "        self.thickness = 3.15   # mm\n",
    "        self.heads=True\n",
    "    \n",
    "    def rust(self):\n",
    "        self.colour = 'Greenish'\n",
    "       \n",
    "    def clean(self):\n",
    "        self.colour = 'Gold'\n",
    "\n",
    "    def flip(self):\n",
    "        head_options=[True, False]\n",
    "        self.heads=random.choice(head_options)\n",
    "        \n",
    "    def __del__(self):                       # will be triggered when del is used against the object\n",
    "        print(\"Coin spent\")\n",
    "        \n",
    "        \n",
    "coin1 = Pound(rare=True)\n",
    "coin2 = Pound()\n",
    "\n",
    "print('coin1.value=',coin1.value)\n",
    "print('coin2.value=',coin2.value)\n",
    "coin2.value = 5.00\n",
    "\n",
    "print('coin2.value=',coin2.value)\n",
    "coin1.rust()\n",
    "print(\"coin1.colour\", coin1.colour)\n",
    "\n",
    "coin1.clean()\n",
    "print(\"coin1.colour\", coin1.colour)\n",
    "\n",
    "coin1.flip()\n",
    "print(\"coin1.heads :\", coin1.heads)\n",
    "\n",
    "del coin1    # del is a command to terminate the instance \n",
    "del coin2\n"
   ]
  },
  {
   "cell_type": "code",
   "execution_count": 13,
   "metadata": {},
   "outputs": [],
   "source": [
    "# General class coin that can be used for all other coins\n",
    "import random\n",
    "\n",
    "class Coin:\n",
    "    def __init__(self, rare=False, clean=True, heads=True,**kwargs):\n",
    "        for key,value in kwargs.items():\n",
    "            setattr(self,key,value)      ## This will be same as setting self.original_value=1.00 for all key,values in data\n",
    "        \n",
    "        self.is_rare=rare           ## This fields are specific to each instance of the objects\n",
    "        self.is_clean=clean\n",
    "        self.heads=heads\n",
    "        \n",
    "        if self.is_rare:\n",
    "            self.value = self.original_value * 1.25\n",
    "        else:\n",
    "            self.value = self.original_value\n",
    "            \n",
    "        if self.is_clean:   \n",
    "            self.colour=self.clean_colour\n",
    "        else:\n",
    "            self.colour=self.rusty_colour\n",
    "            \n",
    "         \n",
    "    def rust(self):\n",
    "            self.colour = self.rusty_colour\n",
    "       \n",
    "    def clean(self):\n",
    "            self.colour = self.clean_colour\n",
    "\n",
    "    def flip(self):\n",
    "            head_options=[True, False]\n",
    "            self.heads=random.choice(head_options)\n",
    "        \n",
    "    def __del__(self):                       # will be triggered when del is used against the object\n",
    "            print(\"Coin spent\")\n",
    "            \n",
    "    def __str__(self):                        ## string representation of object.\n",
    "        \n",
    "        if self.original_value >= 1:\n",
    "            return(\"{} pound coin\".format(int(self.original_value)))\n",
    "        else: \n",
    "            return(\"{} pence coin\".format(int(self.original_value * 100)))\n",
    "            \n",
    "class Pound(Coin):                           # define Pound base on Coin        \n",
    "            \n",
    "    def __init__(self):\n",
    "        data={\n",
    "            \"original_value\":1.00,\n",
    "            \"clean_colour\":\"gold\",\n",
    "            \"rusty_colour\":\"greenish\",\n",
    "            \"num_edge\":1,\n",
    "            \"diameter\":22.5,\n",
    "            \"thickness\":3.15,\n",
    "            \"mass\":9.5\n",
    "            }\n",
    "        super().__init__(**data)\n",
    "            \n",
    "            \n",
    "class One_Pence(Coin):                           # define Pence base on Coin        \n",
    "            \n",
    "    def __init__(self):\n",
    "        data={\n",
    "            \"original_value\":0.01,\n",
    "            \"clean_colour\":\"bronze\",\n",
    "            \"rusty_colour\":\"bronish\",\n",
    "            \"num_edge\":1,\n",
    "            \"diameter\":20.3,\n",
    "            \"thickness\":1.52,\n",
    "            \"mass\":3.45\n",
    "            }\n",
    "        super().__init__(**data)          \n",
    "        \n",
    "class Two_Pence(Coin):                           # define Pence base on Coin        \n",
    "            \n",
    "    def __init__(self):\n",
    "        data={\n",
    "            \"original_value\":0.02,\n",
    "            \"clean_colour\":\"bronze\",\n",
    "            \"rusty_colour\":\"bronish\",\n",
    "            \"num_edge\":1,\n",
    "            \"diameter\":20.3,\n",
    "            \"thickness\":1.52,\n",
    "            \"mass\":3.45\n",
    "            }\n",
    "        super().__init__(**data)   \n",
    "      \n",
    "    \n",
    "class Five_Pence(Coin):                           # define Pence base on Coin        \n",
    "            \n",
    "    def __init__(self, rare=False, clean=True, heads=True):\n",
    "        data={\n",
    "            \"original_value\":0.05,\n",
    "            \"clean_colour\":\"silver\",            \n",
    "            \"rusty_colour\":None,    # none is defined. Need a method override see below\n",
    "            \"num_edge\":1,\n",
    "            \"diameter\":18.0,\n",
    "            \"thickness\":1.77,\n",
    "            \"mass\":3.25\n",
    "    \n",
    "            }\n",
    "        super().__init__(rare=rare,**data)  \n",
    "        \n",
    "    def rust(self):\n",
    "        self.colour=self.clean_colour\n",
    "            \n",
    "            \n",
    "                "
   ]
  },
  {
   "cell_type": "code",
   "execution_count": 16,
   "metadata": {},
   "outputs": [
    {
     "name": "stdout",
     "output_type": "stream",
     "text": [
      "Coin spent\n",
      "1.0\n",
      "greenish\n",
      "Coin spent\n",
      "Coin spent\n",
      "Coin spent\n",
      "Coin spent\n",
      "1 pence coin - Color: bronze, value: 0.01, mass: 3.45\n",
      "2 pence coin - Color: bronze, value: 0.02, mass: 3.45\n",
      "5 pence coin - Color: silver, value: 0.0625, mass: 3.25\n",
      "1 pound coin - Color: gold, value: 1.0, mass: 9.5\n"
     ]
    }
   ],
   "source": [
    "coin1 = Pound()\n",
    "print(coin1.value)\n",
    "coin1.rust()\n",
    "print(coin1.colour)\n",
    "\n",
    "coins = [One_Pence(), Two_Pence(), Five_Pence(rare=True,clean=False), Pound()]\n",
    "\n",
    "for coin in coins:\n",
    "    arguments=[coin, coin.colour, coin.value, coin.mass]\n",
    "    string = \"{} - Color: {}, value: {}, mass: {}\".format(*arguments)\n",
    "    print(string)"
   ]
  },
  {
   "cell_type": "code",
   "execution_count": 129,
   "metadata": {},
   "outputs": [],
   "source": [
    "class Account:\n",
    "    def __init__(self, name, balance, min_balance):\n",
    "        self.name = name\n",
    "        self.balance = balance\n",
    "        self.min_balance = min_balance\n",
    "        \n",
    "    def deposit(self, amount):\n",
    "        self.balance += amount  \n",
    "\n",
    "    def withdraw(self, amount):\n",
    "        if self.balance - amount >= self.min_balance:\n",
    "            self.balance -= amount\n",
    "        else:\n",
    "            print(\"Not enough balance\")\n",
    "        \n",
    "    def statement(self):\n",
    "        print(\"Account Balance : ${}\".format(self.balance))\n",
    "\n",
    "class Current(Account):\n",
    "    def __init__(self, name, balance):\n",
    "       \n",
    "        super().__init__(name,balance, min_balance=-1000.00)\n",
    "    \n",
    "    def __str__(self):\n",
    "        return \"{}'s Current Account : Balance ${}\".format(self.name, self.balance)"
   ]
  },
  {
   "cell_type": "code",
   "execution_count": 136,
   "metadata": {},
   "outputs": [
    {
     "name": "stdout",
     "output_type": "stream",
     "text": [
      "John's Current Account : Balance $500\n",
      "John's Current Account : Balance $1000\n",
      "John's Current Account : Balance $0\n",
      "John's Current Account : Balance $-1000\n",
      "Not enough balance\n",
      "John's Current Account : Balance $-1000\n"
     ]
    }
   ],
   "source": [
    "\n",
    "Z = Current(\"John\", 500 )\n",
    "print(Z)\n",
    "Z.deposit(500)\n",
    "print(Z)\n",
    "Z.withdraw(1000)\n",
    "print(Z)\n",
    "Z.withdraw(1000)\n",
    "print(Z)\n",
    "Z.withdraw(1000)\n",
    "print(Z)"
   ]
  },
  {
   "cell_type": "code",
   "execution_count": null,
   "metadata": {},
   "outputs": [],
   "source": []
  }
 ],
 "metadata": {
  "kernelspec": {
   "display_name": "Python 3",
   "language": "python",
   "name": "python3"
  },
  "language_info": {
   "codemirror_mode": {
    "name": "ipython",
    "version": 3
   },
   "file_extension": ".py",
   "mimetype": "text/x-python",
   "name": "python",
   "nbconvert_exporter": "python",
   "pygments_lexer": "ipython3",
   "version": "3.7.3"
  }
 },
 "nbformat": 4,
 "nbformat_minor": 1
}
