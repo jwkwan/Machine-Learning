{
 "cells": [
  {
   "cell_type": "markdown",
   "metadata": {},
   "source": [
    "The purpose of this program is to create a linear regression with a sample file.  It is not meant to provide a model to be used by others since there are already many available utilities such as stats.linregress which provides the same function. \n",
    "This program will allow people to learn what linear regression is and what formula is used to derive some values such as slope, intercept, p-value, covariance, correlation, R square.\n"
   ]
  },
  {
   "cell_type": "code",
   "execution_count": 1,
   "metadata": {},
   "outputs": [],
   "source": [
    "import numpy as np\n",
    "import pandas as pd\n",
    "#import statistics as stat \n",
    "%matplotlib inline\n",
    "from pylab import *\n",
    "from scipy.stats import f"
   ]
  },
  {
   "cell_type": "markdown",
   "metadata": {},
   "source": [
    "Read the sample regression file.  The regression file is a csv formatted file and contains two columns "
   ]
  },
  {
   "cell_type": "code",
   "execution_count": 2,
   "metadata": {},
   "outputs": [
    {
     "name": "stdout",
     "output_type": "stream",
     "text": [
      "df.head()\n",
      "      x     y\n",
      "0 -1.74  1.66\n",
      "1  1.24 -1.18\n",
      "2  0.29 -0.40\n",
      "3 -0.13  0.09\n",
      "4 -0.39  0.38\n",
      "df.sample()\n",
      "        x     y\n",
      "291 -0.08  0.14\n",
      "599 -0.36  0.48\n",
      "414  0.02  0.01\n",
      "805 -1.66  1.61\n",
      "892 -1.42  1.48\n",
      "df.count\n",
      "x    1000\n",
      "y    1000\n",
      "dtype: int64\n"
     ]
    }
   ],
   "source": [
    "file_name=\"regression.txt\"\n",
    "df = pd.read_csv(file_name,header=None,names=[\"x\",\"y\"])\n",
    "print(\"df.head()\\n{}\".format(df.head(5)))\n",
    "print(\"df.sample()\\n{}\".format(df.sample(5)))\n",
    "print(\"df.count\\n{}\".format(df.count()))"
   ]
  },
  {
   "cell_type": "markdown",
   "metadata": {},
   "source": [
    "Plot the graph to see how it looks"
   ]
  },
  {
   "cell_type": "code",
   "execution_count": 3,
   "metadata": {},
   "outputs": [
    {
     "data": {
      "text/plain": [
       "<matplotlib.axes._subplots.AxesSubplot at 0x1a183ac630>"
      ]
     },
     "execution_count": 3,
     "metadata": {},
     "output_type": "execute_result"
    },
    {
     "data": {
      "image/png": "[encoded data removed]",
      "text/plain": [
       "<Figure size 432x288 with 1 Axes>"
      ]
     },
     "metadata": {
      "needs_background": "light"
     },
     "output_type": "display_data"
    }
   ],
   "source": [
    "df.plot(\"x\",\"y\")"
   ]
  },
  {
   "cell_type": "markdown",
   "metadata": {},
   "source": [
    "Need to convert it to the np arrays.  Not sure if df can be used to process the data, but np array should be handy"
   ]
  },
  {
   "cell_type": "code",
   "execution_count": 4,
   "metadata": {},
   "outputs": [
    {
     "name": "stdout",
     "output_type": "stream",
     "text": [
      "X[10][-1.74  1.24  0.29 -0.13 -0.39 -1.79  0.71  1.39  1.15  0.13]\n",
      "Y[10][ 1.66 -1.18 -0.4   0.09  0.38  1.73 -0.77 -1.48 -1.43 -0.07]\n"
     ]
    },
    {
     "data": {
      "text/plain": [
       "(1000,)"
      ]
     },
     "execution_count": 4,
     "metadata": {},
     "output_type": "execute_result"
    }
   ],
   "source": [
    "X=df.to_numpy()[:,0]\n",
    "Y=df.to_numpy()[:,1]\n",
    "print(\"X[10]{}\".format(X[:10]))\n",
    "print(\"Y[10]{}\".format(Y[:10]))\n",
    "X.shape"
   ]
  },
  {
   "cell_type": "markdown",
   "metadata": {},
   "source": [
    "The best fitted line will be in a form of y = b + mx where b is the intercept and m is the slope. \n",
    "The m for the best fitted line can be obtained by the m = r(std y/std x) where r is the correlation of x,y and std is the standard deviation \n",
    "In order to obtain the correlation, need to have few functions such as covariance, correlation, fit_line\n",
    "\n",
    "\n"
   ]
  },
  {
   "cell_type": "code",
   "execution_count": 5,
   "metadata": {},
   "outputs": [],
   "source": [
    "# Covariance function \n",
    "def cov(X, Y):\n",
    "    if len(X) != len(Y):\n",
    "        retrun \n",
    "    x_mean= np.mean(X)\n",
    "    y_mean= np.mean(Y)\n",
    "#    print(\"X-mean \\n{}\".format(X-x_mean))\n",
    "#    print(\"Y-mean \\n{}\".format(Y-y_mean))\n",
    "    covar=sum((X-x_mean)*(Y-y_mean))/(len(X)-1)\n",
    "    return(covar)\n",
    " \n",
    "# Correlation function require covariance function.    \n",
    "def corr(X, Y):\n",
    "    if len(X) != len(Y):\n",
    "        retrun \n",
    "    x_stdev=np.std(X)  \n",
    "    y_stdev=np.std(Y)  \n",
    "    covar=cov(X,Y)\n",
    "    corr=covar/(x_stdev * y_stdev)\n",
    "    return(corr)\n",
    "\n",
    "# fit_line returns the value of slope and intercept for the best fitted line.\n",
    "def fit_line(X,Y):\n",
    "    if len(X) != len(Y):\n",
    "        retrun    \n",
    "    x_stdev=np.std(X)  \n",
    "    y_stdev=np.std(Y) \n",
    "    x_mean=np.mean(X)\n",
    "    y_mean=np.mean(Y)\n",
    " #   print(\"xmean\", x_mean)\n",
    " #   print(\"ymean\", y_mean)\n",
    "    slope = corr(X,Y)*(y_stdev/x_stdev)  \n",
    "    intercept = y_mean-slope*x_mean  \n",
    "    return(slope, intercept)\n",
    "\n",
    "# predict returns the y value of a given x with the slope and intercept.  \n",
    "def predict(x,m,b):\n",
    "    return(b+m*x)\n",
    "\n",
    "# This function will return R Square value\n",
    "# The formula for R2 = {SS(mean) - SS(fit)} / SS(mean) where SS is sum of square.\n",
    "# also = {var(mean) - var(fit)} / var(mean) where var is the variance Also note that var = ss/N\n",
    "def find_R2(X, Y):\n",
    "    y_mean= np.mean(Y)\n",
    "    Y_fit=predict(X,m,b)\n",
    "\n",
    "    ss_mean = sum((Y-y_mean)**2)             # sum of square of mean value\n",
    "    ss_fit = sum((Y-Y_fit)**2)               # sum of square of fitted line\n",
    "    R2 = (ss_mean - ss_fit)/ss_mean          # R square \n",
    "    return (R2)                                      \n",
    "    \n",
    "# This function will return the F value.  F value is used to calculate p-value\n",
    "def find_F(X, Y):\n",
    "    y_mean= np.mean(Y)\n",
    "    Y_fit=predict(X,m,b)\n",
    "\n",
    "    ss_mean = sum((Y-y_mean)**2)             # sum of square of mean value\n",
    "    ss_fit = sum((Y-Y_fit)**2)               # sum of square of fitted line\n",
    "   \n",
    "    p_fit = 2                               # number of variables in fitted line m,b\n",
    "    p_mean = 1                               # number of variables in calculate mean\n",
    "    n = len(Y)                               # total number of samples\n",
    "    F = (ss_mean-ss_fit)*(n-p_fit)/(ss_fit*(p_fit-p_mean))    # F value\n",
    "    return (F)"
   ]
  },
  {
   "cell_type": "code",
   "execution_count": 6,
   "metadata": {},
   "outputs": [
    {
     "name": "stdout",
     "output_type": "stream",
     "text": [
      "xmean=4.0\n",
      "ymean=5.75\n",
      "xstd=1.8708286933869707\n",
      "ystd=2.5860201081971503\n",
      "len(x)=4\n",
      "convar=6.333333333333333\n",
      "corr=1.3090807196329644\n",
      "fit line m=1.8095238095238095, b=-1.4880952380952381\n"
     ]
    }
   ],
   "source": [
    "#This cell is to test the functions to make sure they are correct. \n",
    "\n",
    "X1 = np.array([1,4,5,6])\n",
    "Y1 = np.array([2,5,7,9])\n",
    "x_stdev=np.std(X1)  \n",
    "y_stdev=np.std(Y1) \n",
    "x_mean=np.mean(X1)\n",
    "y_mean=np.mean(Y1)\n",
    "print(\"xmean={}\".format(x_mean))    \n",
    "print(\"ymean={}\".format(y_mean))\n",
    "print(\"xstd={}\".format(x_stdev))    \n",
    "print(\"ystd={}\".format(y_stdev))    \n",
    "print('len(x)={}'.format(len(X1)))\n",
    "print('convar={}'.format(cov(X1,Y1)))\n",
    "print('corr={}'.format(corr(X1,Y1)))\n",
    "\n",
    "m,b=fit_line(X1,Y1)\n",
    "print(\"fit line m={}, b={}\".format(m,b))\n",
    "\n",
    "\n",
    "\n",
    "\n"
   ]
  },
  {
   "cell_type": "code",
   "execution_count": 7,
   "metadata": {},
   "outputs": [
    {
     "name": "stdout",
     "output_type": "stream",
     "text": [
      "fit line m=-0.9959508203939803, b=-1.9797541019686195e-05\n"
     ]
    }
   ],
   "source": [
    "#now try to fit the origin data\n",
    "m,b=fit_line(X,Y)\n",
    "print(\"fit line m={}, b={}\".format(m,b))\n",
    "fitted_line=predict(X,m,b)"
   ]
  },
  {
   "cell_type": "code",
   "execution_count": 8,
   "metadata": {},
   "outputs": [
    {
     "data": {
      "text/plain": [
       "[<matplotlib.lines.Line2D at 0x1a187a7a90>]"
      ]
     },
     "execution_count": 8,
     "metadata": {},
     "output_type": "execute_result"
    },
    {
     "data": {
      "image/png": "[encoded data removed]",
      "text/plain": [
       "<Figure size 432x288 with 1 Axes>"
      ]
     },
     "metadata": {
      "needs_background": "light"
     },
     "output_type": "display_data"
    }
   ],
   "source": [
    "scatter(X, Y, c='g')\n",
    "#plt.plot(X, Y, c='g')\n",
    "plt.plot(X, fitted_line, c='r')\n",
    "#plt.show()"
   ]
  },
  {
   "cell_type": "markdown",
   "metadata": {},
   "source": [
    "Now we need to find the R_Square (R2).  \n",
    "The formula for R2 = {SS(mean) - SS(fit)} / SS(mean) where SS is sum of square.  \n",
    "                   = {var(mean) - var(fit)} / var(mean) where var is the variance \n",
    "Also note that var = ss/N"
   ]
  },
  {
   "cell_type": "code",
   "execution_count": 9,
   "metadata": {
    "scrolled": false
   },
   "outputs": [
    {
     "name": "stdout",
     "output_type": "stream",
     "text": [
      "R2=0.9899518181431389\n"
     ]
    }
   ],
   "source": [
    "# I have added a find_R2 function so the above one is no longer needed.\n",
    "R2=find_R2(X,Y)\n",
    "print (\"R2={}\".format(R2))"
   ]
  },
  {
   "cell_type": "markdown",
   "metadata": {},
   "source": [
    "\n",
    "Now let's find the last value P-value.  P-value can be obtained by using a F-distribute function. In order to use the F function we need to first find out the F value.\n",
    "F = {(SS(mean) - SS(fit)) * (n - p_fit) } / {SS(fit) * (p_fit - p_mean) } where\n",
    "p_fit = number of variables in the formula and ie = 2 (m, b)\n",
    "p_mean = 1 (mean)\n"
   ]
  },
  {
   "cell_type": "code",
   "execution_count": 10,
   "metadata": {},
   "outputs": [
    {
     "name": "stdout",
     "output_type": "stream",
     "text": [
      "F=98323.45080739663\n"
     ]
    }
   ],
   "source": [
    "F=find_F(X,Y)\n",
    "print(\"F={}\".format(F))"
   ]
  },
  {
   "cell_type": "code",
   "execution_count": 11,
   "metadata": {},
   "outputs": [
    {
     "name": "stdout",
     "output_type": "stream",
     "text": [
      "p_value=0.0\n"
     ]
    }
   ],
   "source": [
    "# This meaning of this p-value is with the current F value, how rare is this to obtain F value using F distribution\n",
    "# and degree of freedom from X and Y.  Assuming both X and Y and df1 and df2 are independent to each other.\n",
    "# The smaller p-value indicate it is rare to get F value which means the Fitting is more confident\n",
    "\n",
    "from scipy.stats import f\n",
    "df1=len(X) - 1\n",
    "df2=len(Y) - 1\n",
    "#p_value = f.sf(F,p_fit,p_mean)\n",
    "\n",
    "p_value = f.sf(F,df1,df2)\n",
    "\n",
    "print(\"p_value={}\".format(p_value))"
   ]
  },
  {
   "cell_type": "markdown",
   "metadata": {},
   "source": [
    "Now lets compare the results with the regression from scipy to see if we are getting similar values.  All values are quite close excep I don't have std_err. For Linear Regression, standard error is not required (?)\n"
   ]
  },
  {
   "cell_type": "code",
   "execution_count": 12,
   "metadata": {},
   "outputs": [
    {
     "name": "stdout",
     "output_type": "stream",
     "text": [
      "So the results : \n",
      "              My Regression         vs        scipy Regression \n",
      "slope     : -0.9959508203939803              -0.9949548695735861\n",
      "intercept : -1.9797541019686195e-05          -1.97477434786665e-05\n",
      "R2        : 0.9899518181431389                0.9899528100788281\n",
      "P-value   : 0.0                               0.0\n",
      "std err   : NA                                0.0031728765195377586\n"
     ]
    }
   ],
   "source": [
    "from scipy.stats import linregress \n",
    "\n",
    "m_s,b_s,r_s,p_s, std_err_s = linregress(X, Y)\n",
    "\n",
    "print(\"So the results : \")\n",
    "print(\"              My Regression         vs        scipy Regression \")\n",
    "print(\"slope     : {}              {}\".format(m, m_s))  \n",
    "print(\"intercept : {}          {}\".format(b, b_s))  \n",
    "print(\"R2        : {}                {}\".format(R2, r_s **2))  \n",
    "print(\"P-value   : {}                               {}\".format(p_value, p_s))  \n",
    "print(\"std err   : {}                                {}\".format('NA', std_err_s))"
   ]
  },
  {
   "cell_type": "code",
   "execution_count": null,
   "metadata": {},
   "outputs": [],
   "source": []
  },
  {
   "cell_type": "code",
   "execution_count": null,
   "metadata": {},
   "outputs": [],
   "source": []
  }
 ],
 "metadata": {
  "kernelspec": {
   "display_name": "Python 3",
   "language": "python",
   "name": "python3"
  },
  "language_info": {
   "codemirror_mode": {
    "name": "ipython",
    "version": 3
   },
   "file_extension": ".py",
   "mimetype": "text/x-python",
   "name": "python",
   "nbconvert_exporter": "python",
   "pygments_lexer": "ipython3",
   "version": "3.7.3"
  }
 },
 "nbformat": 4,
 "nbformat_minor": 2
}
