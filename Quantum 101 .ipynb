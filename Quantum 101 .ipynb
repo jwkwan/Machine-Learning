{
 "cells": [
  {
   "cell_type": "code",
   "execution_count": 2,
   "metadata": {},
   "outputs": [],
   "source": [
    "import qiskit as qk"
   ]
  },
  {
   "cell_type": "code",
   "execution_count": 14,
   "metadata": {},
   "outputs": [],
   "source": [
    "# Create a Qubits\n",
    "q=qk.QuantumRegister(2)\n",
    "# Create a  classical bits\n",
    "c=qk.ClassicalRegister(2)\n",
    "circuit=qk.QuantumCircuit(q, c)"
   ]
  },
  {
   "cell_type": "code",
   "execution_count": 15,
   "metadata": {},
   "outputs": [
    {
     "data": {
      "text/plain": [
       "<qiskit.circuit.instructionset.InstructionSet at 0x1a1a7531d0>"
      ]
     },
     "execution_count": 15,
     "metadata": {},
     "output_type": "execute_result"
    }
   ],
   "source": [
    "# Hadamard Gate on the first Qubit\n",
    "circuit.h(q[0])\n",
    "\n",
    "# CNOT Gate on the first and second Qubits\n",
    "# q1 bit will flip if q0 is 1\n",
    "circuit.cx(q[0], q[1])\n",
    "\n",
    "# Measuring the Qubits\n",
    "circuit.measure(q, c)"
   ]
  },
  {
   "cell_type": "code",
   "execution_count": 16,
   "metadata": {},
   "outputs": [
    {
     "name": "stdout",
     "output_type": "stream",
     "text": [
      "         ┌───┐     ┌─┐   \n",
      "q3_0: |0>┤ H ├──■──┤M├───\n",
      "         └───┘┌─┴─┐└╥┘┌─┐\n",
      "q3_1: |0>─────┤ X ├─╫─┤M├\n",
      "              └───┘ ║ └╥┘\n",
      " c1_0: 0 ═══════════╩══╬═\n",
      "                       ║ \n",
      " c1_1: 0 ══════════════╩═\n",
      "                         \n"
     ]
    }
   ],
   "source": [
    "print(circuit)"
   ]
  },
  {
   "cell_type": "markdown",
   "metadata": {},
   "source": [
    "g0 --> 0 --> H(|0>)= 1/sqr(2) * |0> + 1/sqr(2) * |1> = ?\n",
    "\n",
    "g1 --> 0 --> 0 if g0 == 0, 1 if g0 == 1"
   ]
  },
  {
   "cell_type": "code",
   "execution_count": 23,
   "metadata": {},
   "outputs": [
    {
     "name": "stdout",
     "output_type": "stream",
     "text": [
      "{'11': 544, '00': 480}\n"
     ]
    }
   ],
   "source": [
    "# Using Qiskit Aer's Qasm Simulator\n",
    "simulator = qk.BasicAer.get_backend('qasm_simulator')\n",
    "\n",
    "# Simulating the circuit using the simulator to get the result\n",
    "job = qk.execute(circuit, simulator)\n",
    "result = job.result()\n",
    "\n",
    "# Getting the aggregated binary outcomes of the circuit.\n",
    "counts = result.get_counts(circuit)\n",
    "print (counts)\n",
    "\n",
    "# >>> {'00': 492, '11': 5"
   ]
  },
  {
   "cell_type": "code",
   "execution_count": 59,
   "metadata": {
    "scrolled": true
   },
   "outputs": [],
   "source": [
    "from qiskit import IBMQ\n",
    "import qiskit as qk\n",
    "'''\n",
    "When you run the script once, you do not need to add\n",
    "your API key again as your account has already been\n",
    "saved in memory\n",
    "'''\n",
    "IBMQ.save_account('114bbe6f3b04343fd076b93086498249a577635d267decfd883f23d7ff1eec38358b98d1e0c14ca97972b11f144da2d01e67934a7b6f495f8e0817d4cc62f852')\n"
   ]
  },
  {
   "cell_type": "code",
   "execution_count": 61,
   "metadata": {},
   "outputs": [],
   "source": [
    "'''\n",
    "`n` is the number of Qubits needed to \n",
    "generate a a random number between\n",
    "0 and 2^n - 1\n",
    "'''\n",
    "n = 3\n",
    "\n",
    "'''\n",
    "Creating a Quantum Register with `n` Qubits and \n",
    "`n` Classical Bits where n=3\n",
    "'''\n",
    "q = qk.QuantumRegister(n)\n",
    "c = qk.ClassicalRegister(n)\n",
    "circ = qk.QuantumCircuit(q, c)\n"
   ]
  },
  {
   "cell_type": "code",
   "execution_count": 62,
   "metadata": {},
   "outputs": [
    {
     "data": {
      "text/plain": [
       "<qiskit.circuit.instructionset.InstructionSet at 0x1a1b853748>"
      ]
     },
     "execution_count": 62,
     "metadata": {},
     "output_type": "execute_result"
    }
   ],
   "source": [
    "'''\n",
    "Applying a Hadamard Gate on the n Qubits\n",
    "to get a final bitstring of size n \n",
    "The bitstring will be converted to a\n",
    "decimal number (integer) between 0 and 2^3 - 1 (7)\n",
    "'''\n",
    "for i in range(n):\n",
    "    circ.h(q[i])\n",
    "    \n",
    "circ.measure(q,c)"
   ]
  },
  {
   "cell_type": "code",
   "execution_count": 63,
   "metadata": {},
   "outputs": [
    {
     "name": "stdout",
     "output_type": "stream",
     "text": [
      "         ┌───┐┌─┐      \n",
      "q7_0: |0>┤ H ├┤M├──────\n",
      "         ├───┤└╥┘┌─┐   \n",
      "q7_1: |0>┤ H ├─╫─┤M├───\n",
      "         ├───┤ ║ └╥┘┌─┐\n",
      "q7_2: |0>┤ H ├─╫──╫─┤M├\n",
      "         └───┘ ║  ║ └╥┘\n",
      " c5_0: 0 ══════╩══╬══╬═\n",
      "                  ║  ║ \n",
      " c5_1: 0 ═════════╩══╬═\n",
      "                     ║ \n",
      " c5_2: 0 ════════════╩═\n",
      "                       \n"
     ]
    }
   ],
   "source": [
    "print(circ)"
   ]
  },
  {
   "cell_type": "code",
   "execution_count": 64,
   "metadata": {},
   "outputs": [
    {
     "name": "stderr",
     "output_type": "stream",
     "text": [
      "/Users/jameskw@us.ibm.com/anaconda3/lib/python3.7/site-packages/qiskit/providers/ibmq/ibmqfactory.py:181: UserWarning: Credentials are already in use. The existing account in the session will be replaced.\n",
      "  warnings.warn('Credentials are already in use. The existing '\n"
     ]
    },
    {
     "data": {
      "text/plain": [
       "<IBMQBackend('ibmq_essex') from IBMQ(hub='ibm-q', group='open', project='main')>"
      ]
     },
     "execution_count": 64,
     "metadata": {},
     "output_type": "execute_result"
    }
   ],
   "source": [
    "provider = IBMQ.load_account()\n",
    "provider.get_backend('ibmq_essex')"
   ]
  },
  {
   "cell_type": "code",
   "execution_count": 67,
   "metadata": {},
   "outputs": [],
   "source": [
    "def rand_int():\n",
    "    new_job = qk.execute(circ, backend, shots=1)\n",
    "    print(\"new_job=\",new_job)\n",
    "    # The output bitstring consists of 3 collapsed Qubits (bits)\n",
    "    bitstring = new_job.results().get_counts()\n",
    "    bitstring = list(bitstring.keys()[0])\n",
    "    \n",
    "    # Converting binary to Decimal integers\n",
    "#    random_integer = int(bitstring, 2)\n",
    "    return(1)\n",
    "#    return random_integer"
   ]
  },
  {
   "cell_type": "code",
   "execution_count": 68,
   "metadata": {},
   "outputs": [
    {
     "name": "stdout",
     "output_type": "stream",
     "text": [
      "new_job= <qiskit.providers.ibmq.job.ibmqjob.IBMQJob object at 0x1a1b7b8240>\n"
     ]
    },
    {
     "ename": "AttributeError",
     "evalue": "'IBMQJob' object has no attribute 'results'",
     "output_type": "error",
     "traceback": [
      "\u001b[0;31m---------------------------------------------------------------------------\u001b[0m",
      "\u001b[0;31mAttributeError\u001b[0m                            Traceback (most recent call last)",
      "\u001b[0;32m<ipython-input-68-ecddab805056>\u001b[0m in \u001b[0;36m<module>\u001b[0;34m\u001b[0m\n\u001b[0;32m----> 1\u001b[0;31m \u001b[0ma\u001b[0m\u001b[0;34m=\u001b[0m\u001b[0mrand_int\u001b[0m\u001b[0;34m(\u001b[0m\u001b[0;34m)\u001b[0m\u001b[0;34m\u001b[0m\u001b[0;34m\u001b[0m\u001b[0m\n\u001b[0m\u001b[1;32m      2\u001b[0m \u001b[0mprint\u001b[0m\u001b[0;34m(\u001b[0m\u001b[0ma\u001b[0m\u001b[0;34m)\u001b[0m\u001b[0;34m\u001b[0m\u001b[0;34m\u001b[0m\u001b[0m\n",
      "\u001b[0;32m<ipython-input-67-69d729e21b71>\u001b[0m in \u001b[0;36mrand_int\u001b[0;34m()\u001b[0m\n\u001b[1;32m      3\u001b[0m     \u001b[0mprint\u001b[0m\u001b[0;34m(\u001b[0m\u001b[0;34m\"new_job=\"\u001b[0m\u001b[0;34m,\u001b[0m\u001b[0mnew_job\u001b[0m\u001b[0;34m)\u001b[0m\u001b[0;34m\u001b[0m\u001b[0;34m\u001b[0m\u001b[0m\n\u001b[1;32m      4\u001b[0m     \u001b[0;31m# The output bitstring consists of 3 collapsed Qubits (bits)\u001b[0m\u001b[0;34m\u001b[0m\u001b[0;34m\u001b[0m\u001b[0;34m\u001b[0m\u001b[0m\n\u001b[0;32m----> 5\u001b[0;31m     \u001b[0mbitstring\u001b[0m \u001b[0;34m=\u001b[0m \u001b[0mnew_job\u001b[0m\u001b[0;34m.\u001b[0m\u001b[0mresults\u001b[0m\u001b[0;34m(\u001b[0m\u001b[0;34m)\u001b[0m\u001b[0;34m.\u001b[0m\u001b[0mget_counts\u001b[0m\u001b[0;34m(\u001b[0m\u001b[0;34m)\u001b[0m\u001b[0;34m\u001b[0m\u001b[0;34m\u001b[0m\u001b[0m\n\u001b[0m\u001b[1;32m      6\u001b[0m     \u001b[0mbitstring\u001b[0m \u001b[0;34m=\u001b[0m \u001b[0mlist\u001b[0m\u001b[0;34m(\u001b[0m\u001b[0mbitstring\u001b[0m\u001b[0;34m.\u001b[0m\u001b[0mkeys\u001b[0m\u001b[0;34m(\u001b[0m\u001b[0;34m)\u001b[0m\u001b[0;34m[\u001b[0m\u001b[0;36m0\u001b[0m\u001b[0;34m]\u001b[0m\u001b[0;34m)\u001b[0m\u001b[0;34m\u001b[0m\u001b[0;34m\u001b[0m\u001b[0m\n\u001b[1;32m      7\u001b[0m \u001b[0;34m\u001b[0m\u001b[0m\n",
      "\u001b[0;31mAttributeError\u001b[0m: 'IBMQJob' object has no attribute 'results'"
     ]
    }
   ],
   "source": [
    "a=rand_int()\n",
    "print(a)"
   ]
  },
  {
   "cell_type": "code",
   "execution_count": 48,
   "metadata": {},
   "outputs": [],
   "source": []
  },
  {
   "cell_type": "code",
   "execution_count": null,
   "metadata": {},
   "outputs": [],
   "source": []
  },
  {
   "cell_type": "code",
   "execution_count": 55,
   "metadata": {},
   "outputs": [
    {
     "name": "stdout",
     "output_type": "stream",
     "text": [
      "<AccountProvider for IBMQ(hub='ibm-q', group='open', project='main')>\n"
     ]
    }
   ],
   "source": [
    "print(provider)"
   ]
  },
  {
   "cell_type": "code",
   "execution_count": null,
   "metadata": {},
   "outputs": [],
   "source": []
  }
 ],
 "metadata": {
  "kernelspec": {
   "display_name": "Python 3",
   "language": "python",
   "name": "python3"
  },
  "language_info": {
   "codemirror_mode": {
    "name": "ipython",
    "version": 3
   },
   "file_extension": ".py",
   "mimetype": "text/x-python",
   "name": "python",
   "nbconvert_exporter": "python",
   "pygments_lexer": "ipython3",
   "version": "3.7.3"
  }
 },
 "nbformat": 4,
 "nbformat_minor": 2
}
