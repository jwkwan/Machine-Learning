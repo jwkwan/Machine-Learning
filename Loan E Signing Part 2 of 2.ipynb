{
 "cells": [
  {
   "cell_type": "markdown",
   "metadata": {},
   "source": [
    "Part 2 will be the actual machine learning modelling"
   ]
  },
  {
   "cell_type": "code",
   "execution_count": 26,
   "metadata": {},
   "outputs": [],
   "source": [
    "import pandas as pd\n",
    "import numpy as np\n",
    "import matplotlib.pyplot as plt\n",
    "import seaborn as sn\n",
    "import random"
   ]
  },
  {
   "cell_type": "code",
   "execution_count": 9,
   "metadata": {},
   "outputs": [],
   "source": [
    "# read the preprocessed file\n",
    "df1=pd.read_csv('new-financial-data.csv')"
   ]
  },
  {
   "cell_type": "code",
   "execution_count": 14,
   "metadata": {},
   "outputs": [],
   "source": [
    "## Data Preparation\n",
    "entry_id=df1['entry_id']\n",
    "df1=df1.drop(columns='entry_id')"
   ]
  },
  {
   "cell_type": "code",
   "execution_count": 20,
   "metadata": {},
   "outputs": [],
   "source": [
    "# One Hot Encoding\n",
    "df1=pd.get_dummies(df1)     # Transform object into numeric by separate each object values as a column.\n",
    "#df1=df1.drop(columns = ['housing_na', 'zodiac_sign_na', 'payment_type_na'])  # drop na columns"
   ]
  },
  {
   "cell_type": "code",
   "execution_count": 23,
   "metadata": {},
   "outputs": [],
   "source": [
    "# Call train_test_split to create train and test data\n",
    "\n",
    "from sklearn.model_selection import train_test_split\n",
    "X_train, X_test, y_train, y_test = train_test_split(df1.drop(columns=['e_signed']),    # X values\n",
    "                                                    df1['e_signed'],                   # y values\n",
    "                                                    test_size = 0.2,                   # percentage for test\n",
    "                                                    random_state=0)                    # randam seed\n"
   ]
  },
  {
   "cell_type": "code",
   "execution_count": 27,
   "metadata": {},
   "outputs": [],
   "source": [
    "## Balancing the training set\n",
    "## Need a more balance +/- eg same number of positive and negative \n",
    "pos_index = y_train[y_train.values==1].index # get the index of all positive value\n",
    "neg_index = y_train[y_train.values==0].index # get the index of all positive value\n",
    "\n",
    "if len(pos_index) > len(neg_index):  # determine which has more entries\n",
    "    higher = pos_index\n",
    "    lower  = neg_index\n",
    "else:\n",
    "    higher = neg_index\n",
    "    lower  = pos_index\n",
    "\n",
    "random.seed(0)\n",
    "\n",
    "# This will generate random number of entries\n",
    "higher = np.random.choice(higher, size=len(lower))  \n",
    "lower  = np.asarray(lower)        # to make lower the same array as higher\n",
    "new_indexes = np.concatenate((higher,lower))\n",
    "\n",
    "X_train = X_train.loc[new_indexes,]\n",
    "y_train = y_train.loc[new_indexes,]"
   ]
  },
  {
   "cell_type": "markdown",
   "metadata": {},
   "source": [
    "---\n",
    "Normalize the data for better fitting\n"
   ]
  },
  {
   "cell_type": "code",
   "execution_count": 30,
   "metadata": {},
   "outputs": [],
   "source": [
    "## Feature scaling (normalization)\n",
    "from sklearn.preprocessing import StandardScaler\n",
    "sc_X = StandardScaler()\n",
    "X_train2 = pd.DataFrame(sc_X.fit_transform(X_train))\n",
    "X_test2  = pd.DataFrame(sc_X.fit_transform(X_test))\n",
    "## Add columns for train2 and test2\n",
    "X_train2.columns = X_train.columns.values\n",
    "X_test2.columns  = X_test.columns.values\n",
    "\n",
    "X_train2.index = X_train.index.values\n",
    "X_test2.index = X_test.index.values\n",
    "\n",
    "X_train = X_train2\n",
    "X_test  = X_test2"
   ]
  },
  {
   "cell_type": "markdown",
   "metadata": {},
   "source": [
    "---\n",
    "Fitting a model - Using Logistic Regression"
   ]
  },
  {
   "cell_type": "code",
   "execution_count": 33,
   "metadata": {},
   "outputs": [
    {
     "name": "stderr",
     "output_type": "stream",
     "text": [
      "/Users/jameskw@us.ibm.com/anaconda3/lib/python3.7/site-packages/sklearn/linear_model/logistic.py:432: FutureWarning: Default solver will be changed to 'lbfgs' in 0.22. Specify a solver to silence this warning.\n",
      "  FutureWarning)\n"
     ]
    }
   ],
   "source": [
    "from sklearn.linear_model import LogisticRegression\n",
    "\n",
    "classifier=LogisticRegression(random_state=0)  # create a logistic Regression Model\n",
    "classifier.fit(X_train, y_train)               # fit the model with train data\n",
    "\n",
    "\n",
    "y_pred=classifier.predict(X_test)              # Use Test data to create a predicated data\n",
    "\n",
    "# To evaluate the results\n",
    "\n",
    "from sklearn.metrics import confusion_matrix, accuracy_score,f1_score, \\\n",
    "                            precision_score,recall_score\n",
    "\n",
    "cm=confusion_matrix(y_test,y_pred)          # confusion matrix\n",
    "accuracy = accuracy_score(y_test,y_pred)    # Accuracy score\n",
    "f1 = f1_score(y_test,y_pred)                # F1 score is similar to accuracy score\n",
    "precision = precision_score(y_test,y_pred)\n",
    "recall = recall_score(y_test,y_pred)\n"
   ]
  },
  {
   "cell_type": "code",
   "execution_count": 34,
   "metadata": {},
   "outputs": [
    {
     "name": "stdout",
     "output_type": "stream",
     "text": [
      "cm= [[ 952  702]\n",
      " [ 868 1060]]\n",
      "accuracy score= 0.5616973757677275\n",
      "f1 score= 0.5745257452574527\n",
      "precision score= 0.601589103291714\n",
      "recall score= 0.549792531120332\n"
     ]
    }
   ],
   "source": [
    "print('cm=',cm) \n",
    "print('accuracy score=', accuracy)\n",
    "print('f1 score=', f1)\n",
    "print('precision score=', precision)\n",
    "print('recall score=', recall)"
   ]
  },
  {
   "cell_type": "code",
   "execution_count": 35,
   "metadata": {},
   "outputs": [
    {
     "name": "stdout",
     "output_type": "stream",
     "text": [
      "Test Data Accuracy: 0.5617\n"
     ]
    },
    {
     "data": {
      "image/png": "[encoded data removed]",
      "text/plain": [
       "<Figure size 720x504 with 2 Axes>"
      ]
     },
     "metadata": {
      "needs_background": "light"
     },
     "output_type": "display_data"
    }
   ],
   "source": [
    "## create a heatmap \n",
    "df_cm=pd.DataFrame(cm, index=(0,1), columns =(0,1))\n",
    "plt.figure(figsize=(10,7))\n",
    "sn.set(font_scale=1.4)\n",
    "sn.heatmap(df_cm, annot=True, fmt='g')\n",
    "print(\"Test Data Accuracy: %0.4f\"% accuracy_score(y_test,y_pred))"
   ]
  },
  {
   "cell_type": "code",
   "execution_count": 36,
   "metadata": {},
   "outputs": [
    {
     "name": "stderr",
     "output_type": "stream",
     "text": [
      "/Users/jameskw@us.ibm.com/anaconda3/lib/python3.7/site-packages/sklearn/linear_model/logistic.py:432: FutureWarning: Default solver will be changed to 'lbfgs' in 0.22. Specify a solver to silence this warning.\n",
      "  FutureWarning)\n",
      "/Users/jameskw@us.ibm.com/anaconda3/lib/python3.7/site-packages/sklearn/linear_model/logistic.py:432: FutureWarning: Default solver will be changed to 'lbfgs' in 0.22. Specify a solver to silence this warning.\n",
      "  FutureWarning)\n",
      "/Users/jameskw@us.ibm.com/anaconda3/lib/python3.7/site-packages/sklearn/linear_model/logistic.py:432: FutureWarning: Default solver will be changed to 'lbfgs' in 0.22. Specify a solver to silence this warning.\n",
      "  FutureWarning)\n",
      "/Users/jameskw@us.ibm.com/anaconda3/lib/python3.7/site-packages/sklearn/linear_model/logistic.py:432: FutureWarning: Default solver will be changed to 'lbfgs' in 0.22. Specify a solver to silence this warning.\n",
      "  FutureWarning)\n",
      "/Users/jameskw@us.ibm.com/anaconda3/lib/python3.7/site-packages/sklearn/linear_model/logistic.py:432: FutureWarning: Default solver will be changed to 'lbfgs' in 0.22. Specify a solver to silence this warning.\n",
      "  FutureWarning)\n",
      "/Users/jameskw@us.ibm.com/anaconda3/lib/python3.7/site-packages/sklearn/linear_model/logistic.py:432: FutureWarning: Default solver will be changed to 'lbfgs' in 0.22. Specify a solver to silence this warning.\n",
      "  FutureWarning)\n",
      "/Users/jameskw@us.ibm.com/anaconda3/lib/python3.7/site-packages/sklearn/linear_model/logistic.py:432: FutureWarning: Default solver will be changed to 'lbfgs' in 0.22. Specify a solver to silence this warning.\n",
      "  FutureWarning)\n",
      "/Users/jameskw@us.ibm.com/anaconda3/lib/python3.7/site-packages/sklearn/linear_model/logistic.py:432: FutureWarning: Default solver will be changed to 'lbfgs' in 0.22. Specify a solver to silence this warning.\n",
      "  FutureWarning)\n",
      "/Users/jameskw@us.ibm.com/anaconda3/lib/python3.7/site-packages/sklearn/linear_model/logistic.py:432: FutureWarning: Default solver will be changed to 'lbfgs' in 0.22. Specify a solver to silence this warning.\n",
      "  FutureWarning)\n"
     ]
    },
    {
     "name": "stdout",
     "output_type": "stream",
     "text": [
      "Logistic Accuracy: 0.579 (+/- 0.019)\n"
     ]
    },
    {
     "name": "stderr",
     "output_type": "stream",
     "text": [
      "/Users/jameskw@us.ibm.com/anaconda3/lib/python3.7/site-packages/sklearn/linear_model/logistic.py:432: FutureWarning: Default solver will be changed to 'lbfgs' in 0.22. Specify a solver to silence this warning.\n",
      "  FutureWarning)\n"
     ]
    }
   ],
   "source": [
    "# cross validation \n",
    "from sklearn.model_selection import cross_val_score\n",
    "accuracies= cross_val_score(estimator=classifier, X=X_train, y=y_train, cv=10)\n",
    "print(\"Logistic Accuracy: %0.3f (+/- %0.3f)\" % (accuracies.mean(),accuracies.std() * 2))"
   ]
  },
  {
   "cell_type": "code",
   "execution_count": 37,
   "metadata": {},
   "outputs": [
    {
     "data": {
      "text/html": [
       "<div>\n",
       "<style scoped>\n",
       "    .dataframe tbody tr th:only-of-type {\n",
       "        vertical-align: middle;\n",
       "    }\n",
       "\n",
       "    .dataframe tbody tr th {\n",
       "        vertical-align: top;\n",
       "    }\n",
       "\n",
       "    .dataframe thead th {\n",
       "        text-align: right;\n",
       "    }\n",
       "</style>\n",
       "<table border=\"1\" class=\"dataframe\">\n",
       "  <thead>\n",
       "    <tr style=\"text-align: right;\">\n",
       "      <th></th>\n",
       "      <th>features</th>\n",
       "      <th>coef</th>\n",
       "    </tr>\n",
       "  </thead>\n",
       "  <tbody>\n",
       "    <tr>\n",
       "      <th>0</th>\n",
       "      <td>age</td>\n",
       "      <td>-0.254333</td>\n",
       "    </tr>\n",
       "    <tr>\n",
       "      <th>1</th>\n",
       "      <td>home_owner</td>\n",
       "      <td>-0.062032</td>\n",
       "    </tr>\n",
       "    <tr>\n",
       "      <th>2</th>\n",
       "      <td>income</td>\n",
       "      <td>0.062022</td>\n",
       "    </tr>\n",
       "    <tr>\n",
       "      <th>3</th>\n",
       "      <td>current_address_year</td>\n",
       "      <td>-0.012088</td>\n",
       "    </tr>\n",
       "    <tr>\n",
       "      <th>4</th>\n",
       "      <td>has_debt</td>\n",
       "      <td>0.076205</td>\n",
       "    </tr>\n",
       "    <tr>\n",
       "      <th>5</th>\n",
       "      <td>amount_requested</td>\n",
       "      <td>0.091326</td>\n",
       "    </tr>\n",
       "    <tr>\n",
       "      <th>6</th>\n",
       "      <td>risk_score</td>\n",
       "      <td>0.221950</td>\n",
       "    </tr>\n",
       "    <tr>\n",
       "      <th>7</th>\n",
       "      <td>risk_score_2</td>\n",
       "      <td>-0.000070</td>\n",
       "    </tr>\n",
       "    <tr>\n",
       "      <th>8</th>\n",
       "      <td>risk_score_3</td>\n",
       "      <td>-0.116577</td>\n",
       "    </tr>\n",
       "    <tr>\n",
       "      <th>9</th>\n",
       "      <td>risk_score_4</td>\n",
       "      <td>-0.006210</td>\n",
       "    </tr>\n",
       "    <tr>\n",
       "      <th>10</th>\n",
       "      <td>risk_score_5</td>\n",
       "      <td>0.053286</td>\n",
       "    </tr>\n",
       "    <tr>\n",
       "      <th>11</th>\n",
       "      <td>ext_quality_score</td>\n",
       "      <td>-0.071064</td>\n",
       "    </tr>\n",
       "    <tr>\n",
       "      <th>12</th>\n",
       "      <td>ext_quality_score_2</td>\n",
       "      <td>-0.021131</td>\n",
       "    </tr>\n",
       "    <tr>\n",
       "      <th>13</th>\n",
       "      <td>inquiries_last_month</td>\n",
       "      <td>0.002443</td>\n",
       "    </tr>\n",
       "    <tr>\n",
       "      <th>14</th>\n",
       "      <td>total_months_employed</td>\n",
       "      <td>0.029432</td>\n",
       "    </tr>\n",
       "    <tr>\n",
       "      <th>15</th>\n",
       "      <td>personal_account_t</td>\n",
       "      <td>-0.056315</td>\n",
       "    </tr>\n",
       "    <tr>\n",
       "      <th>16</th>\n",
       "      <td>pay_schedule_bi-weekly</td>\n",
       "      <td>-0.030371</td>\n",
       "    </tr>\n",
       "    <tr>\n",
       "      <th>17</th>\n",
       "      <td>pay_schedule_monthly</td>\n",
       "      <td>0.037739</td>\n",
       "    </tr>\n",
       "    <tr>\n",
       "      <th>18</th>\n",
       "      <td>pay_schedule_semi-monthly</td>\n",
       "      <td>0.057020</td>\n",
       "    </tr>\n",
       "    <tr>\n",
       "      <th>19</th>\n",
       "      <td>pay_schedule_weekly</td>\n",
       "      <td>-0.033859</td>\n",
       "    </tr>\n",
       "  </tbody>\n",
       "</table>\n",
       "</div>"
      ],
      "text/plain": [
       "                     features      coef\n",
       "0                         age -0.254333\n",
       "1                  home_owner -0.062032\n",
       "2                      income  0.062022\n",
       "3        current_address_year -0.012088\n",
       "4                    has_debt  0.076205\n",
       "5            amount_requested  0.091326\n",
       "6                  risk_score  0.221950\n",
       "7                risk_score_2 -0.000070\n",
       "8                risk_score_3 -0.116577\n",
       "9                risk_score_4 -0.006210\n",
       "10               risk_score_5  0.053286\n",
       "11          ext_quality_score -0.071064\n",
       "12        ext_quality_score_2 -0.021131\n",
       "13       inquiries_last_month  0.002443\n",
       "14      total_months_employed  0.029432\n",
       "15         personal_account_t -0.056315\n",
       "16     pay_schedule_bi-weekly -0.030371\n",
       "17       pay_schedule_monthly  0.037739\n",
       "18  pay_schedule_semi-monthly  0.057020\n",
       "19        pay_schedule_weekly -0.033859"
      ]
     },
     "execution_count": 37,
     "metadata": {},
     "output_type": "execute_result"
    }
   ],
   "source": [
    "# Analyzing Coefficients  = theta in the linear equation function?\n",
    "# higher coef values meaning more weight on the overall evaluation of the result.\n",
    "# eg purchases and purchases_partners\n",
    "\n",
    "\n",
    "pd.concat([pd.DataFrame(X_train.columns, columns = ['features']),\n",
    "           pd.DataFrame(np.transpose(classifier.coef_), columns=['coef'])],\n",
    "           axis = 1)"
   ]
  },
  {
   "cell_type": "code",
   "execution_count": 39,
   "metadata": {
    "scrolled": true
   },
   "outputs": [
    {
     "name": "stderr",
     "output_type": "stream",
     "text": [
      "/Users/jameskw@us.ibm.com/anaconda3/lib/python3.7/site-packages/sklearn/linear_model/logistic.py:432: FutureWarning: Default solver will be changed to 'lbfgs' in 0.22. Specify a solver to silence this warning.\n",
      "  FutureWarning)\n",
      "/Users/jameskw@us.ibm.com/anaconda3/lib/python3.7/site-packages/sklearn/linear_model/logistic.py:432: FutureWarning: Default solver will be changed to 'lbfgs' in 0.22. Specify a solver to silence this warning.\n",
      "  FutureWarning)\n",
      "/Users/jameskw@us.ibm.com/anaconda3/lib/python3.7/site-packages/sklearn/linear_model/logistic.py:432: FutureWarning: Default solver will be changed to 'lbfgs' in 0.22. Specify a solver to silence this warning.\n",
      "  FutureWarning)\n",
      "/Users/jameskw@us.ibm.com/anaconda3/lib/python3.7/site-packages/sklearn/linear_model/logistic.py:432: FutureWarning: Default solver will be changed to 'lbfgs' in 0.22. Specify a solver to silence this warning.\n",
      "  FutureWarning)\n",
      "/Users/jameskw@us.ibm.com/anaconda3/lib/python3.7/site-packages/sklearn/linear_model/logistic.py:432: FutureWarning: Default solver will be changed to 'lbfgs' in 0.22. Specify a solver to silence this warning.\n",
      "  FutureWarning)\n",
      "/Users/jameskw@us.ibm.com/anaconda3/lib/python3.7/site-packages/sklearn/linear_model/logistic.py:432: FutureWarning: Default solver will be changed to 'lbfgs' in 0.22. Specify a solver to silence this warning.\n",
      "  FutureWarning)\n",
      "/Users/jameskw@us.ibm.com/anaconda3/lib/python3.7/site-packages/sklearn/linear_model/logistic.py:432: FutureWarning: Default solver will be changed to 'lbfgs' in 0.22. Specify a solver to silence this warning.\n",
      "  FutureWarning)\n",
      "/Users/jameskw@us.ibm.com/anaconda3/lib/python3.7/site-packages/sklearn/linear_model/logistic.py:432: FutureWarning: Default solver will be changed to 'lbfgs' in 0.22. Specify a solver to silence this warning.\n",
      "  FutureWarning)\n",
      "/Users/jameskw@us.ibm.com/anaconda3/lib/python3.7/site-packages/sklearn/linear_model/logistic.py:432: FutureWarning: Default solver will be changed to 'lbfgs' in 0.22. Specify a solver to silence this warning.\n",
      "  FutureWarning)\n",
      "/Users/jameskw@us.ibm.com/anaconda3/lib/python3.7/site-packages/sklearn/linear_model/logistic.py:432: FutureWarning: Default solver will be changed to 'lbfgs' in 0.22. Specify a solver to silence this warning.\n",
      "  FutureWarning)\n",
      "/Users/jameskw@us.ibm.com/anaconda3/lib/python3.7/site-packages/sklearn/linear_model/logistic.py:432: FutureWarning: Default solver will be changed to 'lbfgs' in 0.22. Specify a solver to silence this warning.\n",
      "  FutureWarning)\n"
     ]
    }
   ],
   "source": [
    "## features Selection\n",
    "\n",
    "from sklearn.feature_selection import RFE     # What is RFE?\n",
    "from sklearn.linear_model import LogisticRegression\n",
    "\n",
    "classifier = LogisticRegression()  # Create a new classifier?\n",
    "rfe = RFE(classifier, 10)          # Will use 20 columns\n",
    "rfe = rfe.fit(X_train, y_train)"
   ]
  },
  {
   "cell_type": "code",
   "execution_count": null,
   "metadata": {},
   "outputs": [],
   "source": []
  },
  {
   "cell_type": "code",
   "execution_count": 40,
   "metadata": {},
   "outputs": [
    {
     "data": {
      "text/plain": [
       "Index(['age', 'home_owner', 'income', 'has_debt', 'amount_requested',\n",
       "       'risk_score', 'risk_score_3', 'ext_quality_score', 'personal_account_t',\n",
       "       'pay_schedule_semi-monthly'],\n",
       "      dtype='object')"
      ]
     },
     "execution_count": 40,
     "metadata": {},
     "output_type": "execute_result"
    }
   ],
   "source": [
    "pd.concat([pd.DataFrame(X_train.columns, columns = ['features']),\n",
    "           pd.DataFrame(np.transpose(rfe.support_), columns=['support'])],\n",
    "           axis = 1)\n",
    "X_train.columns[rfe.support_]"
   ]
  },
  {
   "cell_type": "markdown",
   "metadata": {},
   "source": [
    "---\n",
    "We can continue witht the sub columns but "
   ]
  },
  {
   "cell_type": "code",
   "execution_count": null,
   "metadata": {},
   "outputs": [],
   "source": []
  },
  {
   "cell_type": "code",
   "execution_count": 41,
   "metadata": {},
   "outputs": [
    {
     "name": "stdout",
     "output_type": "stream",
     "text": [
      "            age  home_owner    income  current_address_year  has_debt  \\\n",
      "11713  0.244208    1.150079 -1.174031             -0.574487  0.509431   \n",
      "13230 -1.265977   -0.869505  0.000723              0.520049  0.509431   \n",
      "12493 -1.014279    1.150079 -1.329562              2.344276  0.509431   \n",
      "10329 -1.685473   -0.869505 -1.250142             -0.209641  0.509431   \n",
      "9845   0.160309   -0.869505 -0.465869             -0.939332  0.509431   \n",
      "\n",
      "       amount_requested  risk_score  risk_score_2  risk_score_3  risk_score_4  \\\n",
      "11713         -0.063680   -0.445233     -0.937077     -2.219817      0.669471   \n",
      "13230         -0.491090    0.114655     -0.066601      0.069224     -0.071094   \n",
      "12493         -0.419855    0.980229     -0.488352      0.070042     -1.810397   \n",
      "10329         -0.206150   -0.129894     -0.831305     -0.626445     -0.203298   \n",
      "9845          -0.704795   -1.796688     -0.398186      0.253672      0.385388   \n",
      "\n",
      "       risk_score_5  ext_quality_score  ext_quality_score_2  \\\n",
      "11713     -1.370453          -0.885392            -0.884878   \n",
      "13230      0.018607           1.421830             0.694796   \n",
      "12493     -0.355688          -0.897470            -0.180011   \n",
      "10329     -1.272153          -0.618026            -0.618747   \n",
      "9845       0.222565          -1.449574            -1.446454   \n",
      "\n",
      "       inquiries_last_month  total_months_employed  personal_account_t  \\\n",
      "11713             -1.202515              -0.280989           -1.199358   \n",
      "13230             -0.662916              -0.469099            1.931906   \n",
      "12493             -0.123317               0.621942           -0.720971   \n",
      "10329              0.146483              -1.183920           -0.373052   \n",
      "9845               0.416283              -0.657210           -1.460297   \n",
      "\n",
      "       pay_schedule_bi-weekly  pay_schedule_monthly  \\\n",
      "11713                 0.81226             -0.301437   \n",
      "13230                 0.81226             -0.301437   \n",
      "12493                 0.81226             -0.301437   \n",
      "10329                 0.81226             -0.301437   \n",
      "9845                  0.81226             -0.301437   \n",
      "\n",
      "       pay_schedule_semi-monthly  pay_schedule_weekly  \n",
      "11713                  -0.356119            -0.502597  \n",
      "13230                  -0.356119            -0.502597  \n",
      "12493                  -0.356119            -0.502597  \n",
      "10329                  -0.356119            -0.502597  \n",
      "9845                   -0.356119            -0.502597  \n"
     ]
    }
   ],
   "source": [
    "#print(\"df1.head() : \\n\",df1.head())\n",
    "#print(\"df1.info()\",df1.info())\n",
    "#print(\"df1.describe()\\n\",df1.describe())\n",
    "#df1.dtypes==object\n",
    "#print(\"df1.columns : \\n\",df1.columns)\n",
    "#print(\"df1.columns type: \\n\",df1.dtypes)\n",
    "\n",
    "print(X_train[:5])\n",
    "#print(X_train.shape)\n",
    "#print(y_train.shape)\n",
    "\n",
    "#print(X_test.shape)\n",
    "#print(y_test.shape)\n",
    "\n",
    "#print(y_train.value_counts())\n",
    "#print(y_test.value_counts())\n",
    "\n",
    "#print(X_test.head())\n",
    "#print(y_train.head())\n",
    "#print(y_test.head())"
   ]
  },
  {
   "cell_type": "markdown",
   "metadata": {},
   "source": [
    "---\n",
    "Since the result of the logistic is not very good, lets try another fitting model.\n"
   ]
  },
  {
   "cell_type": "code",
   "execution_count": null,
   "metadata": {},
   "outputs": [],
   "source": [
    "from sklearn.linear_model import LogisticRegression\n",
    "\n",
    "classifier=LogisticRegression(random_state=0)  # create a logistic Regression Model\n",
    "classifier.fit(X_train, y_train)               # fit the model with train data\n",
    "\n",
    "\n",
    "y_pred=classifier.predict(X_test)              # Use Test data to create a predicated data\n",
    "\n",
    "# To evaluate the results\n",
    "\n",
    "from sklearn.metrics import confusion_matrix, accuracy_score,f1_score, \\\n",
    "                            precision_score,recall_score\n",
    "\n",
    "cm=confusion_matrix(y_test,y_pred)          # confusion matrix\n",
    "accuracy = accuracy_score(y_test,y_pred)    # Accuracy score\n",
    "f1 = f1_score(y_test,y_pred)                # F1 score is similar to accuracy score\n",
    "precision = precision_score(y_test,y_pred)\n",
    "recall = recall_score(y_test,y_pred)\n"
   ]
  },
  {
   "cell_type": "code",
   "execution_count": 42,
   "metadata": {},
   "outputs": [],
   "source": [
    "from sklearn.neural_network import ML"
   ]
  },
  {
   "cell_type": "code",
   "execution_count": 43,
   "metadata": {},
   "outputs": [
    {
     "data": {
      "text/plain": [
       "Ridge(alpha=0.5, copy_X=True, fit_intercept=True, max_iter=None,\n",
       "      normalize=False, random_state=None, solver='auto', tol=0.001)"
      ]
     },
     "execution_count": 43,
     "metadata": {},
     "output_type": "execute_result"
    }
   ],
   "source": [
    "reg=Ridge(alpha=0.5)\n",
    "reg.fit(X_train, y_train)"
   ]
  },
  {
   "cell_type": "code",
   "execution_count": 48,
   "metadata": {},
   "outputs": [
    {
     "data": {
      "text/plain": [
       "array([0.61737993, 0.58198776, 0.62974948, ..., 0.46998921, 0.5646945 ,\n",
       "       0.5205735 ])"
      ]
     },
     "execution_count": 48,
     "metadata": {},
     "output_type": "execute_result"
    }
   ],
   "source": [
    "reg.predict(X_test)\n"
   ]
  },
  {
   "cell_type": "code",
   "execution_count": 51,
   "metadata": {},
   "outputs": [
    {
     "data": {
      "text/plain": [
       "0.016692736976650635"
      ]
     },
     "execution_count": 51,
     "metadata": {},
     "output_type": "execute_result"
    }
   ],
   "source": [
    "reg.score(X_test, y_test)"
   ]
  },
  {
   "cell_type": "code",
   "execution_count": null,
   "metadata": {},
   "outputs": [],
   "source": []
  }
 ],
 "metadata": {
  "kernelspec": {
   "display_name": "Python 3",
   "language": "python",
   "name": "python3"
  },
  "language_info": {
   "codemirror_mode": {
    "name": "ipython",
    "version": 3
   },
   "file_extension": ".py",
   "mimetype": "text/x-python",
   "name": "python",
   "nbconvert_exporter": "python",
   "pygments_lexer": "ipython3",
   "version": "3.7.3"
  }
 },
 "nbformat": 4,
 "nbformat_minor": 2
}
