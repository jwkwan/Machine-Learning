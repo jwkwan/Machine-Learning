{
    "nbformat_minor": 1, 
    "cells": [
        {
            "source": "# This is a heading", 
            "cell_type": "markdown", 
            "metadata": {
                "collapsed": true
            }
        }, 
        {
            "source": "This is a markdown.\n", 
            "cell_type": "markdown", 
            "metadata": {}
        }, 
        {
            "source": "This is a Raw NBConvert", 
            "cell_type": "raw", 
            "metadata": {}
        }, 
        {
            "source": "#this is code \nprint(\"hello\")", 
            "cell_type": "code", 
            "metadata": {}, 
            "outputs": [
                {
                    "output_type": "stream", 
                    "name": "stdout", 
                    "text": "hello\n"
                }
            ], 
            "execution_count": 1
        }, 
        {
            "source": "#this is a csv import test\nimport csv\nwith open('ENHANCED_CUSTOMERS.csv', 'r+', newline='') as csv_file:\n    reader = csv.reader(csv_file)\n    for row in reader:\n        print(str(row))\n        ", 
            "cell_type": "code", 
            "metadata": {}, 
            "outputs": [
                {
                    "output_type": "error", 
                    "evalue": "[Errno 2] No such file or directory: 'ENHANCED_CUSTOMERS.csv'", 
                    "traceback": [
                        "\u001b[0;31m---------------------------------------------------------------------------\u001b[0m", 
                        "\u001b[0;31mFileNotFoundError\u001b[0m                         Traceback (most recent call last)", 
                        "\u001b[0;32m<ipython-input-8-df2236e2277c>\u001b[0m in \u001b[0;36m<module>\u001b[0;34m()\u001b[0m\n\u001b[1;32m      1\u001b[0m \u001b[0;31m#this is a csv import test\u001b[0m\u001b[0;34m\u001b[0m\u001b[0;34m\u001b[0m\u001b[0m\n\u001b[1;32m      2\u001b[0m \u001b[0;32mimport\u001b[0m \u001b[0mcsv\u001b[0m\u001b[0;34m\u001b[0m\u001b[0m\n\u001b[0;32m----> 3\u001b[0;31m \u001b[0;32mwith\u001b[0m \u001b[0mopen\u001b[0m\u001b[0;34m(\u001b[0m\u001b[0;34m'ENHANCED_CUSTOMERS.csv'\u001b[0m\u001b[0;34m,\u001b[0m \u001b[0;34m'r+'\u001b[0m\u001b[0;34m,\u001b[0m \u001b[0mnewline\u001b[0m\u001b[0;34m=\u001b[0m\u001b[0;34m''\u001b[0m\u001b[0;34m)\u001b[0m \u001b[0;32mas\u001b[0m \u001b[0mcsv_file\u001b[0m\u001b[0;34m:\u001b[0m\u001b[0;34m\u001b[0m\u001b[0m\n\u001b[0m\u001b[1;32m      4\u001b[0m     \u001b[0mreader\u001b[0m \u001b[0;34m=\u001b[0m \u001b[0mcsv\u001b[0m\u001b[0;34m.\u001b[0m\u001b[0mreader\u001b[0m\u001b[0;34m(\u001b[0m\u001b[0mcsv_file\u001b[0m\u001b[0;34m)\u001b[0m\u001b[0;34m\u001b[0m\u001b[0m\n\u001b[1;32m      5\u001b[0m     \u001b[0;32mfor\u001b[0m \u001b[0mrow\u001b[0m \u001b[0;32min\u001b[0m \u001b[0mreader\u001b[0m\u001b[0;34m:\u001b[0m\u001b[0;34m\u001b[0m\u001b[0m\n", 
                        "\u001b[0;31mFileNotFoundError\u001b[0m: [Errno 2] No such file or directory: 'ENHANCED_CUSTOMERS.csv'"
                    ], 
                    "ename": "FileNotFoundError"
                }
            ], 
            "execution_count": 8
        }, 
        {
            "source": "\nimport types\nimport pandas as pd\nfrom botocore.client import Config\nimport ibm_boto3\n\ndef __iter__(self): return 0\n\n# @hidden_cell\n# The following code accesses a file in your IBM Cloud Object Storage. It includes your credentials.\n# You might want to remove those credentials before you share your notebook.\nclient_119a29093d1b425b96232f0c99d8561e = ibm_boto3.client(service_name='s3',\n    ibm_api_key_id='KMO9mh0sQ4RRtt5dcaTtnO5wYJpof98mwL5DjIpZnJfn',\n    ibm_auth_endpoint=\"https://iam.ng.bluemix.net/oidc/token\",\n    config=Config(signature_version='oauth'),\n    endpoint_url='https://s3.us-south.objectstorage.service.networklayer.com')\n\nbody = client_119a29093d1b425b96232f0c99d8561e.get_object(Bucket='mywatsoncatalog-datacatalog-hkgssmjo4',Key='data_asset/ENHANCED_CUSTOMERS_ByNWA7io4.csv')['Body']\n# add missing __iter__ method, so pandas accepts body as file-like object\nif not hasattr(body, \"__iter__\"): body.__iter__ = types.MethodType( __iter__, body )\n\ndf_data_1 = pd.read_csv(body)\ndf_data_1.head()\n", 
            "cell_type": "code", 
            "metadata": {}, 
            "outputs": [
                {
                    "output_type": "execute_result", 
                    "data": {
                        "text/html": "<div>\n<style scoped>\n    .dataframe tbody tr th:only-of-type {\n        vertical-align: middle;\n    }\n\n    .dataframe tbody tr th {\n        vertical-align: top;\n    }\n\n    .dataframe thead th {\n        text-align: right;\n    }\n</style>\n<table border=\"1\" class=\"dataframe\">\n  <thead>\n    <tr style=\"text-align: right;\">\n      <th></th>\n      <th>PHASE</th>\n      <th>ID</th>\n      <th>GENDER</th>\n      <th>STATUS</th>\n      <th>CHILDREN</th>\n      <th>ESTINCOME</th>\n      <th>CAROWNER</th>\n      <th>AGE</th>\n      <th>LONGDISTANCE</th>\n      <th>INTERNATIONAL</th>\n      <th>LOCAL</th>\n      <th>DROPPED</th>\n      <th>PAYMETHOD</th>\n      <th>LOCALBILLTYPE</th>\n      <th>LONGDISTANCEBILLTYPE</th>\n      <th>USAGE</th>\n      <th>RATEPLAN</th>\n    </tr>\n  </thead>\n  <tbody>\n    <tr>\n      <th>0</th>\n      <td>Adult</td>\n      <td>6</td>\n      <td>M</td>\n      <td>M</td>\n      <td>2</td>\n      <td>29616.0</td>\n      <td>N</td>\n      <td>49.426667</td>\n      <td>29.0</td>\n      <td>0.0</td>\n      <td>45.0</td>\n      <td>0</td>\n      <td>CH</td>\n      <td>FreeLocal</td>\n      <td>Standard</td>\n      <td>75.0</td>\n      <td>2</td>\n    </tr>\n    <tr>\n      <th>1</th>\n      <td>Adult</td>\n      <td>8</td>\n      <td>M</td>\n      <td>M</td>\n      <td>0</td>\n      <td>19732.8</td>\n      <td>N</td>\n      <td>50.673333</td>\n      <td>24.0</td>\n      <td>0.0</td>\n      <td>22.0</td>\n      <td>0</td>\n      <td>CC</td>\n      <td>FreeLocal</td>\n      <td>Standard</td>\n      <td>47.0</td>\n      <td>3</td>\n    </tr>\n    <tr>\n      <th>2</th>\n      <td>Adult</td>\n      <td>18</td>\n      <td>M</td>\n      <td>M</td>\n      <td>1</td>\n      <td>75004.5</td>\n      <td>N</td>\n      <td>64.800000</td>\n      <td>26.0</td>\n      <td>0.0</td>\n      <td>32.0</td>\n      <td>0</td>\n      <td>CC</td>\n      <td>Budget</td>\n      <td>Intnl_discount</td>\n      <td>58.0</td>\n      <td>1</td>\n    </tr>\n    <tr>\n      <th>3</th>\n      <td>Adult</td>\n      <td>22</td>\n      <td>M</td>\n      <td>S</td>\n      <td>1</td>\n      <td>57626.9</td>\n      <td>Y</td>\n      <td>43.906667</td>\n      <td>9.0</td>\n      <td>0.0</td>\n      <td>38.0</td>\n      <td>0</td>\n      <td>CC</td>\n      <td>Budget</td>\n      <td>Standard</td>\n      <td>48.0</td>\n      <td>2</td>\n    </tr>\n    <tr>\n      <th>4</th>\n      <td>Adult</td>\n      <td>23</td>\n      <td>M</td>\n      <td>M</td>\n      <td>2</td>\n      <td>20078.0</td>\n      <td>N</td>\n      <td>32.846667</td>\n      <td>9.0</td>\n      <td>0.0</td>\n      <td>6.0</td>\n      <td>0</td>\n      <td>CC</td>\n      <td>Budget</td>\n      <td>Intnl_discount</td>\n      <td>15.0</td>\n      <td>4</td>\n    </tr>\n  </tbody>\n</table>\n</div>", 
                        "text/plain": "   PHASE  ID GENDER STATUS  CHILDREN  ESTINCOME CAROWNER        AGE  \\\n0  Adult   6      M      M         2    29616.0        N  49.426667   \n1  Adult   8      M      M         0    19732.8        N  50.673333   \n2  Adult  18      M      M         1    75004.5        N  64.800000   \n3  Adult  22      M      S         1    57626.9        Y  43.906667   \n4  Adult  23      M      M         2    20078.0        N  32.846667   \n\n   LONGDISTANCE  INTERNATIONAL  LOCAL  DROPPED PAYMETHOD LOCALBILLTYPE  \\\n0          29.0            0.0   45.0        0        CH     FreeLocal   \n1          24.0            0.0   22.0        0        CC     FreeLocal   \n2          26.0            0.0   32.0        0        CC        Budget   \n3           9.0            0.0   38.0        0        CC        Budget   \n4           9.0            0.0    6.0        0        CC        Budget   \n\n  LONGDISTANCEBILLTYPE  USAGE  RATEPLAN  \n0             Standard   75.0         2  \n1             Standard   47.0         3  \n2       Intnl_discount   58.0         1  \n3             Standard   48.0         2  \n4       Intnl_discount   15.0         4  "
                    }, 
                    "execution_count": 17, 
                    "metadata": {}
                }
            ], 
            "execution_count": 17
        }, 
        {
            "source": "\nfor row in df_data_1:\n    print (row)", 
            "cell_type": "code", 
            "metadata": {}, 
            "outputs": [
                {
                    "output_type": "stream", 
                    "name": "stdout", 
                    "text": "PHASE\nID\nGENDER\nSTATUS\nCHILDREN\nESTINCOME\nCAROWNER\nAGE\nLONGDISTANCE\nINTERNATIONAL\nLOCAL\nDROPPED\nPAYMETHOD\nLOCALBILLTYPE\nLONGDISTANCEBILLTYPE\nUSAGE\nRATEPLAN\n"
                }
            ], 
            "execution_count": 19
        }, 
        {
            "source": "", 
            "cell_type": "code", 
            "metadata": {}, 
            "outputs": [], 
            "execution_count": null
        }, 
        {
            "source": "", 
            "cell_type": "code", 
            "metadata": {}, 
            "outputs": [], 
            "execution_count": null
        }
    ], 
    "metadata": {
        "kernelspec": {
            "display_name": "Python 3.5", 
            "name": "python3", 
            "language": "python"
        }, 
        "language_info": {
            "mimetype": "text/x-python", 
            "nbconvert_exporter": "python", 
            "version": "3.5.5", 
            "name": "python", 
            "pygments_lexer": "ipython3", 
            "file_extension": ".py", 
            "codemirror_mode": {
                "version": 3, 
                "name": "ipython"
            }
        }
    }, 
    "nbformat": 4
}